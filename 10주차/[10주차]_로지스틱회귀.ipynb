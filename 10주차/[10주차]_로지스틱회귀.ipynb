{
 "cells": [
  {
   "cell_type": "code",
   "execution_count": 1,
   "metadata": {
    "id": "hySJUuKiiarH"
   },
   "outputs": [],
   "source": [
    "url =  'https://raw.githubusercontent.com/leekyuyoung202306/PYTHON/main/10%EC%A3%BC%EC%B0%A8/data.csv'"
   ]
  },
  {
   "cell_type": "code",
   "execution_count": 2,
   "metadata": {
    "id": "LEVyi_1qlkXE"
   },
   "outputs": [],
   "source": [
    "import pandas as pd\n",
    "import numpy as np\n",
    "import matplotlib.pyplot as plt\n",
    "import seaborn as sns"
   ]
  },
  {
   "cell_type": "code",
   "execution_count": 3,
   "metadata": {
    "id": "CzbIVD71l0cl"
   },
   "outputs": [],
   "source": [
    "# 1. 데이터 읽기\n",
    "# 2. Species 의 종류는 몇가지 인지?"
   ]
  },
  {
   "cell_type": "code",
   "execution_count": 4,
   "metadata": {
    "colab": {
     "base_uri": "https://localhost:8080/",
     "height": 206
    },
    "id": "gyzfcxAvmDOy",
    "outputId": "6e27ba19-b703-467c-ca38-37e54c2c523e"
   },
   "outputs": [
    {
     "data": {
      "text/html": [
       "<div>\n",
       "<style scoped>\n",
       "    .dataframe tbody tr th:only-of-type {\n",
       "        vertical-align: middle;\n",
       "    }\n",
       "\n",
       "    .dataframe tbody tr th {\n",
       "        vertical-align: top;\n",
       "    }\n",
       "\n",
       "    .dataframe thead th {\n",
       "        text-align: right;\n",
       "    }\n",
       "</style>\n",
       "<table border=\"1\" class=\"dataframe\">\n",
       "  <thead>\n",
       "    <tr style=\"text-align: right;\">\n",
       "      <th></th>\n",
       "      <th>Species</th>\n",
       "      <th>Weight</th>\n",
       "      <th>Length</th>\n",
       "      <th>Diagonal</th>\n",
       "      <th>Height</th>\n",
       "      <th>Width</th>\n",
       "    </tr>\n",
       "  </thead>\n",
       "  <tbody>\n",
       "    <tr>\n",
       "      <th>0</th>\n",
       "      <td>A</td>\n",
       "      <td>242.0</td>\n",
       "      <td>25.4</td>\n",
       "      <td>30.0</td>\n",
       "      <td>11.5200</td>\n",
       "      <td>4.0200</td>\n",
       "    </tr>\n",
       "    <tr>\n",
       "      <th>1</th>\n",
       "      <td>A</td>\n",
       "      <td>290.0</td>\n",
       "      <td>26.3</td>\n",
       "      <td>31.2</td>\n",
       "      <td>12.4800</td>\n",
       "      <td>4.3056</td>\n",
       "    </tr>\n",
       "    <tr>\n",
       "      <th>2</th>\n",
       "      <td>A</td>\n",
       "      <td>340.0</td>\n",
       "      <td>26.5</td>\n",
       "      <td>31.1</td>\n",
       "      <td>12.3778</td>\n",
       "      <td>4.6961</td>\n",
       "    </tr>\n",
       "    <tr>\n",
       "      <th>3</th>\n",
       "      <td>A</td>\n",
       "      <td>363.0</td>\n",
       "      <td>29.0</td>\n",
       "      <td>33.5</td>\n",
       "      <td>12.7300</td>\n",
       "      <td>4.4555</td>\n",
       "    </tr>\n",
       "    <tr>\n",
       "      <th>4</th>\n",
       "      <td>A</td>\n",
       "      <td>430.0</td>\n",
       "      <td>29.0</td>\n",
       "      <td>34.0</td>\n",
       "      <td>12.4440</td>\n",
       "      <td>5.1340</td>\n",
       "    </tr>\n",
       "  </tbody>\n",
       "</table>\n",
       "</div>"
      ],
      "text/plain": [
       "  Species  Weight  Length  Diagonal   Height   Width\n",
       "0       A   242.0    25.4      30.0  11.5200  4.0200\n",
       "1       A   290.0    26.3      31.2  12.4800  4.3056\n",
       "2       A   340.0    26.5      31.1  12.3778  4.6961\n",
       "3       A   363.0    29.0      33.5  12.7300  4.4555\n",
       "4       A   430.0    29.0      34.0  12.4440  5.1340"
      ]
     },
     "execution_count": 4,
     "metadata": {},
     "output_type": "execute_result"
    }
   ],
   "source": [
    "df = pd.read_csv(url)\n",
    "df.head()"
   ]
  },
  {
   "cell_type": "code",
   "execution_count": 5,
   "metadata": {
    "colab": {
     "base_uri": "https://localhost:8080/"
    },
    "id": "gsUhwQ57mXro",
    "outputId": "8e56f315-0c1f-427e-c706-d1506e8e9980"
   },
   "outputs": [
    {
     "data": {
      "text/plain": [
       "E    56\n",
       "A    35\n",
       "B    20\n",
       "F    17\n",
       "G    14\n",
       "D    11\n",
       "C     6\n",
       "Name: Species, dtype: int64"
      ]
     },
     "execution_count": 5,
     "metadata": {},
     "output_type": "execute_result"
    }
   ],
   "source": [
    "df['Species'].value_counts()"
   ]
  },
  {
   "cell_type": "code",
   "execution_count": 6,
   "metadata": {
    "colab": {
     "base_uri": "https://localhost:8080/",
     "height": 467
    },
    "id": "zpOMHAlOmpqN",
    "outputId": "7b6cbeeb-5f50-4c2d-fe25-868420e6bc95"
   },
   "outputs": [
    {
     "data": {
      "text/plain": [
       "<matplotlib.axes._subplots.AxesSubplot at 0x1be21a783d0>"
      ]
     },
     "execution_count": 6,
     "metadata": {},
     "output_type": "execute_result"
    },
    {
     "data": {
      "image/png": "[encoded data removed]",
      "text/plain": [
       "<Figure size 432x288 with 1 Axes>"
      ]
     },
     "metadata": {
      "needs_background": "light"
     },
     "output_type": "display_data"
    }
   ],
   "source": [
    "sns.countplot(data=df,x='Species')"
   ]
  },
  {
   "cell_type": "code",
   "execution_count": 7,
   "metadata": {
    "id": "IVVyj4X9muab"
   },
   "outputs": [],
   "source": [
    "# 학습데이터, 정답을 분류"
   ]
  },
  {
   "cell_type": "code",
   "execution_count": 8,
   "metadata": {
    "id": "-9Q_yGlrnUNc"
   },
   "outputs": [],
   "source": [
    "X = df.iloc[:,1:].to_numpy()\n",
    "y = df['Species'].to_numpy()"
   ]
  },
  {
   "cell_type": "code",
   "execution_count": 9,
   "metadata": {
    "colab": {
     "base_uri": "https://localhost:8080/"
    },
    "id": "5l5SJFjXnrX2",
    "outputId": "c930a720-ac4f-4601-ca99-afcc975d166c"
   },
   "outputs": [
    {
     "data": {
      "text/plain": [
       "array([[242.    ,  25.4   ,  30.    ,  11.52  ,   4.02  ],\n",
       "       [290.    ,  26.3   ,  31.2   ,  12.48  ,   4.3056],\n",
       "       [340.    ,  26.5   ,  31.1   ,  12.3778,   4.6961]])"
      ]
     },
     "execution_count": 9,
     "metadata": {},
     "output_type": "execute_result"
    }
   ],
   "source": [
    "X[:3]"
   ]
  },
  {
   "cell_type": "code",
   "execution_count": 10,
   "metadata": {
    "colab": {
     "base_uri": "https://localhost:8080/"
    },
    "id": "CSqb6qfynxeJ",
    "outputId": "b0cd7a22-8420-4c13-f0ee-335e44f1d145"
   },
   "outputs": [
    {
     "data": {
      "text/plain": [
       "array(['A', 'A', 'A'], dtype=object)"
      ]
     },
     "execution_count": 10,
     "metadata": {},
     "output_type": "execute_result"
    }
   ],
   "source": [
    "y[:3]"
   ]
  },
  {
   "cell_type": "code",
   "execution_count": 11,
   "metadata": {
    "id": "nBX6q1czn2fv"
   },
   "outputs": [],
   "source": [
    "# 학습용,테스트용 데이터 분리\n",
    "from sklearn.model_selection import train_test_split\n",
    "x_train,x_test,y_train,y_test = train_test_split(X,y,random_state=42)"
   ]
  },
  {
   "cell_type": "code",
   "execution_count": 12,
   "metadata": {
    "id": "3xk7atCnomCB"
   },
   "outputs": [],
   "source": [
    "# StandardSacler를 이용한 표준화\n",
    "from sklearn.preprocessing import StandardScaler\n",
    "ss = StandardScaler()\n",
    "ss.fit(x_train)\n",
    "x_train_scaled = ss.transform(x_train)\n",
    "x_test_scaled = ss.transform(x_test)"
   ]
  },
  {
   "cell_type": "code",
   "execution_count": 13,
   "metadata": {
    "colab": {
     "base_uri": "https://localhost:8080/"
    },
    "id": "NGaDKJ2epIDn",
    "outputId": "5514d741-47ab-40c6-95f1-205dd7484533"
   },
   "outputs": [
    {
     "data": {
      "text/plain": [
       "(0.8823529411764706, 0.85)"
      ]
     },
     "execution_count": 13,
     "metadata": {},
     "output_type": "execute_result"
    }
   ],
   "source": [
    "# 분류 알고리즘 : k 최근접 이웃 알고리즘\n",
    "from sklearn.neighbors import KNeighborsClassifier\n",
    "knc = KNeighborsClassifier(n_neighbors=3)\n",
    "knc.fit(x_train_scaled,y_train)\n",
    "\n",
    "# 평가 : 성능, 과적합\n",
    "knc.score(x_train_scaled,y_train), knc.score(x_test_scaled, y_test)"
   ]
  },
  {
   "cell_type": "code",
   "execution_count": 14,
   "metadata": {
    "colab": {
     "base_uri": "https://localhost:8080/"
    },
    "id": "4OO-uZmFp6mM",
    "outputId": "df5f9f4d-8d5d-4fc0-9e82-a3b5519887e3"
   },
   "outputs": [
    {
     "data": {
      "text/plain": [
       "array([[-0.88741352, -0.91804565, -1.03098914, -0.90464451, -0.80762518],\n",
       "       [-1.06924656, -1.50842035, -1.54345461, -1.58849582, -1.93803151],\n",
       "       [-0.54401367,  0.35641402,  0.30663259, -0.8135697 , -0.65388895],\n",
       "       [-0.34698097, -0.23396068, -0.22320459, -0.11905019, -0.12233464],\n",
       "       [-0.68475132, -0.51509149, -0.58801052, -0.8998784 , -0.50124996]])"
      ]
     },
     "execution_count": 14,
     "metadata": {},
     "output_type": "execute_result"
    }
   ],
   "source": [
    "# 예측( 테스트데이터)\n",
    "x_test_scaled[:5]"
   ]
  },
  {
   "cell_type": "code",
   "execution_count": 15,
   "metadata": {
    "colab": {
     "base_uri": "https://localhost:8080/"
    },
    "id": "FNFR5P78q42L",
    "outputId": "2bd825f6-7b70-4683-9482-b70f5478c0a1"
   },
   "outputs": [
    {
     "data": {
      "text/plain": [
       "(array(['E', 'B', 'E', 'D', 'E'], dtype=object),\n",
       " array(['E', 'B', 'B', 'D', 'E'], dtype=object))"
      ]
     },
     "execution_count": 15,
     "metadata": {},
     "output_type": "execute_result"
    }
   ],
   "source": [
    "# 예측결과를 바로 알려줌\n",
    "knc.predict(x_test_scaled[-5:]) , y_test[-5:]"
   ]
  },
  {
   "cell_type": "code",
   "execution_count": 16,
   "metadata": {
    "colab": {
     "base_uri": "https://localhost:8080/"
    },
    "id": "1k4tefSRq-Nl",
    "outputId": "4aa64edf-e74d-4590-9b5b-ab8c03cb42cc"
   },
   "outputs": [
    {
     "data": {
      "text/plain": [
       "array(['A', 'B', 'C', 'D', 'E', 'F', 'G'], dtype=object)"
      ]
     },
     "execution_count": 16,
     "metadata": {},
     "output_type": "execute_result"
    }
   ],
   "source": [
    "# 예측을 확률로 표현\n",
    "knc.classes_"
   ]
  },
  {
   "cell_type": "code",
   "execution_count": 17,
   "metadata": {
    "colab": {
     "base_uri": "https://localhost:8080/"
    },
    "id": "fxzW1Rsyrgsz",
    "outputId": "b918b242-632e-4d7e-eddd-aaaf218eac63"
   },
   "outputs": [
    {
     "data": {
      "text/plain": [
       "array([[0.        , 0.33333333, 0.        , 0.        , 0.66666667,\n",
       "        0.        , 0.        ],\n",
       "       [0.        , 0.66666667, 0.        , 0.        , 0.33333333,\n",
       "        0.        , 0.        ],\n",
       "       [0.        , 0.33333333, 0.        , 0.        , 0.66666667,\n",
       "        0.        , 0.        ],\n",
       "       [0.        , 0.        , 0.        , 1.        , 0.        ,\n",
       "        0.        , 0.        ],\n",
       "       [0.        , 0.        , 0.        , 0.        , 1.        ,\n",
       "        0.        , 0.        ]])"
      ]
     },
     "execution_count": 17,
     "metadata": {},
     "output_type": "execute_result"
    }
   ],
   "source": [
    "knc.predict_proba(x_test_scaled[-5:])"
   ]
  },
  {
   "cell_type": "markdown",
   "metadata": {
    "id": "J0z7zuF7sSIb"
   },
   "source": [
    "로지스틱 회귀\n",
    "  - 분류문제에 사용되는 통계적 기법\n",
    "  - 이진분류, 다중분류\n",
    "  - 선형회귀의 값을 로지스틱함수(시그모이드함수) 를 통과한 값\n",
    "  - z = b0 + b1*x1 + b2*x2 ....\n",
    "  - b0,b1 가중치 ,x1,x2는 입력변수\n",
    "  - 0과 1사이의 확률 값으로 변환, 특정 임계값을 기준으로 클래스를 분류"
   ]
  },
  {
   "cell_type": "markdown",
   "metadata": {
    "id": "M2iEGSIIs8En"
   },
   "source": [
    "![image.png](data:image/png;base64,iVBORw0KGgoAAAANSUhEUgAAAMIAAABBCAYAAACDxXtHAAAIKklEQVR4Ae1cO2sibRTef2WVQgKBDxYWF1YLCWwIYmCJBJIUpplqmrHYCLJFQELYIkyhgWDAEBDEQizUQouNEBIQQRgsxsZ0z8c7o2acm47XiXOKIWOcy3suz3nOOe9JvgwG76CDdOB1H/jidQWQ/BQEmA8QEIgRKSMgIFA0JEZUfYAYgRiBGIEYgRiBGIEYgSIhseHYByg1ImcYO4OX2YGAQEAgIFCNQDWCl1lAKzsxAjECMQIxAjGCNip6+ZwYgRiBGIEYgRjByyyglZ0YgRiBGIEYgRhBGxW9fE6MQIxAjECMQIzgZRbQyk6MQIxAjECMQIygjYpePidGIEYgRiBGIEbYCAt0upBcFoCIEVxmkI045lp00MVz6REid47/9lKoruWdswc6AoLLDLK9QHiHLPUgv+Vw7CcgOMhH+5Dk2RHtXgfqQ54bbNuiA40dCQgaZUx1jDae4jzu3pzc49JrKykkKvOurYeqcI5kpecggMz7rjXd5ykg1EUchMLY8QfgGx673yMID3+38zWC08sKOqaA6KMqRBDPdz+P8VsFPFg560JAYM75AvHwfDuCArO3p4AwdPCqEITPH4HY0kWbt0fE9wLYOcoZwVC/wo/9LF5NQaJ7zgavkZoVFDPX4GM/sesP4DjTNgfuwkB4x6B+hW9mutqg/HOnot4DQht3hwH4TDsEbdwdMbYII13XOncXD7EATu/dzwYMCOVSA6/NLI5XDQTGCvtB8IW+Odg+EyA8BwSpgDhLi7iSSbH4AjHEgKBjC0VJHJ4kLThcfq6secWMMHjH803EQpcu148epJ4DQiWl1AjHGZPo3srigIFElwJJeQ6+Q6u0qI/XegXVpvF5srTBSDk3EFR5yvX2OFBIzRrYZ9O0Q9Hnb5T1jvVpPr/gSUghcRbBjj+IKJdC8rbmmo21le0jNC7DxoivGI2lRUH49i7woOsKVYUAfELNxBHaeDjjkM4/IhEKgstruijNa/zw/zLWIetykHmAINWQjgkQ8xUU/5xj90jEncAheV+CeBbGjz//jDpQ3nOyPUXzuuwz43tWBIRRDfALcSGF5PgQcPw1jCj/iIYh/VHvCd+8GJxAyvPgC8z5a0jsBXBw+3GNkjL47SPl8+05wiHWtZrxOMrieUYFql0QJ6lRF09xAcWR/EMgKTKxotgfwI5pMKgh4Q9Mb8VKJSRmlXN4XULR7SdLsWa1z4zXrQYIo/oglsOr1IOkOaw3l1QgGLsvfZSFK2VLXi4I2JmI/j08nQXgOytsjmKdMoJUQvJGE/GVlGdUK3VRzpgFCeakKhC2omCe0TlNU8QV3bsaIAzrg+itRb5rKowVEEaRqo8yF5ysK+QSeH8Azt4zet6SfjoFgk52hdFMO2v69alAMK25dM9chQON9oPc9nNZsq4ECGp9oG+N6g2r/zwNCGpaNJE6KYCb4T3yJCtpGcr83EHxvRAQVJnNO2t6/cyYGg3UmR5zuSz0sBWjLHp9Ofu8AiDY7R/YLa6PImeVH492JCdzZLU+EFCcYki5VUO5xPr+sx7/Zk+1nAJBakA84/C33sdgmEJq00FWD03urQx1prBfEMmp4xpdNGaWU9VH9c0B8Ifs0+kYu3fLis6beM7ygdB5xClrjc6RtytMYnVfh00taoAg1ZD4Pt97lqroIRAs0zPdznIncw6fX+18yXleGUEZzyIxmWKieaH+lkXUv+E9ls4/lO9F8Edhi4LeLtAt47s2GpUXJUhJHU3ncAmp4fKA0BQRDanjBqM8ks0X8U5mhliq8/UKDVPB2ABaBLuHPJLCb8T31VkmbTRdqoObruHDmJ17HmETecOh68lZex0QBq0sovsckgKPePwR5cwF/hvKxMVSKHY+3qGVhzUKfBsfs+hDkvp4ZWA27Wx9rL2TyU3qYYo+tbKan/dQzWRRzOeQ5H7jSdd6N7/nYz3Tvl8eEBYW9B0DRv97ow6KTgh5OM6s5Pt9yEp9sMH9g1nl1QOB3TeUYWwc/WfDs9VGgbZtPL7XcK1Obyv4XmG1ZQBBK7dcw98zDnH9wRcm5s6kegHlJYOA6dJdQFBGCX7h22Vjci+BpR9sSG+s/DYejoLYsUqjVmD8uR3PDAhO1yexAKHZe3B6/5KvXxgInQrSsQuk7yso56/BadvJNmt9LT2iqjBmG88t53WNnQ1dB4SBXEMyxOFJmyKw6L93gnSd5YU9VC9PsHt4ZbIpt/poaKdM0++WAITnmxPr6VYbxzFdzxKuXwgIzL7ff340BKQCEvrAZ7JGuZLDHatPDiM4iIloTGmQOJXdfUBgSnjL4ZRtxo0V0kX58gLHMQ6nRxdI3Dvo6oyfsSGQLAqElojohC42JIdGj0YgdFEUJtOa41AEUV2a87fSh3Lv3jkSt1mkeR6JG6u/S1mvnO4EAuuFN7NIaEYpnCLcNdc3c7hrzmlUuQZRlyO7QS4jEIzyWRXL1vNkxmesU1bXAmGdSqB3OXPCRYBgvLeHamHzU6gEBA3lEyCmAKJVUFvXITY9fAJeSEG0+BNVK0YYSA2kY7wyeVvO55AWRFRHA4gbtAUBYYPK32bgWQJhqG/lX7u4SPcEBBcZY5uB4XbZCAgEhMk9G4/qg4DgUcO7PUKve30EBAICMYIbRyzWHQnofVM6RR4JFMQIHjE0Ad4e8AQEAgKlRpQa2UcJiqLe0Q8xAjECMQIxgnciHrGbva2JEYgRiBGIEeyjBEVR7+iHGIEYgRiBGME7EY/Yzd7WxAjECMQIxAj2UYKiqHf0Q4xAjECMQIzgnYhH7GZv6/8BE9lWkgSDiXUAAAAASUVORK5CYII=)"
   ]
  },
  {
   "cell_type": "code",
   "execution_count": 18,
   "metadata": {
    "colab": {
     "base_uri": "https://localhost:8080/",
     "height": 487
    },
    "id": "nUAxU-06ruwb",
    "outputId": "5990eb0c-7cd3-4e07-b66e-082dcda3ff2e"
   },
   "outputs": [
    {
     "data": {
      "image/png": "[encoded data removed]",
      "text/plain": [
       "<Figure size 432x288 with 1 Axes>"
      ]
     },
     "metadata": {
      "needs_background": "light"
     },
     "output_type": "display_data"
    }
   ],
   "source": [
    "z = np.arange(-5,5,0.1)\n",
    "phi = 1 / (1 + np.exp(-z))\n",
    "plt.plot(z, phi)\n",
    "plt.show()"
   ]
  },
  {
   "cell_type": "markdown",
   "metadata": {
    "id": "pQBEn_awwcE6"
   },
   "source": [
    "로지스틱 회귀(이진분류)\n",
    "  - B, F"
   ]
  },
  {
   "cell_type": "code",
   "execution_count": 19,
   "metadata": {
    "id": "Wkdu7UJYt1CC"
   },
   "outputs": [],
   "source": [
    "two_indexs = (y == 'B') | (y == 'F')\n",
    "B_F_X = X[two_indexs]\n",
    "B_F_y = y[two_indexs]"
   ]
  },
  {
   "cell_type": "code",
   "execution_count": 20,
   "metadata": {
    "id": "r-b2lw_FxAXJ"
   },
   "outputs": [],
   "source": [
    "x_train,x_test,y_train,y_test = train_test_split(B_F_X,B_F_y,random_state=42)\n",
    "ss = StandardScaler()\n",
    "ss.fit(x_train)\n",
    "x_train_sacled = ss.transform(x_train)\n",
    "x_test_scaled = ss.transform(x_test)"
   ]
  },
  {
   "cell_type": "code",
   "execution_count": 21,
   "metadata": {
    "id": "bDp-UUuUyHqN"
   },
   "outputs": [],
   "source": [
    "from sklearn.linear_model import LogisticRegression  # 분류"
   ]
  },
  {
   "cell_type": "code",
   "execution_count": 22,
   "metadata": {
    "colab": {
     "base_uri": "https://localhost:8080/",
     "height": 74
    },
    "id": "GUL4QklJzuSs",
    "outputId": "e64a9bb9-e7ef-4abe-cae8-bade4fbd3714"
   },
   "outputs": [
    {
     "data": {
      "text/plain": [
       "LogisticRegression()"
      ]
     },
     "execution_count": 22,
     "metadata": {},
     "output_type": "execute_result"
    }
   ],
   "source": [
    "lr = LogisticRegression()\n",
    "lr.fit(x_train_sacled,y_train)"
   ]
  },
  {
   "cell_type": "code",
   "execution_count": 23,
   "metadata": {
    "colab": {
     "base_uri": "https://localhost:8080/"
    },
    "id": "vZqHUFy2z2hY",
    "outputId": "79de9c0d-166b-441f-924a-2f6c2449e3e6"
   },
   "outputs": [
    {
     "data": {
      "text/plain": [
       "(1.0, 1.0)"
      ]
     },
     "execution_count": 23,
     "metadata": {},
     "output_type": "execute_result"
    }
   ],
   "source": [
    "lr.score(x_train_sacled,y_train) , lr.score(x_test_scaled,y_test)"
   ]
  },
  {
   "cell_type": "code",
   "execution_count": 24,
   "metadata": {
    "colab": {
     "base_uri": "https://localhost:8080/"
    },
    "id": "Sjm-CTpu0FIg",
    "outputId": "fc60a940-ea00-47ff-bf18-01321fa21917"
   },
   "outputs": [
    {
     "data": {
      "text/plain": [
       "(array(['B', 'B', 'B', 'F', 'F'], dtype=object),\n",
       " array(['B', 'B', 'B', 'F', 'F'], dtype=object))"
      ]
     },
     "execution_count": 24,
     "metadata": {},
     "output_type": "execute_result"
    }
   ],
   "source": [
    "lr.predict(x_test_scaled[:5]),  y_test[:5]"
   ]
  },
  {
   "cell_type": "code",
   "execution_count": 25,
   "metadata": {
    "colab": {
     "base_uri": "https://localhost:8080/"
    },
    "id": "toR8oRcG0Tfm",
    "outputId": "5352b6fe-65f5-4515-c939-3c33f8d7bc00"
   },
   "outputs": [
    {
     "data": {
      "text/plain": [
       "array([[0.89902954, 0.10097046],\n",
       "       [0.90163949, 0.09836051],\n",
       "       [0.93007224, 0.06992776],\n",
       "       [0.05563118, 0.94436882],\n",
       "       [0.00219424, 0.99780576]])"
      ]
     },
     "execution_count": 25,
     "metadata": {},
     "output_type": "execute_result"
    }
   ],
   "source": [
    "# 확률값\n",
    "lr.predict_proba(x_test_scaled[:5])"
   ]
  },
  {
   "cell_type": "code",
   "execution_count": 26,
   "metadata": {
    "colab": {
     "base_uri": "https://localhost:8080/"
    },
    "id": "c57pwiNW0hLP",
    "outputId": "83813aa6-9c41-4b77-a73c-214256ec144a"
   },
   "outputs": [
    {
     "data": {
      "text/plain": [
       "array(['B', 'F'], dtype=object)"
      ]
     },
     "execution_count": 26,
     "metadata": {},
     "output_type": "execute_result"
    }
   ],
   "source": [
    "lr.classes_"
   ]
  },
  {
   "cell_type": "code",
   "execution_count": 27,
   "metadata": {
    "colab": {
     "base_uri": "https://localhost:8080/"
    },
    "id": "qred3Ktz0lCl",
    "outputId": "1fef81e3-f661-4ba0-e64c-b82db9d9f7a0"
   },
   "outputs": [
    {
     "data": {
      "text/plain": [
       "Index(['Weight', 'Length', 'Diagonal', 'Height', 'Width'], dtype='object')"
      ]
     },
     "execution_count": 27,
     "metadata": {},
     "output_type": "execute_result"
    }
   ],
   "source": [
    "df.columns[1:]"
   ]
  },
  {
   "cell_type": "code",
   "execution_count": 28,
   "metadata": {
    "id": "LDoGQvKE0rZ-"
   },
   "outputs": [],
   "source": [
    "# z = b0*'Weight', b1*'Length', b2*'Diagonal', b3*'Height', b4*'Width' + bias"
   ]
  },
  {
   "cell_type": "code",
   "execution_count": 29,
   "metadata": {
    "colab": {
     "base_uri": "https://localhost:8080/"
    },
    "id": "VoBmnIjz03CM",
    "outputId": "d7665c68-ec7d-4371-eee8-89ca5a60a945"
   },
   "outputs": [
    {
     "data": {
      "text/plain": [
       "(array([[ 0.51463797,  1.41675741,  1.39308138, -0.78687366,  0.25839289]]),\n",
       " array([0.05576825]))"
      ]
     },
     "execution_count": 29,
     "metadata": {},
     "output_type": "execute_result"
    }
   ],
   "source": [
    "lr.coef_, lr.intercept_"
   ]
  },
  {
   "cell_type": "code",
   "execution_count": 30,
   "metadata": {
    "colab": {
     "base_uri": "https://localhost:8080/"
    },
    "id": "ldNZFr121EiF",
    "outputId": "0180e45c-9032-4c70-da8b-a26fa7b6d12d"
   },
   "outputs": [
    {
     "data": {
      "text/plain": [
       "array([-2.18648786, -2.21557532, -2.58779951,  2.83177298,  6.11972514])"
      ]
     },
     "execution_count": 30,
     "metadata": {},
     "output_type": "execute_result"
    }
   ],
   "source": [
    "# 로지스틱 결정함수 양성클래스에 대한 예측점수\n",
    "# B F\n",
    "# 0,1\n",
    "decision = lr.decision_function(x_test_scaled[:5])\n",
    "decision"
   ]
  },
  {
   "cell_type": "code",
   "execution_count": 31,
   "metadata": {
    "colab": {
     "base_uri": "https://localhost:8080/"
    },
    "id": "TmvY_-3X2N_d",
    "outputId": "464c9f6b-c74b-433e-e34a-a24397e4460d"
   },
   "outputs": [
    {
     "data": {
      "text/plain": [
       "array([0.10097046, 0.09836051, 0.06992776, 0.94436882, 0.99780576])"
      ]
     },
     "execution_count": 31,
     "metadata": {},
     "output_type": "execute_result"
    }
   ],
   "source": [
    "# 로지스틱함수(시그모이드함수 적용) -- 확률  (0 ~ 1)\n",
    "# 양성클래스일 확률\n",
    "from scipy.special import expit\n",
    "expit(decision)"
   ]
  },
  {
   "cell_type": "markdown",
   "metadata": {
    "id": "uBvhu7Eu25Ow"
   },
   "source": [
    "로지스틱 회귀(다중분류)"
   ]
  },
  {
   "cell_type": "code",
   "execution_count": 32,
   "metadata": {
    "id": "hwrpG5Ya22_A"
   },
   "outputs": [],
   "source": [
    "# 규제강도와 최대 반복횟수\n",
    "lr = LogisticRegression(C=20, max_iter=1000)"
   ]
  },
  {
   "cell_type": "code",
   "execution_count": 33,
   "metadata": {
    "id": "PtHGyTOB3XpC"
   },
   "outputs": [],
   "source": [
    "df = pd.read_csv(url)\n",
    "X = df.iloc[:,1:].to_numpy()\n",
    "y = df['Species'].to_numpy()"
   ]
  },
  {
   "cell_type": "code",
   "execution_count": 34,
   "metadata": {
    "id": "n-BoSuaK3sXk"
   },
   "outputs": [],
   "source": [
    "# 분할\n",
    "x_train,x_test,y_train,y_test = train_test_split(X,y,random_state=42)"
   ]
  },
  {
   "cell_type": "code",
   "execution_count": 35,
   "metadata": {
    "id": "fJ4ICPRI3wJ-"
   },
   "outputs": [],
   "source": [
    "# 표준화\n",
    "ss = StandardScaler()\n",
    "ss.fit(x_train)\n",
    "x_train_scaled = ss.transform(x_train)\n",
    "x_test_scaled = ss.transform(x_test)"
   ]
  },
  {
   "cell_type": "code",
   "execution_count": 36,
   "metadata": {
    "colab": {
     "base_uri": "https://localhost:8080/",
     "height": 74
    },
    "id": "aPaQkhi53w6O",
    "outputId": "7bd1f596-48ca-41af-f4d1-dd958a3244d1"
   },
   "outputs": [
    {
     "data": {
      "text/plain": [
       "LogisticRegression(C=20, max_iter=1000)"
      ]
     },
     "execution_count": 36,
     "metadata": {},
     "output_type": "execute_result"
    }
   ],
   "source": [
    "# 모델적용\n",
    "lr.fit(x_train_scaled,y_train)"
   ]
  },
  {
   "cell_type": "code",
   "execution_count": 37,
   "metadata": {
    "colab": {
     "base_uri": "https://localhost:8080/"
    },
    "id": "lJlaqCm23xyR",
    "outputId": "8ebb20ae-ff3e-4f6e-d063-021c0d704c63"
   },
   "outputs": [
    {
     "data": {
      "text/plain": [
       "(0.9327731092436975, 0.925)"
      ]
     },
     "execution_count": 37,
     "metadata": {},
     "output_type": "execute_result"
    }
   ],
   "source": [
    "# 평가\n",
    "lr.score(x_train_scaled,y_train), lr.score(x_test_scaled,y_test)"
   ]
  },
  {
   "cell_type": "code",
   "execution_count": 38,
   "metadata": {
    "colab": {
     "base_uri": "https://localhost:8080/"
    },
    "id": "DDBKdPrv3yby",
    "outputId": "e54054a6-11fd-4190-ab45-bdeab6556b40"
   },
   "outputs": [
    {
     "data": {
      "text/plain": [
       "array(['E', 'G', 'F', 'B', 'E'], dtype=object)"
      ]
     },
     "execution_count": 38,
     "metadata": {},
     "output_type": "execute_result"
    }
   ],
   "source": [
    "# 예측\n",
    "lr.predict(x_test_scaled[:5])"
   ]
  },
  {
   "cell_type": "code",
   "execution_count": 39,
   "metadata": {
    "colab": {
     "base_uri": "https://localhost:8080/"
    },
    "id": "za7HVqSi5xmk",
    "outputId": "77ea6aa5-20e2-4ff7-bdce-584504dff98a"
   },
   "outputs": [
    {
     "data": {
      "text/plain": [
       "array(['A', 'B', 'C', 'D', 'E', 'F', 'G'], dtype=object)"
      ]
     },
     "execution_count": 39,
     "metadata": {},
     "output_type": "execute_result"
    }
   ],
   "source": [
    "lr.classes_"
   ]
  },
  {
   "cell_type": "code",
   "execution_count": 40,
   "metadata": {
    "colab": {
     "base_uri": "https://localhost:8080/"
    },
    "id": "p4ekj67P5Ho1",
    "outputId": "89763beb-d6b9-4356-b4b4-afece01abb16"
   },
   "outputs": [
    {
     "data": {
      "text/plain": [
       "array([[ -6.49810454,   3.33887745,  -0.63447783,   1.0322335 ,\n",
       "          5.16362451,  -2.72867131,   0.32651822],\n",
       "       [-10.85947449,   2.9780998 ,  -4.25966286,   1.92719102,\n",
       "          4.77099763,  -2.39848815,   7.84133706],\n",
       "       [ -4.3352887 ,   2.35757867,  -3.8715474 ,  -6.23307362,\n",
       "          3.1744568 ,   6.48670316,   2.4211711 ],\n",
       "       [ -0.68336268,   3.26454002,   1.25851912,   0.45272675,\n",
       "          2.64700231,  -1.18667519,  -5.75275034],\n",
       "       [ -6.39707074,   3.50283103,  -0.70679054,  -1.99273994,\n",
       "          5.81573988,  -0.11034921,  -0.11162048]])"
      ]
     },
     "execution_count": 40,
     "metadata": {},
     "output_type": "execute_result"
    }
   ],
   "source": [
    "decision = lr.decision_function(x_test_scaled[:5])\n",
    "decision"
   ]
  },
  {
   "cell_type": "code",
   "execution_count": 41,
   "metadata": {
    "colab": {
     "base_uri": "https://localhost:8080/"
    },
    "id": "4dq69m1N54kW",
    "outputId": "54c7d539-db09-4ae1-87c2-f77230cef06b"
   },
   "outputs": [
    {
     "data": {
      "text/plain": [
       "array([[0.  , 0.14, 0.  , 0.01, 0.84, 0.  , 0.01],\n",
       "       [0.  , 0.01, 0.  , 0.  , 0.04, 0.  , 0.95],\n",
       "       [0.  , 0.02, 0.  , 0.  , 0.03, 0.93, 0.02],\n",
       "       [0.01, 0.57, 0.08, 0.03, 0.31, 0.01, 0.  ],\n",
       "       [0.  , 0.09, 0.  , 0.  , 0.9 , 0.  , 0.  ]])"
      ]
     },
     "execution_count": 41,
     "metadata": {},
     "output_type": "execute_result"
    }
   ],
   "source": [
    "from scipy.special import softmax\n",
    "np.round(softmax(decision,axis=1),2)"
   ]
  },
  {
   "cell_type": "code",
   "execution_count": 42,
   "metadata": {
    "colab": {
     "base_uri": "https://localhost:8080/"
    },
    "id": "NAISFP685wmc",
    "outputId": "b49263fb-3feb-4210-c58c-1303147df3fb"
   },
   "outputs": [
    {
     "data": {
      "text/plain": [
       "array([[0.  , 0.14, 0.  , 0.01, 0.84, 0.  , 0.01],\n",
       "       [0.  , 0.01, 0.  , 0.  , 0.04, 0.  , 0.95],\n",
       "       [0.  , 0.02, 0.  , 0.  , 0.03, 0.93, 0.02],\n",
       "       [0.01, 0.57, 0.08, 0.03, 0.31, 0.01, 0.  ],\n",
       "       [0.  , 0.09, 0.  , 0.  , 0.9 , 0.  , 0.  ]])"
      ]
     },
     "execution_count": 42,
     "metadata": {},
     "output_type": "execute_result"
    }
   ],
   "source": [
    "np.round(lr.predict_proba(x_test_scaled[:5]),2)"
   ]
  },
  {
   "cell_type": "markdown",
   "metadata": {
    "id": "wKq5FRx87qc1"
   },
   "source": [
    "실습용 데이터로 분류 모델 만들기\n",
    "\n",
    "https://archive.ics.uci.edu/\n",
    "\n",
    "캘리포니아 어바인 대학"
   ]
  },
  {
   "cell_type": "code",
   "execution_count": 57,
   "metadata": {},
   "outputs": [],
   "source": [
    "import zipfile\n",
    "\n",
    "zip_file=zipfile.ZipFile(\"iris.zip\")\n",
    "\n",
    "zip_file.extractall()"
   ]
  },
  {
   "cell_type": "code",
   "execution_count": 58,
   "metadata": {
    "colab": {
     "base_uri": "https://localhost:8080/"
    },
    "id": "WICGZV217A3O",
    "outputId": "98b217e1-fbb6-4f89-cff6-b7d2ba34af26"
   },
   "outputs": [],
   "source": [
    "# !unzip 'iris.zip'"
   ]
  },
  {
   "cell_type": "code",
   "execution_count": 59,
   "metadata": {
    "id": "a58i1eef_pHp"
   },
   "outputs": [],
   "source": [
    "df = pd.read_csv('iris.data',header=None)\n",
    "data = df.to_numpy()"
   ]
  },
  {
   "cell_type": "code",
   "execution_count": 60,
   "metadata": {
    "colab": {
     "base_uri": "https://localhost:8080/",
     "height": 206
    },
    "id": "QLCZikQbEAzA",
    "outputId": "e3c414b9-d803-4c10-f029-76c27767d4b2"
   },
   "outputs": [
    {
     "data": {
      "text/html": [
       "<div>\n",
       "<style scoped>\n",
       "    .dataframe tbody tr th:only-of-type {\n",
       "        vertical-align: middle;\n",
       "    }\n",
       "\n",
       "    .dataframe tbody tr th {\n",
       "        vertical-align: top;\n",
       "    }\n",
       "\n",
       "    .dataframe thead th {\n",
       "        text-align: right;\n",
       "    }\n",
       "</style>\n",
       "<table border=\"1\" class=\"dataframe\">\n",
       "  <thead>\n",
       "    <tr style=\"text-align: right;\">\n",
       "      <th></th>\n",
       "      <th>0</th>\n",
       "      <th>1</th>\n",
       "      <th>2</th>\n",
       "      <th>3</th>\n",
       "      <th>4</th>\n",
       "    </tr>\n",
       "  </thead>\n",
       "  <tbody>\n",
       "    <tr>\n",
       "      <th>0</th>\n",
       "      <td>5.1</td>\n",
       "      <td>3.5</td>\n",
       "      <td>1.4</td>\n",
       "      <td>0.2</td>\n",
       "      <td>Iris-setosa</td>\n",
       "    </tr>\n",
       "    <tr>\n",
       "      <th>1</th>\n",
       "      <td>4.9</td>\n",
       "      <td>3.0</td>\n",
       "      <td>1.4</td>\n",
       "      <td>0.2</td>\n",
       "      <td>Iris-setosa</td>\n",
       "    </tr>\n",
       "    <tr>\n",
       "      <th>2</th>\n",
       "      <td>4.7</td>\n",
       "      <td>3.2</td>\n",
       "      <td>1.3</td>\n",
       "      <td>0.2</td>\n",
       "      <td>Iris-setosa</td>\n",
       "    </tr>\n",
       "    <tr>\n",
       "      <th>3</th>\n",
       "      <td>4.6</td>\n",
       "      <td>3.1</td>\n",
       "      <td>1.5</td>\n",
       "      <td>0.2</td>\n",
       "      <td>Iris-setosa</td>\n",
       "    </tr>\n",
       "    <tr>\n",
       "      <th>4</th>\n",
       "      <td>5.0</td>\n",
       "      <td>3.6</td>\n",
       "      <td>1.4</td>\n",
       "      <td>0.2</td>\n",
       "      <td>Iris-setosa</td>\n",
       "    </tr>\n",
       "  </tbody>\n",
       "</table>\n",
       "</div>"
      ],
      "text/plain": [
       "     0    1    2    3            4\n",
       "0  5.1  3.5  1.4  0.2  Iris-setosa\n",
       "1  4.9  3.0  1.4  0.2  Iris-setosa\n",
       "2  4.7  3.2  1.3  0.2  Iris-setosa\n",
       "3  4.6  3.1  1.5  0.2  Iris-setosa\n",
       "4  5.0  3.6  1.4  0.2  Iris-setosa"
      ]
     },
     "execution_count": 60,
     "metadata": {},
     "output_type": "execute_result"
    }
   ],
   "source": [
    "df.head()"
   ]
  },
  {
   "cell_type": "code",
   "execution_count": 61,
   "metadata": {
    "colab": {
     "base_uri": "https://localhost:8080/"
    },
    "id": "l3ofua2zHSDb",
    "outputId": "7804181d-0448-4cc6-97a7-a7c2545118e5"
   },
   "outputs": [
    {
     "data": {
      "text/plain": [
       "Iris-virginica     50\n",
       "Iris-setosa        50\n",
       "Iris-versicolor    50\n",
       "Name: 4, dtype: int64"
      ]
     },
     "execution_count": 61,
     "metadata": {},
     "output_type": "execute_result"
    }
   ],
   "source": [
    "df[4].value_counts()"
   ]
  },
  {
   "cell_type": "code",
   "execution_count": 62,
   "metadata": {
    "id": "a993Efc6AqpT"
   },
   "outputs": [],
   "source": [
    "# EDA : 데이터 시각화를 통해.. 피처를 도출...,  전처리(결측치,이상치,범주형을 수치형등등)\n",
    "\n",
    "\n",
    "# 학습데이터, 타깃\n",
    "# 학습용,테스용으로 분리\n",
    "# 스케일링\n",
    "# 모델선정\n",
    "# 학습\n",
    "# 학습데이터와,테스트데이터--> 평가 : 과적합 유무\n",
    "# 예측(분류)"
   ]
  },
  {
   "cell_type": "code",
   "execution_count": 63,
   "metadata": {
    "id": "2brMt4DWBiZT"
   },
   "outputs": [],
   "source": [
    "import seaborn as sns"
   ]
  },
  {
   "cell_type": "code",
   "execution_count": 64,
   "metadata": {
    "colab": {
     "base_uri": "https://localhost:8080/",
     "height": 624
    },
    "id": "CC5uZzsyDvMu",
    "outputId": "76f1ab47-1116-4e74-db37-d67ffa523edf"
   },
   "outputs": [
    {
     "data": {
      "text/plain": [
       "<seaborn.axisgrid.PairGrid at 0x1be22be65e0>"
      ]
     },
     "execution_count": 64,
     "metadata": {},
     "output_type": "execute_result"
    },
    {
     "data": {
      "image/png": "[encoded data removed]",
      "text/plain": [
       "<Figure size 823.5x720 with 20 Axes>"
      ]
     },
     "metadata": {
      "needs_background": "light"
     },
     "output_type": "display_data"
    }
   ],
   "source": [
    "sns.pairplot(df,hue = 4)"
   ]
  },
  {
   "cell_type": "code",
   "execution_count": 65,
   "metadata": {
    "id": "lGquhgv_EPaf"
   },
   "outputs": [],
   "source": [
    "X = data[:,:-1]\n",
    "y = data[:,4]\n",
    "# labelEncoding\n",
    "# from sklearn.preprocessing import LabelEncoder\n",
    "# y = LabelEncoder().fit_transform(y)\n",
    "# y"
   ]
  },
  {
   "cell_type": "code",
   "execution_count": 66,
   "metadata": {
    "colab": {
     "base_uri": "https://localhost:8080/"
    },
    "id": "hACig5VZEdeh",
    "outputId": "d7eaa116-9bba-4f4e-e344-9cd5c8b187e0"
   },
   "outputs": [
    {
     "data": {
      "text/plain": [
       "((112, 4), (38, 4), (112,), (38,))"
      ]
     },
     "execution_count": 66,
     "metadata": {},
     "output_type": "execute_result"
    }
   ],
   "source": [
    "x_train,x_test,y_train,y_test =  train_test_split(X,y,random_state=42,stratify=y)\n",
    "x_train.shape,x_test.shape,y_train.shape,y_test.shape"
   ]
  },
  {
   "cell_type": "code",
   "execution_count": 67,
   "metadata": {
    "colab": {
     "base_uri": "https://localhost:8080/"
    },
    "id": "sXrzV3uXHX4O",
    "outputId": "4aa7f8eb-f5d1-4210-ea20-3fa38413a7a1"
   },
   "outputs": [
    {
     "data": {
      "text/plain": [
       "((array(['Iris-setosa', 'Iris-versicolor', 'Iris-virginica'], dtype=object),\n",
       "  array([38, 37, 37], dtype=int64)),\n",
       " (array(['Iris-setosa', 'Iris-versicolor', 'Iris-virginica'], dtype=object),\n",
       "  array([12, 13, 13], dtype=int64)))"
      ]
     },
     "execution_count": 67,
     "metadata": {},
     "output_type": "execute_result"
    }
   ],
   "source": [
    "np.unique(y_train,return_counts=True), np.unique(y_test,return_counts=True),"
   ]
  },
  {
   "cell_type": "code",
   "execution_count": 68,
   "metadata": {
    "colab": {
     "base_uri": "https://localhost:8080/"
    },
    "id": "6A-3vxluHljP",
    "outputId": "6947f777-1afa-44e7-9089-a816c915fbef"
   },
   "outputs": [],
   "source": [
    "# np.unique(y_train,return_counts=True), np.unique(y_test,return_counts=True),"
   ]
  },
  {
   "cell_type": "code",
   "execution_count": 69,
   "metadata": {
    "id": "_-GzyuB7Ek5i"
   },
   "outputs": [],
   "source": [
    "ss = StandardScaler()\n",
    "ss.fit(x_train)\n",
    "x_train_scaled = ss.transform(x_train)\n",
    "x_test_scaled = ss.transform(x_test)"
   ]
  },
  {
   "cell_type": "code",
   "execution_count": 70,
   "metadata": {
    "colab": {
     "base_uri": "https://localhost:8080/"
    },
    "id": "cia6GywrEyau",
    "outputId": "e46c8604-e29b-43fa-97cb-d0c0ffec7564"
   },
   "outputs": [
    {
     "data": {
      "text/plain": [
       "(0.9642857142857143, 0.9210526315789473)"
      ]
     },
     "execution_count": 70,
     "metadata": {},
     "output_type": "execute_result"
    }
   ],
   "source": [
    "lr =  LogisticRegression()\n",
    "lr.fit(x_train_scaled,y_train)\n",
    "lr.score(x_train_scaled,y_train), lr.score(x_test_scaled,y_test)"
   ]
  },
  {
   "cell_type": "code",
   "execution_count": 71,
   "metadata": {
    "colab": {
     "base_uri": "https://localhost:8080/"
    },
    "id": "9LNZWR7PH6YP",
    "outputId": "e5667051-e1d0-4ba0-c5e0-cb5f9a28e80d"
   },
   "outputs": [
    {
     "data": {
      "text/plain": [
       "array(['Iris-setosa', 'Iris-versicolor', 'Iris-versicolor',\n",
       "       'Iris-versicolor', 'Iris-setosa'], dtype=object)"
      ]
     },
     "execution_count": 71,
     "metadata": {},
     "output_type": "execute_result"
    }
   ],
   "source": [
    "lr.predict(x_test_scaled[:5])"
   ]
  },
  {
   "cell_type": "code",
   "execution_count": 72,
   "metadata": {
    "colab": {
     "base_uri": "https://localhost:8080/"
    },
    "id": "1iRQhrIPIHk5",
    "outputId": "c1f44ef2-fb65-4095-a542-cdd1d2694b28"
   },
   "outputs": [
    {
     "data": {
      "text/plain": [
       "array(['Iris-setosa', 'Iris-versicolor', 'Iris-virginica'], dtype=object)"
      ]
     },
     "execution_count": 72,
     "metadata": {},
     "output_type": "execute_result"
    }
   ],
   "source": [
    "lr.classes_"
   ]
  },
  {
   "cell_type": "code",
   "execution_count": 56,
   "metadata": {
    "colab": {
     "base_uri": "https://localhost:8080/"
    },
    "id": "naMsY3X9H_YQ",
    "outputId": "e85ea16e-3207-44d9-faff-1d1f8b8ccd09"
   },
   "outputs": [
    {
     "data": {
      "text/plain": [
       "array([[0.  , 0.28, 0.01, 0.09, 0.54, 0.01, 0.06],\n",
       "       [0.  , 0.09, 0.  , 0.06, 0.13, 0.  , 0.72],\n",
       "       [0.01, 0.17, 0.01, 0.01, 0.22, 0.57, 0.01],\n",
       "       [0.06, 0.26, 0.04, 0.08, 0.53, 0.04, 0.  ],\n",
       "       [0.  , 0.24, 0.01, 0.03, 0.66, 0.03, 0.02]])"
      ]
     },
     "execution_count": 56,
     "metadata": {},
     "output_type": "execute_result"
    }
   ],
   "source": [
    "np.round(lr.predict_proba(x_test_scaled[:5]),2)"
   ]
  },
  {
   "cell_type": "code",
   "execution_count": null,
   "metadata": {},
   "outputs": [],
   "source": []
  }
 ],
 "metadata": {
  "colab": {
   "provenance": []
  },
  "kernelspec": {
   "display_name": "Python 3",
   "language": "python",
   "name": "python3"
  },
  "language_info": {
   "codemirror_mode": {
    "name": "ipython",
    "version": 3
   },
   "file_extension": ".py",
   "mimetype": "text/x-python",
   "name": "python",
   "nbconvert_exporter": "python",
   "pygments_lexer": "ipython3",
   "version": "3.8.5"
  }
 },
 "nbformat": 4,
 "nbformat_minor": 1
}
