{
 "cells": [
  {
   "cell_type": "markdown",
   "metadata": {
    "id": "JdqUybYrkiGY"
   },
   "source": [
    "자료구조와 조건문을 이용한 응용1\n",
    "  - 투표시스템 만들기"
   ]
  },
  {
   "cell_type": "code",
   "execution_count": 1,
   "metadata": {
    "id": "w2iBUol7kmGk"
   },
   "outputs": [],
   "source": [
    "# 후보자를 보여주고\n",
    "# 유권자가 해당 후보자를 선택하면.\n",
    "# 어느후보가 가장 많은 표를 얻었는지 확인하는 시스템"
   ]
  },
  {
   "cell_type": "code",
   "execution_count": 2,
   "metadata": {
    "id": "AaOIDeb8kwdA"
   },
   "outputs": [],
   "source": [
    "candidate = ['홍길동','이순신','유관순']\n",
    "vote = [0,0,0]"
   ]
  },
  {
   "cell_type": "code",
   "execution_count": 3,
   "metadata": {
    "colab": {
     "base_uri": "https://localhost:8080/"
    },
    "id": "LJGs_u2YlP-R",
    "outputId": "27afcdcf-d903-4377-a2fc-1d1a57c4e3b0"
   },
   "outputs": [
    {
     "name": "stdout",
     "output_type": "stream",
     "text": [
      " 다음 후보자 중에 한명에게 투표를 하세요 \n",
      "기호 1번 : 홍길동 / 기호 2번 : 이순신  / 기호 3번 : 유관순\n",
      "1번부터 3번까지 해당 후보를 투표하세요 : 1\n"
     ]
    }
   ],
   "source": [
    "print(\" 다음 후보자 중에 한명에게 투표를 하세요 \")\n",
    "print(\"기호 1번 : \" + candidate[0], \"/ 기호 2번 : \" + candidate[1], \" / 기호 3번 : \" + candidate[2])\n",
    "choice = input(\"1번부터 3번까지 해당 후보를 투표하세요 : \")\n",
    "# 문자형태로 된 숫자이고 그 수자가 1,2,3일때만 정상적으로 로직을 수행\n",
    "if(choice.isdigit()):\n",
    "  choice = int(choice)\n",
    "  if( (choice >= 1) & (choice  <= 3) ):\n",
    "    vote[int(choice)-1] += 1\n",
    "  else:\n",
    "    print('1,2,3중에 하나를 입력하세요')\n",
    "else:\n",
    "  print('숫자를 입력하세요')"
   ]
  },
  {
   "cell_type": "markdown",
   "metadata": {
    "id": "gi1jmobmrtRP"
   },
   "source": [
    "위의 예제를 dictionary로 변경해서 작성해 보자"
   ]
  },
  {
   "cell_type": "code",
   "execution_count": 4,
   "metadata": {
    "id": "uOZ0CuxVo2o0"
   },
   "outputs": [],
   "source": [
    "candidate = ['홍길동','이순신','유관순']\n",
    "vote_dic = {}"
   ]
  },
  {
   "cell_type": "code",
   "execution_count": 5,
   "metadata": {
    "colab": {
     "base_uri": "https://localhost:8080/"
    },
    "id": "QRuxb793r4-M",
    "outputId": "6d5a506b-54b7-4ca6-fa9e-dce6bbf71956"
   },
   "outputs": [
    {
     "name": "stdout",
     "output_type": "stream",
     "text": [
      "기호 1번 : 홍길동 / 기호 2번 : 이순신  / 기호 3번 : 유관순\n"
     ]
    }
   ],
   "source": [
    "print(\"기호 1번 : \" + candidate[0], \"/ 기호 2번 : \" + candidate[1], \" / 기호 3번 : \" + candidate[2])\n",
    "# 입력한 번호를 키로 인식\n",
    "# 1. 입력한 키가 dictionary에 있는지 확인하고\n",
    "# if 키가 없으면\n",
    "  # 키를 생성하면서 값은 1\n",
    "# else\n",
    "  # 해당키의 값을 1 증가"
   ]
  },
  {
   "cell_type": "code",
   "execution_count": 6,
   "metadata": {
    "colab": {
     "base_uri": "https://localhost:8080/"
    },
    "id": "Qi8R3oZ7r7rV",
    "outputId": "d00580ba-d617-4744-d844-cef1fe542eb9"
   },
   "outputs": [
    {
     "name": "stdout",
     "output_type": "stream",
     "text": [
      "기호 1번 : 홍길동 / 기호 2번 : 이순신  / 기호 3번 : 유관순\n",
      "1번부터 3번까지 해당 후보를 투표하세요 : 2\n"
     ]
    }
   ],
   "source": [
    "print(\"기호 1번 : \" + candidate[0], \"/ 기호 2번 : \" + candidate[1], \" / 기호 3번 : \" + candidate[2])\n",
    "choice = input(\"1번부터 3번까지 해당 후보를 투표하세요 : \")\n",
    "# 문자형태로 된 숫자이고 그 수자가 1,2,3일때만 정상적으로 로직을 수행\n",
    "if(choice.isdigit()):\n",
    "  choice = int(choice)\n",
    "  if( (choice >= 1) & (choice  <= 3) ):\n",
    "    if choice in vote_dic:\n",
    "      vote_dic[choice] += 1\n",
    "    else:\n",
    "      vote_dic[choice] = 1\n",
    "  else:\n",
    "    print('1,2,3중에 하나를 입력하세요')\n",
    "else:\n",
    "  print('숫자를 입력하세요')"
   ]
  },
  {
   "cell_type": "markdown",
   "metadata": {
    "id": "e5jw8FoAxr7V"
   },
   "source": [
    "반복문 또는 순환문"
   ]
  },
  {
   "cell_type": "markdown",
   "metadata": {
    "id": "jK_tMk-3zm_z"
   },
   "source": [
    "정해진 횟수만큼 실행"
   ]
  },
  {
   "cell_type": "code",
   "execution_count": 7,
   "metadata": {
    "id": "ZrMA_GsVs8XU"
   },
   "outputs": [
    {
     "name": "stdout",
     "output_type": "stream",
     "text": [
      "0\n",
      "1\n",
      "2\n",
      "3\n",
      "4\n",
      "5\n",
      "6\n",
      "7\n",
      "8\n",
      "9\n"
     ]
    }
   ],
   "source": [
    "count = 0\n",
    "while count < 10:\n",
    "  print(count) # 로직\n",
    "  count += 1"
   ]
  },
  {
   "cell_type": "markdown",
   "metadata": {
    "id": "6Ejrxwrhzvzw"
   },
   "source": [
    "조건을 만족할때 까지"
   ]
  },
  {
   "cell_type": "code",
   "execution_count": 9,
   "metadata": {
    "colab": {
     "base_uri": "https://localhost:8080/"
    },
    "id": "HYOc3RSms9lb",
    "outputId": "3b8c1a14-5c61-475c-897b-59c37dbbf3a2"
   },
   "outputs": [
    {
     "name": "stdout",
     "output_type": "stream",
     "text": [
      "임의의 정수를 입력하세요 : 20\n",
      "20\n"
     ]
    }
   ],
   "source": [
    "count = 0\n",
    "while count < 10:\n",
    "  count = int(input('임의의 정수를 입력하세요 : '))\n",
    "  print(count) # 로직"
   ]
  },
  {
   "cell_type": "markdown",
   "metadata": {
    "id": "bKrxd4GI1uua"
   },
   "source": [
    "순환문을 강제로 탈출하기"
   ]
  },
  {
   "cell_type": "code",
   "execution_count": 10,
   "metadata": {
    "colab": {
     "base_uri": "https://localhost:8080/"
    },
    "id": "EmHYJYlt0yAz",
    "outputId": "38e8ca31-7980-4491-aa46-3edb7b5634eb"
   },
   "outputs": [
    {
     "data": {
      "text/plain": [
       "(45, 1035)"
      ]
     },
     "execution_count": 10,
     "metadata": {},
     "output_type": "execute_result"
    }
   ],
   "source": [
    "count = 0\n",
    "total = 0\n",
    "# 1부터 더해서 1000을 넘는 순간은 어디까지 더해야하는 지 알아보자\n",
    "while True:\n",
    "  count += 1\n",
    "  total += count\n",
    "  if total > 1000:\n",
    "    break\n",
    "\n",
    "count, total"
   ]
  },
  {
   "cell_type": "code",
   "execution_count": 11,
   "metadata": {
    "colab": {
     "base_uri": "https://localhost:8080/"
    },
    "id": "Vz2Z21N82fK6",
    "outputId": "2ecef921-6318-4bb5-9866-40fbb4da2e9a"
   },
   "outputs": [
    {
     "name": "stdout",
     "output_type": "stream",
     "text": [
      " 쌍용아파트 1005동 501호 관리비는 510000 입니다.\n"
     ]
    }
   ],
   "source": [
    "# 아파트 관리비 청구서\n",
    "apt = \"쌍용\"\n",
    "dong = 1005\n",
    "ho = 501\n",
    "price = 510000\n",
    "\n",
    "# \"자이아파트 105동 101호 관리비는 230000 입니다.\"\n",
    "# print(str(apt)+'아파트 '+str(dong)+'동 '+str(ho)+'호'+' 관리비는 '+str(price)+' 입니다.')\n",
    "print(f' {apt}아파트 {dong}동 {ho}호 관리비는 {price} 입니다.')\n",
    "\n"
   ]
  },
  {
   "cell_type": "markdown",
   "metadata": {
    "id": "P67cqIzU4glC"
   },
   "source": [
    "구구단"
   ]
  },
  {
   "cell_type": "code",
   "execution_count": 12,
   "metadata": {
    "colab": {
     "base_uri": "https://localhost:8080/"
    },
    "id": "Me7mMrDT3wla",
    "outputId": "1cc38652-41c3-426e-9e4c-0ff205e8f887"
   },
   "outputs": [
    {
     "name": "stdout",
     "output_type": "stream",
     "text": [
      "2 x 1 = 2\n",
      "2 x 2 = 4\n",
      "2 x 3 = 6\n",
      "2 x 4 = 8\n",
      "2 x 5 = 10\n",
      "2 x 6 = 12\n",
      "2 x 7 = 14\n",
      "2 x 8 = 16\n",
      "2 x 9 = 18\n"
     ]
    }
   ],
   "source": [
    "# 2단 출력\n",
    "print(f\"{2} x {1} = {2*1}\")\n",
    "print(f\"{2} x {2} = {2*2}\")\n",
    "print(f\"{2} x {3} = {2*3}\")\n",
    "print(f\"{2} x {4} = {2*4}\")\n",
    "print(f\"{2} x {5} = {2*5}\")\n",
    "print(f\"{2} x {6} = {2*6}\")\n",
    "print(f\"{2} x {7} = {2*7}\")\n",
    "print(f\"{2} x {8} = {2*8}\")\n",
    "print(f\"{2} x {9} = {2*9}\")\n"
   ]
  },
  {
   "cell_type": "code",
   "execution_count": 13,
   "metadata": {
    "colab": {
     "base_uri": "https://localhost:8080/"
    },
    "id": "4ydzguQk4vsB",
    "outputId": "358a90b9-61ea-406d-e1c0-cf147199c8df"
   },
   "outputs": [
    {
     "name": "stdout",
     "output_type": "stream",
     "text": [
      "2 x 1 = 2\n",
      "2 x 2 = 4\n",
      "2 x 3 = 6\n",
      "2 x 4 = 8\n",
      "2 x 5 = 10\n",
      "2 x 6 = 12\n",
      "2 x 7 = 14\n",
      "2 x 8 = 16\n",
      "2 x 9 = 18\n"
     ]
    }
   ],
   "source": [
    "count = 1\n",
    "while count < 10:\n",
    "  print(f\"{2} x {count} = {2*count}\")\n",
    "  count += 1"
   ]
  },
  {
   "cell_type": "code",
   "execution_count": 14,
   "metadata": {
    "colab": {
     "base_uri": "https://localhost:8080/"
    },
    "id": "aZG9zAlV5cq_",
    "outputId": "808dc6ed-0c0f-4d3c-f77b-2783d701d26c"
   },
   "outputs": [
    {
     "name": "stdout",
     "output_type": "stream",
     "text": [
      "2 x 1 = 2\n",
      "2 x 2 = 4\n",
      "2 x 3 = 6\n",
      "2 x 4 = 8\n",
      "2 x 5 = 10\n",
      "2 x 6 = 12\n",
      "2 x 7 = 14\n",
      "2 x 8 = 16\n",
      "2 x 9 = 18\n",
      "--------------------\n",
      "3 x 1 = 3\n",
      "3 x 2 = 6\n",
      "3 x 3 = 9\n",
      "3 x 4 = 12\n",
      "3 x 5 = 15\n",
      "3 x 6 = 18\n",
      "3 x 7 = 21\n",
      "3 x 8 = 24\n",
      "3 x 9 = 27\n",
      "--------------------\n",
      "4 x 1 = 4\n",
      "4 x 2 = 8\n",
      "4 x 3 = 12\n",
      "4 x 4 = 16\n",
      "4 x 5 = 20\n",
      "4 x 6 = 24\n",
      "4 x 7 = 28\n",
      "4 x 8 = 32\n",
      "4 x 9 = 36\n",
      "--------------------\n",
      "5 x 1 = 5\n",
      "5 x 2 = 10\n",
      "5 x 3 = 15\n",
      "5 x 4 = 20\n",
      "5 x 5 = 25\n",
      "5 x 6 = 30\n",
      "5 x 7 = 35\n",
      "5 x 8 = 40\n",
      "5 x 9 = 45\n",
      "--------------------\n",
      "6 x 1 = 6\n",
      "6 x 2 = 12\n",
      "6 x 3 = 18\n",
      "6 x 4 = 24\n",
      "6 x 5 = 30\n",
      "6 x 6 = 36\n",
      "6 x 7 = 42\n",
      "6 x 8 = 48\n",
      "6 x 9 = 54\n",
      "--------------------\n",
      "7 x 1 = 7\n",
      "7 x 2 = 14\n",
      "7 x 3 = 21\n",
      "7 x 4 = 28\n",
      "7 x 5 = 35\n",
      "7 x 6 = 42\n",
      "7 x 7 = 49\n",
      "7 x 8 = 56\n",
      "7 x 9 = 63\n",
      "--------------------\n",
      "8 x 1 = 8\n",
      "8 x 2 = 16\n",
      "8 x 3 = 24\n",
      "8 x 4 = 32\n",
      "8 x 5 = 40\n",
      "8 x 6 = 48\n",
      "8 x 7 = 56\n",
      "8 x 8 = 64\n",
      "8 x 9 = 72\n",
      "--------------------\n",
      "9 x 1 = 9\n",
      "9 x 2 = 18\n",
      "9 x 3 = 27\n",
      "9 x 4 = 36\n",
      "9 x 5 = 45\n",
      "9 x 6 = 54\n",
      "9 x 7 = 63\n",
      "9 x 8 = 72\n",
      "9 x 9 = 81\n",
      "--------------------\n"
     ]
    }
   ],
   "source": [
    "i  = 2\n",
    "while i < 10:\n",
    "  j = 1\n",
    "  while j < 10:\n",
    "    print(f\"{i} x {j} = {i*j}\")\n",
    "    j += 1\n",
    "  i += 1\n",
    "  print(\"-\"*20)"
   ]
  },
  {
   "cell_type": "markdown",
   "metadata": {
    "id": "quPo2Szr_FNi"
   },
   "source": [
    "순환문\n",
    "  - while\n",
    "    - 조건을 만족할때 까지\n",
    "  - for\n",
    "    - 지정한 횟수 -> 자료구조의 내용을 가지고 순환할때"
   ]
  },
  {
   "cell_type": "code",
   "execution_count": 15,
   "metadata": {
    "colab": {
     "base_uri": "https://localhost:8080/"
    },
    "id": "QvzPHA7b5xPJ",
    "outputId": "5c16d36a-dc22-45d4-a957-ea0b368f275d"
   },
   "outputs": [
    {
     "name": "stdout",
     "output_type": "stream",
     "text": [
      "홍길동\n",
      "이순신\n",
      "유관순\n"
     ]
    }
   ],
   "source": [
    "candidate = ['홍길동','이순신','유관순']\n",
    "print(candidate[0])\n",
    "print(candidate[1])\n",
    "print(candidate[2])"
   ]
  },
  {
   "cell_type": "code",
   "execution_count": 16,
   "metadata": {
    "colab": {
     "base_uri": "https://localhost:8080/"
    },
    "id": "48bunO0Y_1mu",
    "outputId": "a0bc01ba-c605-4bad-e927-50ce0c86543e"
   },
   "outputs": [
    {
     "name": "stdout",
     "output_type": "stream",
     "text": [
      "홍길동\n",
      "이순신\n",
      "유관순\n"
     ]
    }
   ],
   "source": [
    "count=0\n",
    "while count < 3:\n",
    "  print(candidate[count])\n",
    "  count += 1\n"
   ]
  },
  {
   "cell_type": "code",
   "execution_count": 20,
   "metadata": {
    "id": "ecjfks3yAe_2"
   },
   "outputs": [
    {
     "name": "stdout",
     "output_type": "stream",
     "text": [
      "1\n",
      "4\n",
      "5\n",
      "1\n",
      "5\n",
      "7\n",
      "4\n",
      "1\n",
      "4\n",
      "7\n",
      "4\n",
      "125\n",
      "4\n",
      "81\n",
      "5\n"
     ]
    }
   ],
   "source": [
    "temp = [1,4,5,1,5,7,4,1,4,7,4,125,4,81,5]\n",
    "count=0\n",
    "while count < len(temp):\n",
    "  print(temp[count], end='\\n')\n",
    "  temp[count] = 0\n",
    "  count += 1"
   ]
  },
  {
   "cell_type": "code",
   "execution_count": 18,
   "metadata": {
    "colab": {
     "base_uri": "https://localhost:8080/"
    },
    "id": "hH3u0GJoCSUv",
    "outputId": "7e72bbd1-9990-4e8e-9f3b-3d298f4f649e"
   },
   "outputs": [
    {
     "data": {
      "text/plain": [
       "[0, 0, 0, 0, 0, 0, 0, 0, 0, 0, 0, 0, 0, 0, 0]"
      ]
     },
     "execution_count": 18,
     "metadata": {},
     "output_type": "execute_result"
    }
   ],
   "source": [
    "temp"
   ]
  },
  {
   "cell_type": "code",
   "execution_count": 21,
   "metadata": {
    "id": "ePsqY7MoA1su"
   },
   "outputs": [
    {
     "name": "stdout",
     "output_type": "stream",
     "text": [
      "1\n",
      "4\n",
      "5\n",
      "1\n",
      "5\n",
      "7\n",
      "4\n",
      "1\n",
      "4\n",
      "7\n",
      "4\n",
      "125\n",
      "4\n",
      "81\n",
      "5\n"
     ]
    }
   ],
   "source": [
    "temp = [1,4,5,1,5,7,4,1,4,7,4,125,4,81,5]\n",
    "count = 0\n",
    "for i in temp:\n",
    "  print(i, end='\\n')\n",
    "  i = 0\n",
    "  count += 1"
   ]
  },
  {
   "cell_type": "code",
   "execution_count": 22,
   "metadata": {
    "colab": {
     "base_uri": "https://localhost:8080/"
    },
    "id": "YGrWNeAMByAO",
    "outputId": "bd00b62f-c758-40d9-82ab-db0c580b9e2b"
   },
   "outputs": [
    {
     "data": {
      "text/plain": [
       "[1, 4, 5, 1, 5, 7, 4, 1, 4, 7, 4, 125, 4, 81, 5]"
      ]
     },
     "execution_count": 22,
     "metadata": {},
     "output_type": "execute_result"
    }
   ],
   "source": [
    "temp"
   ]
  },
  {
   "cell_type": "code",
   "execution_count": 23,
   "metadata": {
    "id": "DlYccpW0COKO"
   },
   "outputs": [],
   "source": [
    "temp = [10,20,30,40,50]\n",
    "for index,i in enumerate(temp):\n",
    "  if i == 30:\n",
    "    temp[index] = 100\n"
   ]
  },
  {
   "cell_type": "code",
   "execution_count": 24,
   "metadata": {
    "colab": {
     "base_uri": "https://localhost:8080/"
    },
    "id": "v9-8Aj3bDxJX",
    "outputId": "1db62c5e-d5f9-448c-c895-20cf8d662eab"
   },
   "outputs": [
    {
     "data": {
      "text/plain": [
       "[10, 20, 100, 40, 50]"
      ]
     },
     "execution_count": 24,
     "metadata": {},
     "output_type": "execute_result"
    }
   ],
   "source": [
    "temp"
   ]
  },
  {
   "cell_type": "code",
   "execution_count": 25,
   "metadata": {
    "colab": {
     "base_uri": "https://localhost:8080/"
    },
    "id": "94k8_52iDBA2",
    "outputId": "87834f9f-0a61-4648-bf99-f33e016c7fb5"
   },
   "outputs": [
    {
     "data": {
      "text/plain": [
       "[(0, 10), (1, 20), (2, 100), (3, 40), (4, 50)]"
      ]
     },
     "execution_count": 25,
     "metadata": {},
     "output_type": "execute_result"
    }
   ],
   "source": [
    "list(enumerate(temp))"
   ]
  },
  {
   "cell_type": "code",
   "execution_count": 26,
   "metadata": {
    "id": "cNFPzWs4DIq9"
   },
   "outputs": [],
   "source": [
    "index,i = (0, 10)"
   ]
  },
  {
   "cell_type": "code",
   "execution_count": 27,
   "metadata": {
    "colab": {
     "base_uri": "https://localhost:8080/"
    },
    "id": "uVI-HkJvDdFV",
    "outputId": "9ea51fac-71b8-4297-d011-0af2b906a526"
   },
   "outputs": [
    {
     "data": {
      "text/plain": [
       "10"
      ]
     },
     "execution_count": 27,
     "metadata": {},
     "output_type": "execute_result"
    }
   ],
   "source": [
    "i"
   ]
  },
  {
   "cell_type": "markdown",
   "metadata": {
    "id": "fleR8msKERNB"
   },
   "source": [
    "10번 또는 100번 처럼 지정한횟수만큼 순환문을 만들려면?"
   ]
  },
  {
   "cell_type": "code",
   "execution_count": 28,
   "metadata": {
    "colab": {
     "base_uri": "https://localhost:8080/"
    },
    "id": "J7zk7UMHDes5",
    "outputId": "5ac3ab81-b564-4124-aafa-18e760a883ba"
   },
   "outputs": [
    {
     "name": "stdout",
     "output_type": "stream",
     "text": [
      " 다음 후보자 중에 한명에게 투표를 하세요 \n",
      "기호 1번 : 홍길동 / 기호 2번 : 이순신  / 기호 3번 : 유관순\n",
      "1번부터 3번까지 해당 후보를 투표하세요 : 1\n",
      " 다음 후보자 중에 한명에게 투표를 하세요 \n",
      "기호 1번 : 홍길동 / 기호 2번 : 이순신  / 기호 3번 : 유관순\n",
      "1번부터 3번까지 해당 후보를 투표하세요 : 2\n",
      " 다음 후보자 중에 한명에게 투표를 하세요 \n",
      "기호 1번 : 홍길동 / 기호 2번 : 이순신  / 기호 3번 : 유관순\n",
      "1번부터 3번까지 해당 후보를 투표하세요 : 3\n",
      " 다음 후보자 중에 한명에게 투표를 하세요 \n",
      "기호 1번 : 홍길동 / 기호 2번 : 이순신  / 기호 3번 : 유관순\n",
      "1번부터 3번까지 해당 후보를 투표하세요 : 1\n",
      " 다음 후보자 중에 한명에게 투표를 하세요 \n",
      "기호 1번 : 홍길동 / 기호 2번 : 이순신  / 기호 3번 : 유관순\n",
      "1번부터 3번까지 해당 후보를 투표하세요 : 2\n",
      "투표현황 [2, 2, 1]\n"
     ]
    }
   ],
   "source": [
    "candidate = ['홍길동','이순신','유관순']\n",
    "vote = [0,0,0]\n",
    "\n",
    "for _ in range(5):\n",
    "  print(\" 다음 후보자 중에 한명에게 투표를 하세요 \")\n",
    "  print(\"기호 1번 : \" + candidate[0], \"/ 기호 2번 : \" + candidate[1], \" / 기호 3번 : \" + candidate[2])\n",
    "  choice = input(\"1번부터 3번까지 해당 후보를 투표하세요 : \")\n",
    "  # 문자형태로 된 숫자이고 그 수자가 1,2,3일때만 정상적으로 로직을 수행\n",
    "  if(choice.isdigit()):\n",
    "    choice = int(choice)\n",
    "    if( (choice >= 1) & (choice  <= 3) ):\n",
    "      vote[int(choice)-1] += 1\n",
    "    else:\n",
    "      print('1,2,3중에 하나를 입력하세요')\n",
    "  else:\n",
    "    print('숫자를 입력하세요')\n",
    "\n",
    "print('투표현황',vote)\n",
    "\n"
   ]
  },
  {
   "cell_type": "markdown",
   "metadata": {
    "id": "rfScIS4xF-5w"
   },
   "source": [
    "숫자 맞추기 게임"
   ]
  },
  {
   "cell_type": "code",
   "execution_count": null,
   "metadata": {
    "id": "STxpz2SHEhmV"
   },
   "outputs": [],
   "source": [
    "# 컴퓨터가 0과 100사이의 임의의 숫자를 선택하면 : 사용자는 모름\n",
    "# 사용자한테 값을 입력받아서 맞추기\n",
    "# 크다, 작다  사용자 값을 기준으로\n",
    "# ex com = 80   me = 30  작다\n",
    "# ex com = 80   me = 90  크다"
   ]
  },
  {
   "cell_type": "code",
   "execution_count": 29,
   "metadata": {
    "id": "WtRFxFZiGgNs"
   },
   "outputs": [
    {
     "name": "stdout",
     "output_type": "stream",
     "text": [
      "값을 입력하세요(0~100) : 49\n",
      "정답보다 작다\n",
      "값을 입력하세요(0~100) : 99\n",
      "정답보다 크다\n",
      "값을 입력하세요(0~100) : 75\n",
      "정답보다 크다\n",
      "값을 입력하세요(0~100) : 63\n",
      "정답보다 작다\n",
      "값을 입력하세요(0~100) : 70\n",
      "정답보다 크다\n",
      "값을 입력하세요(0~100) : 66\n",
      "정답입니다...\n"
     ]
    }
   ],
   "source": [
    "from random import randint\n",
    "com = randint(0,100)\n",
    "while True:\n",
    "  me = int(input(\"값을 입력하세요(0~100) : \"))\n",
    "  if com > me:\n",
    "    print(\"정답보다 작다\")\n",
    "  elif com < me:\n",
    "    print(\"정답보다 크다\")\n",
    "  else:\n",
    "    print(\"정답입니다...\")\n",
    "    break"
   ]
  },
  {
   "cell_type": "code",
   "execution_count": null,
   "metadata": {
    "id": "eQpTlDVsGvvV"
   },
   "outputs": [],
   "source": []
  }
 ],
 "metadata": {
  "colab": {
   "provenance": []
  },
  "kernelspec": {
   "display_name": "Python 3",
   "language": "python",
   "name": "python3"
  },
  "language_info": {
   "codemirror_mode": {
    "name": "ipython",
    "version": 3
   },
   "file_extension": ".py",
   "mimetype": "text/x-python",
   "name": "python",
   "nbconvert_exporter": "python",
   "pygments_lexer": "ipython3",
   "version": "3.8.5"
  }
 },
 "nbformat": 4,
 "nbformat_minor": 1
}
