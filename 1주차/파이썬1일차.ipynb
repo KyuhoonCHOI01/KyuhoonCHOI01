{
 "cells": [
  {
   "cell_type": "markdown",
   "metadata": {
    "id": "3ARGeH8zWvfU"
   },
   "source": [
    "파이썬 변수\n",
    "  - 정수형\n",
    "  - 문자열\n",
    "  - 실수\n",
    "  - 불리언"
   ]
  },
  {
   "cell_type": "markdown",
   "metadata": {
    "id": "ssOgWudxW6Wa"
   },
   "source": [
    "정수형"
   ]
  },
  {
   "cell_type": "code",
   "execution_count": 1,
   "metadata": {
    "colab": {
     "base_uri": "https://localhost:8080/"
    },
    "id": "OPUN2SzQVZiD",
    "outputId": "b3e48af3-f71e-40d3-e4e0-a92524fd4bf8"
   },
   "outputs": [
    {
     "name": "stdout",
     "output_type": "stream",
     "text": [
      "10\n"
     ]
    }
   ],
   "source": [
    "# 숫자 변수\n",
    "number = 10\n",
    "print(number)"
   ]
  },
  {
   "cell_type": "code",
   "execution_count": 2,
   "metadata": {
    "id": "7FS_GSGFXCS0"
   },
   "outputs": [],
   "source": [
    "# 년 월 일을 각각 변수 넣고 출력\n",
    "year = 2023\n",
    "month = 6\n",
    "day = 19"
   ]
  },
  {
   "cell_type": "code",
   "execution_count": 3,
   "metadata": {
    "colab": {
     "base_uri": "https://localhost:8080/"
    },
    "id": "mB3U5fgnXXaq",
    "outputId": "21367925-28af-4c1d-e622-dc4858e80f61"
   },
   "outputs": [
    {
     "name": "stdout",
     "output_type": "stream",
     "text": [
      "2023 6 19\n"
     ]
    }
   ],
   "source": [
    "print(year,month,day)"
   ]
  },
  {
   "cell_type": "markdown",
   "metadata": {
    "id": "wWZbTVvdX497"
   },
   "source": [
    "실수형"
   ]
  },
  {
   "cell_type": "code",
   "execution_count": 4,
   "metadata": {
    "id": "FuTiGrTsXz7K"
   },
   "outputs": [],
   "source": [
    "pi = 3.14"
   ]
  },
  {
   "cell_type": "code",
   "execution_count": 5,
   "metadata": {
    "colab": {
     "base_uri": "https://localhost:8080/"
    },
    "id": "jYfD1BZyX_YS",
    "outputId": "1df6c0df-cd67-47b4-ea4b-591c79c3c405"
   },
   "outputs": [
    {
     "name": "stdout",
     "output_type": "stream",
     "text": [
      "3.14\n"
     ]
    }
   ],
   "source": [
    "print(pi)"
   ]
  },
  {
   "cell_type": "markdown",
   "metadata": {
    "id": "tuODfksdYJyr"
   },
   "source": [
    "사칙연산 : 이항연산\n",
    "  - +\n",
    "  - -\n",
    "  - *\n",
    "  - /"
   ]
  },
  {
   "cell_type": "code",
   "execution_count": 6,
   "metadata": {
    "id": "s7fGsk4ZYAEK"
   },
   "outputs": [],
   "source": [
    "num1 = 5\n",
    "num2 = 2"
   ]
  },
  {
   "cell_type": "code",
   "execution_count": 7,
   "metadata": {
    "id": "0CFjQVvZYdXi"
   },
   "outputs": [],
   "source": [
    "num1 = 5; num2 = 2"
   ]
  },
  {
   "cell_type": "code",
   "execution_count": 8,
   "metadata": {
    "id": "MUXxZI9ZYlKJ"
   },
   "outputs": [],
   "source": [
    "num1, num2 = 5, 2"
   ]
  },
  {
   "cell_type": "code",
   "execution_count": 9,
   "metadata": {
    "colab": {
     "base_uri": "https://localhost:8080/"
    },
    "id": "nPcoFI-NYoAR",
    "outputId": "1f23b43a-9dbf-4219-8a16-39fde3817714"
   },
   "outputs": [
    {
     "data": {
      "text/plain": [
       "88"
      ]
     },
     "execution_count": 9,
     "metadata": {},
     "output_type": "execute_result"
    }
   ],
   "source": [
    "sum( [1,20,22,15,14,1,4,5,1,4,1] )"
   ]
  },
  {
   "cell_type": "code",
   "execution_count": 10,
   "metadata": {
    "colab": {
     "base_uri": "https://localhost:8080/"
    },
    "id": "e2HghJYMZE-R",
    "outputId": "adb352d1-5ac7-4123-a4d5-cf61a95aa0df"
   },
   "outputs": [
    {
     "name": "stdout",
     "output_type": "stream",
     "text": [
      "7\n"
     ]
    }
   ],
   "source": [
    "hap = num1 + num2\n",
    "print(hap)"
   ]
  },
  {
   "cell_type": "code",
   "execution_count": 11,
   "metadata": {
    "colab": {
     "base_uri": "https://localhost:8080/"
    },
    "id": "y6CphFJxZrFa",
    "outputId": "d1f62565-d20e-437e-bc28-1c501ee2e67e"
   },
   "outputs": [
    {
     "name": "stdout",
     "output_type": "stream",
     "text": [
      "3\n"
     ]
    }
   ],
   "source": [
    "print(num1 - num2)"
   ]
  },
  {
   "cell_type": "code",
   "execution_count": 12,
   "metadata": {
    "colab": {
     "base_uri": "https://localhost:8080/"
    },
    "id": "AJPL0Bu2bmXy",
    "outputId": "7e46b920-81e2-412f-cff3-e95e691d3cfd"
   },
   "outputs": [
    {
     "name": "stdout",
     "output_type": "stream",
     "text": [
      "10\n"
     ]
    }
   ],
   "source": [
    "print(num1 * num2)"
   ]
  },
  {
   "cell_type": "code",
   "execution_count": 13,
   "metadata": {
    "colab": {
     "base_uri": "https://localhost:8080/"
    },
    "id": "o7p__02Vbplp",
    "outputId": "7b8b064e-e47b-4bde-e5c5-f4663bb9c5e8"
   },
   "outputs": [
    {
     "name": "stdout",
     "output_type": "stream",
     "text": [
      "2.5\n"
     ]
    }
   ],
   "source": [
    "print(num1 / num2)"
   ]
  },
  {
   "cell_type": "code",
   "execution_count": 14,
   "metadata": {
    "colab": {
     "base_uri": "https://localhost:8080/"
    },
    "id": "tzt7Uijkbzdc",
    "outputId": "9cdf6e23-b109-43a2-8b9d-a1881177af34"
   },
   "outputs": [
    {
     "data": {
      "text/plain": [
       "8"
      ]
     },
     "execution_count": 14,
     "metadata": {},
     "output_type": "execute_result"
    }
   ],
   "source": [
    "num2**3"
   ]
  },
  {
   "cell_type": "code",
   "execution_count": 15,
   "metadata": {
    "colab": {
     "base_uri": "https://localhost:8080/"
    },
    "id": "0jLYPzfvb1fZ",
    "outputId": "3b6d1039-e08e-4eed-aa19-6e09d54994b5"
   },
   "outputs": [
    {
     "name": "stdout",
     "output_type": "stream",
     "text": [
      "2\n"
     ]
    }
   ],
   "source": [
    "# num1 과 num2를 나누기하면 몫과 나머지를 각각 구해봅시다\n",
    "print(num1 // num2)"
   ]
  },
  {
   "cell_type": "code",
   "execution_count": 16,
   "metadata": {
    "colab": {
     "base_uri": "https://localhost:8080/"
    },
    "id": "j2m89OrdcbBg",
    "outputId": "6b3b4839-fe05-432d-9d2b-31e39e8d6164"
   },
   "outputs": [
    {
     "data": {
      "text/plain": [
       "0.5"
      ]
     },
     "execution_count": 16,
     "metadata": {},
     "output_type": "execute_result"
    }
   ],
   "source": [
    "num1 / num2 - num1//num2"
   ]
  },
  {
   "cell_type": "code",
   "execution_count": 17,
   "metadata": {
    "colab": {
     "base_uri": "https://localhost:8080/"
    },
    "id": "SAvEWaqJcrD5",
    "outputId": "196d3d33-c390-44db-fa04-8e9803604049"
   },
   "outputs": [
    {
     "name": "stdout",
     "output_type": "stream",
     "text": [
      "1\n"
     ]
    }
   ],
   "source": [
    "# 나머지 연산자\n",
    "print(num1 % num2)"
   ]
  },
  {
   "cell_type": "code",
   "execution_count": 18,
   "metadata": {
    "id": "36CiumBNcxmZ"
   },
   "outputs": [],
   "source": [
    "# 잔돈거슬러 주기\n",
    "product_price = 7500\n",
    "pay_money = 10000\n",
    "# 몫과 나머지 연산자(//  %) 이용해서\n",
    "# 점원이 잔돈을 줄때\n",
    "# 1000 : ?\n",
    "# 500 : ?\n",
    "# 100 : ?\n",
    "# 50 : ?\n",
    "# 10 : ?"
   ]
  },
  {
   "cell_type": "markdown",
   "metadata": {
    "id": "g7D2XvtJdmUZ"
   },
   "source": [
    "문자열\n",
    "  - 문자들의 집합\n",
    "  - 문자 : character의 약자인 char\n",
    "  - 문자열 : String"
   ]
  },
  {
   "cell_type": "code",
   "execution_count": 19,
   "metadata": {
    "colab": {
     "base_uri": "https://localhost:8080/",
     "height": 35
    },
    "id": "VYhCiwr-dZgR",
    "outputId": "232ba2cd-b92f-416c-899a-3a7ac22f151c"
   },
   "outputs": [
    {
     "data": {
      "text/plain": [
       "\"안녕하세요 'python' \""
      ]
     },
     "execution_count": 19,
     "metadata": {},
     "output_type": "execute_result"
    }
   ],
   "source": [
    "\"안녕하세요 'python' \""
   ]
  },
  {
   "cell_type": "code",
   "execution_count": 20,
   "metadata": {
    "colab": {
     "base_uri": "https://localhost:8080/",
     "height": 35
    },
    "id": "MH-hsXudd_s5",
    "outputId": "f4ad530b-b3d3-41d1-9281-454551667e28"
   },
   "outputs": [
    {
     "data": {
      "text/plain": [
       "'안녕하세요 \"python\" '"
      ]
     },
     "execution_count": 20,
     "metadata": {},
     "output_type": "execute_result"
    }
   ],
   "source": [
    "'안녕하세요 \"python\" '"
   ]
  },
  {
   "cell_type": "markdown",
   "metadata": {
    "id": "zsxreNjceimz"
   },
   "source": [
    "사용자로부터 입력을 받기"
   ]
  },
  {
   "cell_type": "code",
   "execution_count": 21,
   "metadata": {
    "colab": {
     "base_uri": "https://localhost:8080/"
    },
    "id": "nL6DcfW7eX9o",
    "outputId": "e357c9be-53c3-4e87-c635-a3f49d63cba0"
   },
   "outputs": [
    {
     "name": "stdout",
     "output_type": "stream",
     "text": [
      "나이를 입력하세요68세\n"
     ]
    }
   ],
   "source": [
    "age = input(\"나이를 입력하세요\")"
   ]
  },
  {
   "cell_type": "code",
   "execution_count": 22,
   "metadata": {
    "colab": {
     "base_uri": "https://localhost:8080/",
     "height": 35
    },
    "id": "W45wqhZuepKf",
    "outputId": "e6580bd8-ab65-4ba3-cd00-4774d0e625b3"
   },
   "outputs": [
    {
     "data": {
      "text/plain": [
       "'68세'"
      ]
     },
     "execution_count": 22,
     "metadata": {},
     "output_type": "execute_result"
    }
   ],
   "source": [
    "age"
   ]
  },
  {
   "cell_type": "code",
   "execution_count": 23,
   "metadata": {
    "colab": {
     "base_uri": "https://localhost:8080/",
     "height": 35
    },
    "id": "ixBdXtm0ergQ",
    "outputId": "e9cc1c20-db34-410a-b1e2-d2f6c8b7dd36"
   },
   "outputs": [
    {
     "data": {
      "text/plain": [
       "'ab'"
      ]
     },
     "execution_count": 23,
     "metadata": {},
     "output_type": "execute_result"
    }
   ],
   "source": [
    "\"a\"+\"b\""
   ]
  },
  {
   "cell_type": "code",
   "execution_count": 24,
   "metadata": {
    "colab": {
     "base_uri": "https://localhost:8080/",
     "height": 35
    },
    "id": "FSTTNdzZfLDQ",
    "outputId": "42d5e8bf-3476-4dd6-9db6-56eb844a6579"
   },
   "outputs": [
    {
     "data": {
      "text/plain": [
       "'aa'"
      ]
     },
     "execution_count": 24,
     "metadata": {},
     "output_type": "execute_result"
    }
   ],
   "source": [
    "\"a\"*2"
   ]
  },
  {
   "cell_type": "code",
   "execution_count": 25,
   "metadata": {
    "colab": {
     "base_uri": "https://localhost:8080/",
     "height": 35
    },
    "id": "KiZJYxQEfOyv",
    "outputId": "42e934a2-9df7-424e-95e8-fa1577301f1d"
   },
   "outputs": [
    {
     "data": {
      "text/plain": [
       "'abcabc'"
      ]
     },
     "execution_count": 25,
     "metadata": {},
     "output_type": "execute_result"
    }
   ],
   "source": [
    "\"abc\"*2"
   ]
  },
  {
   "cell_type": "code",
   "execution_count": 26,
   "metadata": {
    "id": "wteu-hDdfYNI"
   },
   "outputs": [
    {
     "name": "stdout",
     "output_type": "stream",
     "text": [
      "숫자를 입력하세요 : 68\n"
     ]
    },
    {
     "data": {
      "text/plain": [
       "68"
      ]
     },
     "execution_count": 26,
     "metadata": {},
     "output_type": "execute_result"
    }
   ],
   "source": [
    "age = input(\"숫자를 입력하세요 : \")\n",
    "age = int(age)\n",
    "age"
   ]
  },
  {
   "cell_type": "markdown",
   "metadata": {
    "id": "ggtCPouQj_Bo"
   },
   "source": [
    "두개의 숫자를 입력받아서 사칙연산을 각각 해봅시다"
   ]
  },
  {
   "cell_type": "code",
   "execution_count": 27,
   "metadata": {
    "colab": {
     "base_uri": "https://localhost:8080/"
    },
    "id": "tVh-rF6VfiFQ",
    "outputId": "82f8b803-4681-4840-9b7f-d91388f879d8"
   },
   "outputs": [
    {
     "name": "stdout",
     "output_type": "stream",
     "text": [
      "첫번째 숫자를 입력하세요 : 5\n",
      "첫번째 숫자를 입력하세요 : 2\n"
     ]
    }
   ],
   "source": [
    "number1 = int(input(\"첫번째 숫자를 입력하세요 : \"))\n",
    "number2 = int(input(\"첫번째 숫자를 입력하세요 : \"))"
   ]
  },
  {
   "cell_type": "code",
   "execution_count": 29,
   "metadata": {
    "id": "dhZsXsAjluuY"
   },
   "outputs": [
    {
     "name": "stdout",
     "output_type": "stream",
     "text": [
      "7\n",
      "3\n",
      "10\n",
      "2.5\n",
      "2\n",
      "1\n"
     ]
    }
   ],
   "source": [
    "print( number1 + number2 ) # +\n",
    "print( number1 - number2 ) # -\n",
    "print( number1 * number2) # *\n",
    "print( number1 / number2) # /\n",
    "print( number1 // number2) # //\n",
    "print( number1 % number2) # %"
   ]
  },
  {
   "cell_type": "markdown",
   "metadata": {
    "id": "Y2OXYVmRn5pG"
   },
   "source": [
    "불린형\n",
    "  - true / false"
   ]
  },
  {
   "cell_type": "code",
   "execution_count": 30,
   "metadata": {
    "id": "3Cf4sgUFl9X6"
   },
   "outputs": [],
   "source": [
    "isSuccess = True"
   ]
  },
  {
   "cell_type": "code",
   "execution_count": 31,
   "metadata": {
    "id": "rnvQzRHXoDTO"
   },
   "outputs": [],
   "source": [
    "isSuccess = False"
   ]
  },
  {
   "cell_type": "markdown",
   "metadata": {
    "id": "mNPs4MUjoJFW"
   },
   "source": [
    "코딩팁 - ctrl+spacebar\n",
    "  - 코딩을 할때는 가급적 자동완성기능을 이용해서\n",
    "  - 오타의 실수를 피한다.\n",
    "  - 다 외울수 없으므로 적극 활용한다"
   ]
  },
  {
   "cell_type": "markdown",
   "metadata": {
    "id": "xRKWkqWko1pL"
   },
   "source": [
    "naming\n",
    "  - 변수는 여러단어가 결합된 형태일때는 _ 붙인다.\n",
    "  - 소문자\n",
    "  - 숫자 및 특수기호로 시작할수 없다(단 _ 예외)"
   ]
  },
  {
   "cell_type": "code",
   "execution_count": 32,
   "metadata": {
    "id": "AZbWHhbmoEdG"
   },
   "outputs": [],
   "source": [
    "# display_number\n",
    "# displayNumber\n",
    "_number = 10\n",
    "number = 20"
   ]
  },
  {
   "cell_type": "markdown",
   "metadata": {
    "id": "wkoBiNsLqO0_"
   },
   "source": [
    "변수\n",
    "  - 저장공간 이름을 갖는다\n",
    "  - age = 10   오른쪽은 값이오고 왼쪽은 저장할 대상\n",
    "    - 왼쪽은 상수와 수식이 아닌 저장대상이 되는 이름\n",
    "    - 오른쪽은 값,수식,변수,함수\n",
    "    - 왼쪽 = 오른쪽 할때 = : 대입연산자\n",
    "    - 변수이름은 최대한 의미를 전달할 수 있도록 명명\n",
    "      - 정 사용할 이름이 마땅치 않으면 한글표현식 영어 가능\n",
    "      - _를 제외한 특수기호나 숫자로 시작 할 수 없다\n",
    "연산자\n",
    "  - 사칙연산자\n",
    "  - // 몫\n",
    "  - % 나머지\n",
    "  - ** 지수승\n",
    "  - 문자열 + 문자열 : 두개의 문자열을 합친 새로운 문자열\n",
    "  - 문자열*숫자 : 문자열을 숫자만큼 반복"
   ]
  },
  {
   "cell_type": "code",
   "execution_count": null,
   "metadata": {
    "id": "sDkOvItSpOtG"
   },
   "outputs": [],
   "source": []
  }
 ],
 "metadata": {
  "colab": {
   "provenance": []
  },
  "kernelspec": {
   "display_name": "Python 3",
   "language": "python",
   "name": "python3"
  },
  "language_info": {
   "codemirror_mode": {
    "name": "ipython",
    "version": 3
   },
   "file_extension": ".py",
   "mimetype": "text/x-python",
   "name": "python",
   "nbconvert_exporter": "python",
   "pygments_lexer": "ipython3",
   "version": "3.8.5"
  }
 },
 "nbformat": 4,
 "nbformat_minor": 1
}
