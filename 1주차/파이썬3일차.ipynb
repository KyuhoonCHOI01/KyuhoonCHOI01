{
 "cells": [
  {
   "cell_type": "markdown",
   "metadata": {
    "id": "BvhjEB0Xae5u"
   },
   "source": [
    "자료구조\n",
    "  - 리스트\n",
    "  - 튜플\n",
    "  - 딕션너리"
   ]
  },
  {
   "cell_type": "markdown",
   "metadata": {
    "id": "EBEe5Sg9aks_"
   },
   "source": [
    "Dictionary"
   ]
  },
  {
   "cell_type": "markdown",
   "metadata": {
    "id": "P562h08Dapdk"
   },
   "source": [
    "- 만들기"
   ]
  },
  {
   "cell_type": "code",
   "execution_count": 66,
   "metadata": {
    "id": "NxkyaRI2akM1"
   },
   "outputs": [],
   "source": [
    "dic1 = { \"a\":10, \"b\":20, \"c\":[1,2,3,4] }"
   ]
  },
  {
   "cell_type": "code",
   "execution_count": 67,
   "metadata": {
    "id": "CVy7O2uza9C9"
   },
   "outputs": [],
   "source": [
    "dic1['a'] = [10,20]"
   ]
  },
  {
   "cell_type": "code",
   "execution_count": 68,
   "metadata": {
    "colab": {
     "base_uri": "https://localhost:8080/"
    },
    "id": "wNFXYPZxbEiT",
    "outputId": "c588b344-15ba-44dc-b1e3-b9fa0a0bca97"
   },
   "outputs": [
    {
     "data": {
      "text/plain": [
       "{'a': [10, 20], 'b': 20, 'c': [1, 2, 3, 4]}"
      ]
     },
     "execution_count": 68,
     "metadata": {},
     "output_type": "execute_result"
    }
   ],
   "source": [
    "dic1"
   ]
  },
  {
   "cell_type": "markdown",
   "metadata": {
    "id": "TDI6Na59bM9s"
   },
   "source": [
    "데이터 가져오기"
   ]
  },
  {
   "cell_type": "code",
   "execution_count": 69,
   "metadata": {
    "id": "LNqh8RFTbHO6"
   },
   "outputs": [],
   "source": [
    "# key를 이용해서 해당 키의 값을 가져오고 설정\n",
    "# key들의 값을 리스트로 가져오기\n",
    "# value들의 값을 리스트로 가져오기"
   ]
  },
  {
   "cell_type": "code",
   "execution_count": 70,
   "metadata": {
    "colab": {
     "base_uri": "https://localhost:8080/"
    },
    "id": "WBmLDOVjbYyM",
    "outputId": "b1dcacde-34b6-483f-c293-9f7d5bd96d84"
   },
   "outputs": [
    {
     "data": {
      "text/plain": [
       "dict_keys(['a', 'b', 'c'])"
      ]
     },
     "execution_count": 70,
     "metadata": {},
     "output_type": "execute_result"
    }
   ],
   "source": [
    "dic1.keys()"
   ]
  },
  {
   "cell_type": "code",
   "execution_count": 71,
   "metadata": {
    "colab": {
     "base_uri": "https://localhost:8080/"
    },
    "id": "6Q19zaEWbisr",
    "outputId": "6f6139bc-455e-4f7c-c2a5-2611398fba11"
   },
   "outputs": [
    {
     "data": {
      "text/plain": [
       "dict_values([[10, 20], 20, [1, 2, 3, 4]])"
      ]
     },
     "execution_count": 71,
     "metadata": {},
     "output_type": "execute_result"
    }
   ],
   "source": [
    "dic1.values()"
   ]
  },
  {
   "cell_type": "code",
   "execution_count": 72,
   "metadata": {
    "colab": {
     "base_uri": "https://localhost:8080/"
    },
    "id": "pwpF-S-6bn2s",
    "outputId": "18174b2b-7fa6-45fe-eb6d-23231027708f"
   },
   "outputs": [
    {
     "data": {
      "text/plain": [
       "dict_items([('a', [10, 20]), ('b', 20), ('c', [1, 2, 3, 4])])"
      ]
     },
     "execution_count": 72,
     "metadata": {},
     "output_type": "execute_result"
    }
   ],
   "source": [
    "dic1.items()"
   ]
  },
  {
   "cell_type": "markdown",
   "metadata": {
    "id": "pRZRC4vycog1"
   },
   "source": [
    "복합대입연산자\n",
    "  - a += 1 : a = a + 1\n",
    "  - a *= 1 : a = a * 1\n",
    "  - a /= 1 : a = a / 1\n",
    "  - a -= 1 : a = a - 1"
   ]
  },
  {
   "cell_type": "code",
   "execution_count": 73,
   "metadata": {
    "id": "RPcNP9Nxbr8T"
   },
   "outputs": [],
   "source": [
    "dic2 = {'홍길동':0,'김유신':0}"
   ]
  },
  {
   "cell_type": "code",
   "execution_count": 74,
   "metadata": {
    "id": "3JiPWYd1clBS"
   },
   "outputs": [],
   "source": [
    "dic2['홍길동'] += 1\n",
    "dic2['홍길동'] += 1\n",
    "dic2['김유신'] += 1\n",
    "dic2['홍길동'] += 1\n",
    "dic2['김유신'] += 1"
   ]
  },
  {
   "cell_type": "code",
   "execution_count": 75,
   "metadata": {
    "colab": {
     "base_uri": "https://localhost:8080/"
    },
    "id": "yQd3BgThdhn6",
    "outputId": "311b3383-16ea-418e-904a-e727646af6dd"
   },
   "outputs": [
    {
     "data": {
      "text/plain": [
       "{'홍길동': 3, '김유신': 2}"
      ]
     },
     "execution_count": 75,
     "metadata": {},
     "output_type": "execute_result"
    }
   ],
   "source": [
    "dic2"
   ]
  },
  {
   "cell_type": "code",
   "execution_count": 76,
   "metadata": {
    "id": "BPOfFJ2Admnq"
   },
   "outputs": [],
   "source": [
    "dic3 = {}"
   ]
  },
  {
   "cell_type": "code",
   "execution_count": 77,
   "metadata": {
    "id": "-tktoQaNd96L"
   },
   "outputs": [],
   "source": [
    "dic3['이순신'] = 10"
   ]
  },
  {
   "cell_type": "code",
   "execution_count": 78,
   "metadata": {
    "id": "DW88TjqDeOuq"
   },
   "outputs": [],
   "source": [
    "dic3['abc'] = 0"
   ]
  },
  {
   "cell_type": "code",
   "execution_count": 79,
   "metadata": {
    "colab": {
     "base_uri": "https://localhost:8080/"
    },
    "id": "PSddD0X6ee7L",
    "outputId": "90f951a9-05bc-44be-fe84-1f12fae6f6ce"
   },
   "outputs": [
    {
     "data": {
      "text/plain": [
       "{'이순신': 10, 'abc': 0}"
      ]
     },
     "execution_count": 79,
     "metadata": {},
     "output_type": "execute_result"
    }
   ],
   "source": [
    "dic3"
   ]
  },
  {
   "cell_type": "code",
   "execution_count": 80,
   "metadata": {
    "id": "G_O_ZQinejv7"
   },
   "outputs": [],
   "source": [
    "# C : Create\n",
    "# R : Read\n",
    "# U : Update\n",
    "# D : Delete"
   ]
  },
  {
   "cell_type": "code",
   "execution_count": 81,
   "metadata": {
    "colab": {
     "base_uri": "https://localhost:8080/"
    },
    "id": "lvLs98vtewTJ",
    "outputId": "3cb51ab9-7727-4313-8708-24dda18c742e"
   },
   "outputs": [
    {
     "data": {
      "text/plain": [
       "10"
      ]
     },
     "execution_count": 81,
     "metadata": {},
     "output_type": "execute_result"
    }
   ],
   "source": [
    "dic3.pop('이순신')"
   ]
  },
  {
   "cell_type": "code",
   "execution_count": 82,
   "metadata": {
    "id": "Sq8Ww-G1fEnK"
   },
   "outputs": [],
   "source": [
    "del dic3['abc']"
   ]
  },
  {
   "cell_type": "code",
   "execution_count": 83,
   "metadata": {
    "colab": {
     "base_uri": "https://localhost:8080/"
    },
    "id": "4nLphRTefR7i",
    "outputId": "80d76822-43ff-49a4-8f26-614ee57cea7f"
   },
   "outputs": [
    {
     "data": {
      "text/plain": [
       "{}"
      ]
     },
     "execution_count": 83,
     "metadata": {},
     "output_type": "execute_result"
    }
   ],
   "source": [
    "dic3"
   ]
  },
  {
   "cell_type": "code",
   "execution_count": 84,
   "metadata": {
    "colab": {
     "base_uri": "https://localhost:8080/"
    },
    "id": "MtZnurDPfi-Z",
    "outputId": "f3d1a570-a790-4c53-8c27-70e73eb89dc1"
   },
   "outputs": [
    {
     "data": {
      "text/plain": [
       "{'a': 0, 'b': 1, 'c': 2}"
      ]
     },
     "execution_count": 84,
     "metadata": {},
     "output_type": "execute_result"
    }
   ],
   "source": [
    "dic4 = {'a':0,'b':1,'c':2  }\n",
    "dic4"
   ]
  },
  {
   "cell_type": "code",
   "execution_count": 85,
   "metadata": {
    "id": "R3hGAEwQfrzb"
   },
   "outputs": [],
   "source": [
    "dic4.clear()"
   ]
  },
  {
   "cell_type": "code",
   "execution_count": 86,
   "metadata": {
    "colab": {
     "base_uri": "https://localhost:8080/"
    },
    "id": "u8Sk89mjfzWB",
    "outputId": "25349b62-d82b-4df1-9ea8-b382417bed66"
   },
   "outputs": [
    {
     "data": {
      "text/plain": [
       "{}"
      ]
     },
     "execution_count": 86,
     "metadata": {},
     "output_type": "execute_result"
    }
   ],
   "source": [
    "dic4"
   ]
  },
  {
   "cell_type": "code",
   "execution_count": 87,
   "metadata": {
    "id": "s3FOcJAUf0XJ"
   },
   "outputs": [],
   "source": [
    "dic4 = {'a':0,'b':1,'c':2  }"
   ]
  },
  {
   "cell_type": "code",
   "execution_count": 88,
   "metadata": {
    "colab": {
     "base_uri": "https://localhost:8080/",
     "height": 35
    },
    "id": "PGjdqrfvgAwZ",
    "outputId": "b3e2a5a8-dd4c-46af-f633-b93aa91d57ac"
   },
   "outputs": [
    {
     "data": {
      "text/plain": [
       "'키가 존재하지 않습니다.'"
      ]
     },
     "execution_count": 88,
     "metadata": {},
     "output_type": "execute_result"
    }
   ],
   "source": [
    "dic4.get('d','키가 존재하지 않습니다.')"
   ]
  },
  {
   "cell_type": "markdown",
   "metadata": {
    "id": "x_dQyVLkgafT"
   },
   "source": [
    "Create"
   ]
  },
  {
   "cell_type": "code",
   "execution_count": 89,
   "metadata": {
    "id": "TXlt1GYbgC1y"
   },
   "outputs": [],
   "source": [
    "dic1 = dict()\n",
    "dic2 = {}\n",
    "\n",
    "a = list()\n",
    "a2 = []\n",
    "\n",
    "b = tuple()\n",
    "b2 = ()"
   ]
  },
  {
   "cell_type": "code",
   "execution_count": 90,
   "metadata": {
    "id": "l8A6YDyUg1jh"
   },
   "outputs": [],
   "source": [
    "dic1['kor'] = 95\n",
    "dic1['eng'] = 99\n",
    "dic1['math'] = 94"
   ]
  },
  {
   "cell_type": "code",
   "execution_count": 91,
   "metadata": {
    "colab": {
     "base_uri": "https://localhost:8080/"
    },
    "id": "HfWDYkYShIBx",
    "outputId": "02c597b4-1712-4d7d-99d1-5ff6a9922348"
   },
   "outputs": [
    {
     "data": {
      "text/plain": [
       "{'kor': 95, 'eng': 99, 'math': 94}"
      ]
     },
     "execution_count": 91,
     "metadata": {},
     "output_type": "execute_result"
    }
   ],
   "source": [
    "dic1"
   ]
  },
  {
   "cell_type": "markdown",
   "metadata": {
    "id": "PvnbJBdNhM2s"
   },
   "source": [
    "Read"
   ]
  },
  {
   "cell_type": "code",
   "execution_count": 92,
   "metadata": {
    "colab": {
     "base_uri": "https://localhost:8080/"
    },
    "id": "PmI2U9ZlhJsi",
    "outputId": "84e2df16-d877-4547-8902-076c76fce924"
   },
   "outputs": [
    {
     "data": {
      "text/plain": [
       "99"
      ]
     },
     "execution_count": 92,
     "metadata": {},
     "output_type": "execute_result"
    }
   ],
   "source": [
    "dic1['eng']"
   ]
  },
  {
   "cell_type": "code",
   "execution_count": 93,
   "metadata": {
    "colab": {
     "base_uri": "https://localhost:8080/"
    },
    "id": "fhqrYx4xhYqp",
    "outputId": "2f4c0f0d-7f05-4c33-e2d5-3f8ece78a08d"
   },
   "outputs": [
    {
     "data": {
      "text/plain": [
       "99"
      ]
     },
     "execution_count": 93,
     "metadata": {},
     "output_type": "execute_result"
    }
   ],
   "source": [
    "dic1.get('eng')"
   ]
  },
  {
   "cell_type": "code",
   "execution_count": 94,
   "metadata": {
    "colab": {
     "base_uri": "https://localhost:8080/"
    },
    "id": "PJeUMlvbhb3h",
    "outputId": "956bd6b4-ba48-46af-a02f-17aaa423a85a"
   },
   "outputs": [
    {
     "data": {
      "text/plain": [
       "dict_keys(['kor', 'eng', 'math'])"
      ]
     },
     "execution_count": 94,
     "metadata": {},
     "output_type": "execute_result"
    }
   ],
   "source": [
    "dic1.keys()"
   ]
  },
  {
   "cell_type": "code",
   "execution_count": 95,
   "metadata": {
    "colab": {
     "base_uri": "https://localhost:8080/"
    },
    "id": "Cq1Ud0DVhf3B",
    "outputId": "e018c76c-7dfa-4165-d884-4dbb30db3ca6"
   },
   "outputs": [
    {
     "data": {
      "text/plain": [
       "dict_values([95, 99, 94])"
      ]
     },
     "execution_count": 95,
     "metadata": {},
     "output_type": "execute_result"
    }
   ],
   "source": [
    "dic1.values()"
   ]
  },
  {
   "cell_type": "markdown",
   "metadata": {
    "id": "qVMXFQgkhkZd"
   },
   "source": [
    "update"
   ]
  },
  {
   "cell_type": "code",
   "execution_count": 96,
   "metadata": {
    "colab": {
     "base_uri": "https://localhost:8080/"
    },
    "id": "l9cR-cxohh8h",
    "outputId": "a8f88f8d-33d4-42c5-d959-e3b3334ed74f"
   },
   "outputs": [
    {
     "data": {
      "text/plain": [
       "{'kor': 95, 'eng': 99, 'math': 94}"
      ]
     },
     "execution_count": 96,
     "metadata": {},
     "output_type": "execute_result"
    }
   ],
   "source": [
    "dic1"
   ]
  },
  {
   "cell_type": "code",
   "execution_count": 97,
   "metadata": {
    "id": "q6OxKobBhmaZ"
   },
   "outputs": [],
   "source": [
    "dic1['eng'] = 92"
   ]
  },
  {
   "cell_type": "code",
   "execution_count": 98,
   "metadata": {
    "id": "msp9rFzthvCZ"
   },
   "outputs": [],
   "source": [
    "# dic1.get('eng') = 92"
   ]
  },
  {
   "cell_type": "markdown",
   "metadata": {
    "id": "yGbvI5vqiq9j"
   },
   "source": [
    "Delete"
   ]
  },
  {
   "cell_type": "code",
   "execution_count": 99,
   "metadata": {
    "id": "2m_ZHSiChy5x"
   },
   "outputs": [],
   "source": [
    "del dic1['eng']  # 삭제만 전담"
   ]
  },
  {
   "cell_type": "code",
   "execution_count": 100,
   "metadata": {
    "colab": {
     "base_uri": "https://localhost:8080/"
    },
    "id": "dEt8q4CTi4u5",
    "outputId": "45424a4e-83ef-4346-fc6e-284fd5aac2e1"
   },
   "outputs": [
    {
     "data": {
      "text/plain": [
       "{'kor': 95, 'math': 94}"
      ]
     },
     "execution_count": 100,
     "metadata": {},
     "output_type": "execute_result"
    }
   ],
   "source": [
    "dic1"
   ]
  },
  {
   "cell_type": "code",
   "execution_count": 101,
   "metadata": {
    "colab": {
     "base_uri": "https://localhost:8080/"
    },
    "id": "DwflICl4i5yI",
    "outputId": "320a9a89-9928-449c-9212-4ddd06679ca6"
   },
   "outputs": [
    {
     "data": {
      "text/plain": [
       "94"
      ]
     },
     "execution_count": 101,
     "metadata": {},
     "output_type": "execute_result"
    }
   ],
   "source": [
    "# 삭제도하지만 뭘 삭제했는제 값을 돌려주는 명령어  pop()\n",
    "dic1.pop('math')"
   ]
  },
  {
   "cell_type": "code",
   "execution_count": 102,
   "metadata": {
    "id": "iJqK60aajiQp"
   },
   "outputs": [],
   "source": [
    "dic1.clear()"
   ]
  },
  {
   "cell_type": "code",
   "execution_count": 103,
   "metadata": {
    "id": "v7EdHrUykYjJ"
   },
   "outputs": [],
   "source": [
    "dic1['kor'] = 95\n",
    "dic1['eng'] = 99\n",
    "dic1['math'] = 94"
   ]
  },
  {
   "cell_type": "code",
   "execution_count": 104,
   "metadata": {
    "colab": {
     "base_uri": "https://localhost:8080/"
    },
    "id": "Y6CXAuzwkaTg",
    "outputId": "e81ad599-dcf1-4434-f3c9-fb41da406b49"
   },
   "outputs": [
    {
     "data": {
      "text/plain": [
       "False"
      ]
     },
     "execution_count": 104,
     "metadata": {},
     "output_type": "execute_result"
    }
   ],
   "source": [
    "'ss' in dic1"
   ]
  },
  {
   "cell_type": "code",
   "execution_count": 105,
   "metadata": {
    "colab": {
     "base_uri": "https://localhost:8080/"
    },
    "id": "5q3oW2f5kxEw",
    "outputId": "862f5eb4-96d8-40c2-e0d9-43573f9749ec"
   },
   "outputs": [
    {
     "data": {
      "text/plain": [
       "True"
      ]
     },
     "execution_count": 105,
     "metadata": {},
     "output_type": "execute_result"
    }
   ],
   "source": [
    "'eng' in dic1"
   ]
  },
  {
   "cell_type": "code",
   "execution_count": 106,
   "metadata": {
    "colab": {
     "base_uri": "https://localhost:8080/"
    },
    "id": "PkqL5fRzkzhx",
    "outputId": "e925fb33-0ae1-4198-f780-faae200dc293"
   },
   "outputs": [
    {
     "data": {
      "text/plain": [
       "False"
      ]
     },
     "execution_count": 106,
     "metadata": {},
     "output_type": "execute_result"
    }
   ],
   "source": [
    "10 in [1,2,3,4,5]"
   ]
  },
  {
   "cell_type": "code",
   "execution_count": 107,
   "metadata": {
    "colab": {
     "base_uri": "https://localhost:8080/"
    },
    "id": "tOQn34zek9MB",
    "outputId": "df658967-581f-4396-c252-1069450bae18"
   },
   "outputs": [
    {
     "data": {
      "text/plain": [
       "True"
      ]
     },
     "execution_count": 107,
     "metadata": {},
     "output_type": "execute_result"
    }
   ],
   "source": [
    "5 in [1,2,3,4,5]"
   ]
  },
  {
   "cell_type": "code",
   "execution_count": 108,
   "metadata": {
    "colab": {
     "base_uri": "https://localhost:8080/"
    },
    "id": "JUnkLPr0lAbY",
    "outputId": "255ac0e6-31b6-40e6-baac-522dbc46176b"
   },
   "outputs": [
    {
     "data": {
      "text/plain": [
       "True"
      ]
     },
     "execution_count": 108,
     "metadata": {},
     "output_type": "execute_result"
    }
   ],
   "source": [
    "'kor' in  dic1\n",
    "'kor' in  dic1.keys()"
   ]
  },
  {
   "cell_type": "code",
   "execution_count": 109,
   "metadata": {
    "colab": {
     "base_uri": "https://localhost:8080/"
    },
    "id": "TV08m6WplDin",
    "outputId": "e2d2f9e0-1a01-4700-9d0a-1ec5935fa895"
   },
   "outputs": [
    {
     "data": {
      "text/plain": [
       "True"
      ]
     },
     "execution_count": 109,
     "metadata": {},
     "output_type": "execute_result"
    }
   ],
   "source": [
    "95 in dic1.values()"
   ]
  },
  {
   "cell_type": "markdown",
   "metadata": {
    "id": "XVTBVhlan7Y1"
   },
   "source": [
    "집합 Set\n",
    "  - 교집합\n",
    "  - 차집합\n",
    "  - 합집합"
   ]
  },
  {
   "cell_type": "code",
   "execution_count": 110,
   "metadata": {
    "id": "oqy64MYclQAx"
   },
   "outputs": [],
   "source": [
    "a,b = [1,2,3,4,5,1,2,3], [2,3,7,8,9]"
   ]
  },
  {
   "cell_type": "code",
   "execution_count": 111,
   "metadata": {
    "colab": {
     "base_uri": "https://localhost:8080/"
    },
    "id": "CvuLBmPAoPyg",
    "outputId": "c5787a8e-7775-4fc7-9ead-ead9860d1132"
   },
   "outputs": [
    {
     "data": {
      "text/plain": [
       "[1, 2, 3, 4, 5]"
      ]
     },
     "execution_count": 111,
     "metadata": {},
     "output_type": "execute_result"
    }
   ],
   "source": [
    "list(set(a))"
   ]
  },
  {
   "cell_type": "code",
   "execution_count": 112,
   "metadata": {
    "id": "DAl3JfxtoeDP"
   },
   "outputs": [],
   "source": [
    "set_b = {1,2,3,4,5}"
   ]
  },
  {
   "cell_type": "code",
   "execution_count": 113,
   "metadata": {
    "colab": {
     "base_uri": "https://localhost:8080/"
    },
    "id": "w-qgm_W_opbn",
    "outputId": "117b6baa-e848-4861-8688-2ee345d92ba3"
   },
   "outputs": [
    {
     "data": {
      "text/plain": [
       "dict"
      ]
     },
     "execution_count": 113,
     "metadata": {},
     "output_type": "execute_result"
    }
   ],
   "source": [
    "type( {'a':0}  )"
   ]
  },
  {
   "cell_type": "code",
   "execution_count": 129,
   "metadata": {
    "id": "n1gwKFFKo2D2"
   },
   "outputs": [],
   "source": [
    "a,b = [1,2,3,4,5,1,2,3], [2,3,7,8,9]"
   ]
  },
  {
   "cell_type": "code",
   "execution_count": 130,
   "metadata": {
    "id": "X1Az-c2Hp02_"
   },
   "outputs": [],
   "source": [
    "set_a, set_b = set(a), set(b)"
   ]
  },
  {
   "cell_type": "code",
   "execution_count": 131,
   "metadata": {
    "colab": {
     "base_uri": "https://localhost:8080/"
    },
    "id": "D7JFiAIMqZdA",
    "outputId": "9547e421-3e6f-4017-ba3a-5bccb6ec9b35"
   },
   "outputs": [
    {
     "data": {
      "text/plain": [
       "{2, 3}"
      ]
     },
     "execution_count": 131,
     "metadata": {},
     "output_type": "execute_result"
    }
   ],
   "source": [
    "# and연산자\n",
    "set_a & set_b\n",
    "set_a.intersection(set_b)"
   ]
  },
  {
   "cell_type": "code",
   "execution_count": 132,
   "metadata": {
    "colab": {
     "base_uri": "https://localhost:8080/"
    },
    "id": "tH7kFzXhqcW2",
    "outputId": "64a20c87-ce08-4e3f-df4d-775ddb07d291"
   },
   "outputs": [
    {
     "data": {
      "text/plain": [
       "{1, 2, 3, 4, 5, 7, 8, 9}"
      ]
     },
     "execution_count": 132,
     "metadata": {},
     "output_type": "execute_result"
    }
   ],
   "source": [
    "# or연산자\n",
    "set_a | set_b\n",
    "set_a.union(set_b)"
   ]
  },
  {
   "cell_type": "code",
   "execution_count": 133,
   "metadata": {
    "colab": {
     "base_uri": "https://localhost:8080/"
    },
    "id": "NB0Yc33_qgiD",
    "outputId": "bd296b4f-c654-44a1-842c-bd8237b9bdc3"
   },
   "outputs": [
    {
     "data": {
      "text/plain": [
       "{1, 4, 5}"
      ]
     },
     "execution_count": 133,
     "metadata": {},
     "output_type": "execute_result"
    }
   ],
   "source": [
    "set_a - set_b\n",
    "set_a.difference(set_b)"
   ]
  },
  {
   "cell_type": "code",
   "execution_count": 134,
   "metadata": {
    "id": "f9akS0rmrTAG"
   },
   "outputs": [],
   "source": [
    "set_a.add(10)"
   ]
  },
  {
   "cell_type": "code",
   "execution_count": 135,
   "metadata": {
    "id": "-Uwm6tq_rfLg"
   },
   "outputs": [],
   "source": [
    "set_a.add( (11,12) )"
   ]
  },
  {
   "cell_type": "code",
   "execution_count": 136,
   "metadata": {
    "colab": {
     "base_uri": "https://localhost:8080/"
    },
    "id": "GpZQ9oDUsU_e",
    "outputId": "9b76be43-3698-4a72-9982-37a0009d2008"
   },
   "outputs": [
    {
     "data": {
      "text/plain": [
       "{(11, 12), 1, 10, 2, 3, 4, 5}"
      ]
     },
     "execution_count": 136,
     "metadata": {},
     "output_type": "execute_result"
    }
   ],
   "source": [
    "set_a"
   ]
  },
  {
   "cell_type": "code",
   "execution_count": 137,
   "metadata": {
    "id": "HtTCIEnXslHY"
   },
   "outputs": [],
   "source": [
    "set_a.update([20,30])"
   ]
  },
  {
   "cell_type": "code",
   "execution_count": 138,
   "metadata": {
    "colab": {
     "base_uri": "https://localhost:8080/"
    },
    "id": "VP-QnsQbs0m-",
    "outputId": "f4d4bf80-6da9-4abf-be18-9c512977de29"
   },
   "outputs": [
    {
     "data": {
      "text/plain": [
       "{(11, 12), 1, 10, 2, 20, 3, 30, 4, 5}"
      ]
     },
     "execution_count": 138,
     "metadata": {},
     "output_type": "execute_result"
    }
   ],
   "source": [
    "set_a"
   ]
  },
  {
   "cell_type": "code",
   "execution_count": 139,
   "metadata": {
    "id": "a-zdc4Bps1pO"
   },
   "outputs": [],
   "source": [
    "set_a.update((40,50))"
   ]
  },
  {
   "cell_type": "code",
   "execution_count": 140,
   "metadata": {
    "colab": {
     "base_uri": "https://localhost:8080/"
    },
    "id": "2xOext-2s-lm",
    "outputId": "3566c9b0-766b-451d-bad1-7ac61f5e8791"
   },
   "outputs": [
    {
     "data": {
      "text/plain": [
       "{(11, 12), 1, 10, 2, 20, 3, 30, 4, 40, 5, 50}"
      ]
     },
     "execution_count": 140,
     "metadata": {},
     "output_type": "execute_result"
    }
   ],
   "source": [
    "set_a"
   ]
  },
  {
   "cell_type": "code",
   "execution_count": 141,
   "metadata": {
    "colab": {
     "base_uri": "https://localhost:8080/"
    },
    "id": "v1qeekThs_t2",
    "outputId": "1a03cfc0-cc72-47d3-937b-e9037c07ba9a"
   },
   "outputs": [
    {
     "data": {
      "text/plain": [
       "1"
      ]
     },
     "execution_count": 141,
     "metadata": {},
     "output_type": "execute_result"
    }
   ],
   "source": [
    "set_a.pop()"
   ]
  },
  {
   "cell_type": "code",
   "execution_count": 142,
   "metadata": {
    "colab": {
     "base_uri": "https://localhost:8080/"
    },
    "id": "zFHLRqGut-T4",
    "outputId": "c60c53ed-141b-48d7-918e-b3ac1e613584"
   },
   "outputs": [
    {
     "data": {
      "text/plain": [
       "2"
      ]
     },
     "execution_count": 142,
     "metadata": {},
     "output_type": "execute_result"
    }
   ],
   "source": [
    "set_a.pop()"
   ]
  },
  {
   "cell_type": "code",
   "execution_count": 154,
   "metadata": {
    "colab": {
     "base_uri": "https://localhost:8080/"
    },
    "id": "nhb67j7cuJcm",
    "outputId": "89208ec3-1e02-4b4d-ab0f-669783ff9a9c"
   },
   "outputs": [
    {
     "data": {
      "text/plain": [
       "[9, 8, 7, 6, 5, 4, 3, 2, 1, 0]"
      ]
     },
     "execution_count": 154,
     "metadata": {},
     "output_type": "execute_result"
    }
   ],
   "source": [
    "set_a = list(range(10))[::-1]\n",
    "set_a"
   ]
  },
  {
   "cell_type": "code",
   "execution_count": 155,
   "metadata": {
    "colab": {
     "base_uri": "https://localhost:8080/"
    },
    "id": "bAqlzDoUuvIt",
    "outputId": "12eed305-42ed-46c6-f4f9-20b78b24405c"
   },
   "outputs": [
    {
     "data": {
      "text/plain": [
       "{0, 1, 2, 3, 4, 5, 6, 7, 8, 9}"
      ]
     },
     "execution_count": 155,
     "metadata": {},
     "output_type": "execute_result"
    }
   ],
   "source": [
    "set_a = set(set_a)\n",
    "# set_a = sorted(set_a,reverse=True)\n",
    "set_a"
   ]
  },
  {
   "cell_type": "code",
   "execution_count": 158,
   "metadata": {
    "colab": {
     "base_uri": "https://localhost:8080/"
    },
    "id": "dA8jwL4bu6oG",
    "outputId": "4cdcfacf-f581-4393-e242-e4ee80262579"
   },
   "outputs": [
    {
     "data": {
      "text/plain": [
       "1"
      ]
     },
     "execution_count": 158,
     "metadata": {},
     "output_type": "execute_result"
    }
   ],
   "source": [
    "set_a = set( [9,8,7,1,2,5,3]  )\n",
    "set_a.update([10,20,30])\n",
    "set_a.pop()"
   ]
  },
  {
   "cell_type": "code",
   "execution_count": 159,
   "metadata": {
    "id": "Z4Vb_yMyvMWO"
   },
   "outputs": [],
   "source": [
    "set_a.remove(10)"
   ]
  },
  {
   "cell_type": "code",
   "execution_count": 160,
   "metadata": {
    "colab": {
     "base_uri": "https://localhost:8080/"
    },
    "id": "XBgGBMBswNW-",
    "outputId": "72996450-63ce-4d07-a0ad-78cc1cb1e32c"
   },
   "outputs": [
    {
     "data": {
      "text/plain": [
       "{2, 3, 5, 7, 8, 9, 20, 30}"
      ]
     },
     "execution_count": 160,
     "metadata": {},
     "output_type": "execute_result"
    }
   ],
   "source": [
    "set_a"
   ]
  },
  {
   "cell_type": "code",
   "execution_count": 161,
   "metadata": {
    "colab": {
     "base_uri": "https://localhost:8080/"
    },
    "id": "x0gKyb-NwPRd",
    "outputId": "2c63ab75-bdeb-419a-b2a3-fa7aaca9d06c"
   },
   "outputs": [
    {
     "data": {
      "text/plain": [
       "9"
      ]
     },
     "execution_count": 161,
     "metadata": {},
     "output_type": "execute_result"
    }
   ],
   "source": [
    "list(set_a)[5]"
   ]
  },
  {
   "cell_type": "markdown",
   "metadata": {
    "id": "ZE0ywKPVw0YS"
   },
   "source": [
    "SET  - 집합\n",
    "  - 생성 : set( 리스트), set(튜플), set(딕셔너리)  { 요소,요소,요소 }\n",
    "  - set(딕셔너리) :  키 값들만 분류된다\n",
    "  - 차집합 : set_a - set_b\n",
    "  - 교집합 : set_a & set_b\n",
    "  - 합집합 : set_a | set_b\n",
    "  - 중복을 허용하지 않음\n",
    "  - 입력순서를 보장하지 않는다\n",
    "  - 삭제 : revmoe(원소값), set_a.pop() : 임의의 값을 제거\n",
    "  - 추가 : set_a.add(값), set_a.add(튜플)\n",
    "  - 추가 : set_a.update(리스트나 튜플) : 해당 값들을 풀어서 추가\n",
    "\n"
   ]
  },
  {
   "cell_type": "markdown",
   "metadata": {
    "id": "o7ivHC92yYlr"
   },
   "source": [
    "조건문\n",
    "  - 조건에 따라서 명령어를 실행하고 그렇지 않고"
   ]
  },
  {
   "cell_type": "code",
   "execution_count": 162,
   "metadata": {
    "colab": {
     "base_uri": "https://localhost:8080/"
    },
    "id": "0NQxt_D8wSxd",
    "outputId": "88092e95-e262-49f9-d582-566f02e2e544"
   },
   "outputs": [
    {
     "name": "stdout",
     "output_type": "stream",
     "text": [
      "집에가는데\n",
      "택시를 타고간다\n",
      "이건 if 하고 상관없는 문장입니다.\n"
     ]
    }
   ],
   "source": [
    "print('집에가는데')\n",
    "isTime = False\n",
    "\n",
    "if isTime:\n",
    "  print('버스를 타고간다')\n",
    "else:\n",
    "  print('택시를 타고간다')\n",
    "\n",
    "print(\"이건 if 하고 상관없는 문장입니다.\")"
   ]
  },
  {
   "cell_type": "code",
   "execution_count": 163,
   "metadata": {
    "colab": {
     "base_uri": "https://localhost:8080/"
    },
    "id": "02lErjZIyq5k",
    "outputId": "5db1f0f6-9bc5-476d-def8-3a4fb7d5fb55"
   },
   "outputs": [
    {
     "name": "stdout",
     "output_type": "stream",
     "text": [
      "걸어 간다\n"
     ]
    }
   ],
   "source": [
    "isTime = True\n",
    "isMoney = False\n",
    "\n",
    "if isTime:\n",
    "  if isMoney:\n",
    "    print(\"놀다 간다\")\n",
    "  else:\n",
    "    print(\"걸어 간다\")\n",
    "else:\n",
    "  if isMoney:\n",
    "    print('택시를 타고 간다')\n",
    "  else:\n",
    "    print(\"안 간다\")"
   ]
  },
  {
   "cell_type": "code",
   "execution_count": 164,
   "metadata": {
    "colab": {
     "base_uri": "https://localhost:8080/"
    },
    "id": "F2xx9E1I4fLT",
    "outputId": "3bb73350-b2f6-49a3-9c83-cd0d6e0b24dc"
   },
   "outputs": [
    {
     "name": "stdout",
     "output_type": "stream",
     "text": [
      "True\n",
      "False\n",
      "False\n",
      "False\n"
     ]
    }
   ],
   "source": [
    "# ~이고 ~이다\n",
    "# and연산자, 논리 곱\n",
    "print(True & True)   # 1 --> True\n",
    "print(True & False)  # 0 --> False\n",
    "print(False & True)  # 0\n",
    "print(False & False) # 0"
   ]
  },
  {
   "cell_type": "code",
   "execution_count": 165,
   "metadata": {
    "colab": {
     "base_uri": "https://localhost:8080/"
    },
    "id": "mg0P1WNn5Syb",
    "outputId": "24a1b5a4-dd57-4261-aa8f-fb1da0557e98"
   },
   "outputs": [
    {
     "data": {
      "text/plain": [
       "(1, 0)"
      ]
     },
     "execution_count": 165,
     "metadata": {},
     "output_type": "execute_result"
    }
   ],
   "source": [
    "int(True), int(False)"
   ]
  },
  {
   "cell_type": "code",
   "execution_count": 166,
   "metadata": {
    "colab": {
     "base_uri": "https://localhost:8080/"
    },
    "id": "u5JbtdYI53hb",
    "outputId": "33ad9220-bfba-413c-fdc3-13302cae6034"
   },
   "outputs": [
    {
     "name": "stdout",
     "output_type": "stream",
     "text": [
      "True\n",
      "True\n",
      "True\n",
      "False\n"
     ]
    }
   ],
   "source": [
    "# ~이거나,  또는\n",
    "# or 연산자\n",
    "# 논리 합\n",
    "print(True | True)   # 2 -> True\n",
    "print(True | False)  # 1 -> True\n",
    "print(False | True)  # 1 -> True\n",
    "print(False | False) # 0  ->False"
   ]
  },
  {
   "cell_type": "code",
   "execution_count": 167,
   "metadata": {
    "colab": {
     "base_uri": "https://localhost:8080/"
    },
    "id": "_lPA2HFp6h27",
    "outputId": "13b4689c-4f37-4ee9-e07b-02dca3dddc29"
   },
   "outputs": [
    {
     "data": {
      "text/plain": [
       "True"
      ]
     },
     "execution_count": 167,
     "metadata": {},
     "output_type": "execute_result"
    }
   ],
   "source": [
    "bool(2)"
   ]
  },
  {
   "cell_type": "code",
   "execution_count": 168,
   "metadata": {
    "colab": {
     "base_uri": "https://localhost:8080/"
    },
    "id": "5r3deDnK6meb",
    "outputId": "bd2cd2ef-de4c-4e63-e891-6f5de1b5f9b3"
   },
   "outputs": [
    {
     "name": "stdout",
     "output_type": "stream",
     "text": [
      "****\n"
     ]
    }
   ],
   "source": [
    "isTime = True\n",
    "isMoney = True\n",
    "# 돈이 많고 시간도 많으면  000을 한다.\n",
    "if isTime:\n",
    "  if isMoney:\n",
    "    print(\"****\")"
   ]
  },
  {
   "cell_type": "code",
   "execution_count": 169,
   "metadata": {
    "colab": {
     "base_uri": "https://localhost:8080/"
    },
    "id": "qYnA1Jcv7fUj",
    "outputId": "c09f431f-6352-468c-9135-d7dd77c23cb6"
   },
   "outputs": [
    {
     "name": "stdout",
     "output_type": "stream",
     "text": [
      "****\n"
     ]
    }
   ],
   "source": [
    "if isTime & isMoney:\n",
    "  print(\"****\")"
   ]
  },
  {
   "cell_type": "code",
   "execution_count": 170,
   "metadata": {
    "colab": {
     "base_uri": "https://localhost:8080/"
    },
    "id": "KdmLJC8l7pqa",
    "outputId": "446931e9-9bc1-41c8-fde5-536221a46e03"
   },
   "outputs": [
    {
     "name": "stdout",
     "output_type": "stream",
     "text": [
      "국어80\n",
      "영어80\n",
      "수학90\n",
      "합격입니다.\n"
     ]
    }
   ],
   "source": [
    "# 합격처리 하는 로직을\n",
    "# 규칙, 국어 영어 수학 점수가 평균 60이상이고 각 과목별 점수가 40이상일때만 합격\n",
    "kor = int(input(\"국어\"))\n",
    "eng = int(input(\"영어\"))\n",
    "math = int(input(\"수학\"))\n",
    "avg = (kor+eng+math) / 3\n",
    "\n",
    "if (avg >=60) &  (kor >=40) & (eng>=40) & (math >=40):\n",
    "  print(\"합격입니다.\")\n",
    "else:\n",
    "  print(\"아쉽지만 합격하지 못했습니다.\")\n"
   ]
  },
  {
   "cell_type": "code",
   "execution_count": 146,
   "metadata": {
    "colab": {
     "base_uri": "https://localhost:8080/"
    },
    "id": "ST2UiK-w8bqK",
    "outputId": "061f7368-d538-41e3-b973-ac5729defb81"
   },
   "outputs": [
    {
     "name": "stdout",
     "output_type": "stream",
     "text": [
      "아쉽지만 합격하지 못했습니다.\n"
     ]
    }
   ],
   "source": [
    "if avg >=60 and  kor >=40 and eng>=40 and math >=40:\n",
    "  print(\"합격입니다.\")\n",
    "else:\n",
    "  print(\"아쉽지만 합격하지 못했습니다.\")"
   ]
  },
  {
   "cell_type": "code",
   "execution_count": 150,
   "metadata": {
    "colab": {
     "base_uri": "https://localhost:8080/"
    },
    "id": "DRaZbDHs92_a",
    "outputId": "c78125e2-0b35-4b69-da27-659195073d80"
   },
   "outputs": [
    {
     "name": "stdout",
     "output_type": "stream",
     "text": [
      "나이를 입력하세요 : 10\n",
      "지역주민 입니까?(y/Y)n\n",
      "3000\n"
     ]
    }
   ],
   "source": [
    "age = int(input(\"나이를 입력하세요 : \"))\n",
    "isLocal = input(\"지역주민 입니까?(y/Y)\")\n",
    "# 놀이공원 입장권 로직\n",
    "# 성인(19세 이상)이면 5000원\n",
    "# 19세보다 작으면 3000원\n",
    "# 지역주민이면 1000원\n",
    "\n",
    "if (isLocal == 'y') | (isLocal =='Y'):\n",
    "  print(1000)\n",
    "else:\n",
    "  if age >= 19:\n",
    "    print(5000)\n",
    "  else:\n",
    "    print(3000)\n"
   ]
  },
  {
   "cell_type": "code",
   "execution_count": null,
   "metadata": {
    "id": "zlJ7_8E2-HDK"
   },
   "outputs": [],
   "source": []
  }
 ],
 "metadata": {
  "colab": {
   "provenance": []
  },
  "kernelspec": {
   "display_name": "Python 3",
   "language": "python",
   "name": "python3"
  },
  "language_info": {
   "codemirror_mode": {
    "name": "ipython",
    "version": 3
   },
   "file_extension": ".py",
   "mimetype": "text/x-python",
   "name": "python",
   "nbconvert_exporter": "python",
   "pygments_lexer": "ipython3",
   "version": "3.8.5"
  }
 },
 "nbformat": 4,
 "nbformat_minor": 1
}
