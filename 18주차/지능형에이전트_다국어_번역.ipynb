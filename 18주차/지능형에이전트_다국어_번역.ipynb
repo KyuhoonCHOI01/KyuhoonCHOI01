{
 "cells": [
  {
   "cell_type": "code",
   "execution_count": 1,
   "metadata": {
    "id": "FLVtvHjd6h65"
   },
   "outputs": [
    {
     "name": "stdout",
     "output_type": "stream",
     "text": [
      "Requirement already satisfied: tensorflow in c:\\users\\user\\appdata\\roaming\\python\\python38\\site-packages (2.4.0)\n",
      "Requirement already satisfied: astunparse~=1.6.3 in c:\\users\\user\\appdata\\roaming\\python\\python38\\site-packages (from tensorflow) (1.6.3)\n",
      "Requirement already satisfied: six~=1.15.0 in c:\\users\\user\\appdata\\roaming\\python\\python38\\site-packages (from tensorflow) (1.15.0)\n",
      "Requirement already satisfied: protobuf>=3.9.2 in c:\\users\\user\\appdata\\roaming\\python\\python38\\site-packages (from tensorflow) (3.11.1)\n",
      "Requirement already satisfied: wheel~=0.35 in c:\\users\\user\\appdata\\roaming\\python\\python38\\site-packages (from tensorflow) (0.36.2)\n",
      "Requirement already satisfied: wrapt~=1.12.1 in c:\\users\\user\\appdata\\roaming\\python\\python38\\site-packages (from tensorflow) (1.12.1)\n",
      "Requirement already satisfied: gast==0.3.3 in c:\\users\\user\\appdata\\roaming\\python\\python38\\site-packages (from tensorflow) (0.3.3)\n",
      "Requirement already satisfied: grpcio~=1.32.0 in c:\\users\\user\\appdata\\roaming\\python\\python38\\site-packages (from tensorflow) (1.32.0)\n",
      "Requirement already satisfied: google-pasta~=0.2 in c:\\users\\user\\appdata\\roaming\\python\\python38\\site-packages (from tensorflow) (0.2.0)\n",
      "Requirement already satisfied: keras-preprocessing~=1.1.2 in c:\\users\\user\\appdata\\roaming\\python\\python38\\site-packages (from tensorflow) (1.1.2)\n",
      "Requirement already satisfied: numpy~=1.19.2 in c:\\users\\user\\anaconda3\\lib\\site-packages (from tensorflow) (1.19.5)\n",
      "Requirement already satisfied: opt-einsum~=3.3.0 in c:\\users\\user\\appdata\\roaming\\python\\python38\\site-packages (from tensorflow) (3.3.0)\n",
      "Requirement already satisfied: flatbuffers~=1.12.0 in c:\\users\\user\\appdata\\roaming\\python\\python38\\site-packages (from tensorflow) (1.12)\n",
      "Requirement already satisfied: tensorboard~=2.4 in c:\\users\\user\\appdata\\roaming\\python\\python38\\site-packages (from tensorflow) (2.4.0)\n",
      "Requirement already satisfied: tensorflow-estimator<2.5.0,>=2.4.0rc0 in c:\\users\\user\\appdata\\roaming\\python\\python38\\site-packages (from tensorflow) (2.4.0)\n",
      "Requirement already satisfied: typing-extensions~=3.7.4 in c:\\users\\user\\appdata\\roaming\\python\\python38\\site-packages (from tensorflow) (3.7.4.3)\n",
      "Requirement already satisfied: h5py~=2.10.0 in c:\\users\\user\\appdata\\roaming\\python\\python38\\site-packages (from tensorflow) (2.10.0)\n",
      "Requirement already satisfied: termcolor~=1.1.0 in c:\\users\\user\\appdata\\roaming\\python\\python38\\site-packages (from tensorflow) (1.1.0)\n",
      "Requirement already satisfied: absl-py~=0.10 in c:\\users\\user\\appdata\\roaming\\python\\python38\\site-packages (from tensorflow) (0.11.0)\n",
      "Requirement already satisfied: setuptools in c:\\users\\user\\anaconda3\\lib\\site-packages (from protobuf>=3.9.2->tensorflow) (52.0.0.post20210125)\n",
      "Requirement already satisfied: google-auth<2,>=1.6.3 in c:\\users\\user\\appdata\\roaming\\python\\python38\\site-packages (from tensorboard~=2.4->tensorflow) (1.24.0)\n",
      "Requirement already satisfied: tensorboard-plugin-wit>=1.6.0 in c:\\users\\user\\appdata\\roaming\\python\\python38\\site-packages (from tensorboard~=2.4->tensorflow) (1.7.0)\n",
      "Requirement already satisfied: requests<3,>=2.21.0 in c:\\users\\user\\appdata\\roaming\\python\\python38\\site-packages (from tensorboard~=2.4->tensorflow) (2.22.0)\n",
      "Requirement already satisfied: werkzeug>=0.11.15 in c:\\users\\user\\appdata\\roaming\\python\\python38\\site-packages (from tensorboard~=2.4->tensorflow) (0.16.0)\n",
      "Requirement already satisfied: google-auth-oauthlib<0.5,>=0.4.1 in c:\\users\\user\\appdata\\roaming\\python\\python38\\site-packages (from tensorboard~=2.4->tensorflow) (0.4.2)\n",
      "Requirement already satisfied: markdown>=2.6.8 in c:\\users\\user\\appdata\\roaming\\python\\python38\\site-packages (from tensorboard~=2.4->tensorflow) (3.1.1)\n",
      "Requirement already satisfied: rsa<5,>=3.1.4 in c:\\users\\user\\appdata\\roaming\\python\\python38\\site-packages (from google-auth<2,>=1.6.3->tensorboard~=2.4->tensorflow) (4.6)\n",
      "Requirement already satisfied: pyasn1-modules>=0.2.1 in c:\\users\\user\\appdata\\roaming\\python\\python38\\site-packages (from google-auth<2,>=1.6.3->tensorboard~=2.4->tensorflow) (0.2.8)\n",
      "Requirement already satisfied: cachetools<5.0,>=2.0.0 in c:\\users\\user\\appdata\\roaming\\python\\python38\\site-packages (from google-auth<2,>=1.6.3->tensorboard~=2.4->tensorflow) (4.2.0)\n",
      "Requirement already satisfied: requests-oauthlib>=0.7.0 in c:\\users\\user\\appdata\\roaming\\python\\python38\\site-packages (from google-auth-oauthlib<0.5,>=0.4.1->tensorboard~=2.4->tensorflow) (1.3.0)\n",
      "Requirement already satisfied: pyasn1<0.5.0,>=0.4.6 in c:\\users\\user\\appdata\\roaming\\python\\python38\\site-packages (from pyasn1-modules>=0.2.1->google-auth<2,>=1.6.3->tensorboard~=2.4->tensorflow) (0.4.8)\n",
      "Requirement already satisfied: certifi>=2017.4.17 in c:\\users\\user\\appdata\\roaming\\python\\python38\\site-packages (from requests<3,>=2.21.0->tensorboard~=2.4->tensorflow) (2019.3.9)\n",
      "Collecting urllib3!=1.25.0,!=1.25.1,<1.26,>=1.21.1\n",
      "  Using cached urllib3-1.25.11-py2.py3-none-any.whl (127 kB)\n",
      "Requirement already satisfied: idna<2.9,>=2.5 in c:\\users\\user\\appdata\\roaming\\python\\python38\\site-packages (from requests<3,>=2.21.0->tensorboard~=2.4->tensorflow) (2.8)\n",
      "Requirement already satisfied: chardet<3.1.0,>=3.0.2 in c:\\users\\user\\appdata\\roaming\\python\\python38\\site-packages (from requests<3,>=2.21.0->tensorboard~=2.4->tensorflow) (3.0.4)\n",
      "Requirement already satisfied: oauthlib>=3.0.0 in c:\\users\\user\\appdata\\roaming\\python\\python38\\site-packages (from requests-oauthlib>=0.7.0->google-auth-oauthlib<0.5,>=0.4.1->tensorboard~=2.4->tensorflow) (3.1.0)\n",
      "Installing collected packages: urllib3\n",
      "  Attempting uninstall: urllib3\n",
      "    Found existing installation: urllib3 1.26.9\n",
      "    Uninstalling urllib3-1.26.9:\n",
      "      Successfully uninstalled urllib3-1.26.9\n",
      "Successfully installed urllib3-1.25.11\n"
     ]
    },
    {
     "name": "stderr",
     "output_type": "stream",
     "text": [
      "ERROR: pip's dependency resolver does not currently take into account all the packages that are installed. This behaviour is the source of the following dependency conflicts.\n",
      "transformers 2.1.1 requires sentencepiece, which is not installed.\n",
      "conda 4.12.0 requires ruamel_yaml_conda>=0.11.14, which is not installed.\n",
      "conda-repo-cli 1.0.4 requires pathlib, which is not installed.\n",
      "botocore 1.15.1 requires docutils<0.16,>=0.10, but you have docutils 0.16 which is incompatible.\n",
      "selenium 4.0.0 requires urllib3[secure]~=1.26, but you have urllib3 1.25.11 which is incompatible.\n"
     ]
    }
   ],
   "source": [
    "!pip install tensorflow"
   ]
  },
  {
   "cell_type": "markdown",
   "metadata": {
    "id": "8ADVzspr9B1Y"
   },
   "source": [
    "- CNN 모델을 이용해서 CIFAR-10 학습\n",
    "  - 데이터가 텐서로 제공\n"
   ]
  },
  {
   "cell_type": "code",
   "execution_count": 2,
   "metadata": {
    "id": "ax9g8j8e9GRn",
    "scrolled": true
   },
   "outputs": [],
   "source": [
    "import numpy as np\n",
    "import tensorflow as tf\n",
    "from tensorflow.keras.datasets import cifar10\n",
    "from tensorflow.keras.models import Sequential\n",
    "from tensorflow.keras.layers import Conv2D,MaxPooling2D,Flatten,Dense,Dropout\n",
    "from tensorflow.keras.optimizers import Adam"
   ]
  },
  {
   "cell_type": "code",
   "execution_count": 3,
   "metadata": {
    "colab": {
     "base_uri": "https://localhost:8080/"
    },
    "id": "c3AjTAi3-KI2",
    "outputId": "9328db9c-c737-420d-ab3d-4bfa1a9bfc4f"
   },
   "outputs": [],
   "source": [
    "# cifar10 데이터 로드하고 신경망에 입력형태로 변환\n",
    "(x_train,y_train),(x_test,y_test) = cifar10.load_data()\n",
    "x_train = x_train.astype(np.float32) / 255.0\n",
    "x_test = x_test.astype(np.float32) / 255.0"
   ]
  },
  {
   "cell_type": "code",
   "execution_count": 4,
   "metadata": {
    "id": "FxPRJTbb-tx8"
   },
   "outputs": [],
   "source": [
    "# 정답데이터를 데이터 타입을 변경 - one hot\n",
    "y_train = tf.keras.utils.to_categorical(y_train,10)\n",
    "y_test = tf.keras.utils.to_categorical(y_test,10)"
   ]
  },
  {
   "cell_type": "code",
   "execution_count": 5,
   "metadata": {
    "colab": {
     "base_uri": "https://localhost:8080/"
    },
    "id": "B8ugu7QL_kg_",
    "outputId": "c6355213-3e72-495f-f161-b464ce459a89"
   },
   "outputs": [
    {
     "data": {
      "text/plain": [
       "((50000, 32, 32, 3), (32, 32, 3))"
      ]
     },
     "execution_count": 5,
     "metadata": {},
     "output_type": "execute_result"
    }
   ],
   "source": [
    "x_train.shape, x_train.shape[1:]"
   ]
  },
  {
   "cell_type": "code",
   "execution_count": 6,
   "metadata": {
    "id": "rfVaX2fB_Uud"
   },
   "outputs": [],
   "source": [
    "# 신경망 모델 설계  c-c-p-d\n",
    "cnn = Sequential([\n",
    "    Conv2D(32,3,activation ='relu',input_shape = (32,32,3)),\n",
    "    Conv2D(32,3,activation='relu'),\n",
    "    MaxPooling2D(),\n",
    "    Dropout(0.25),\n",
    "    Conv2D(64,3,activation ='relu'),\n",
    "    Conv2D(64,3,activation='relu'),\n",
    "    MaxPooling2D(),\n",
    "    Dropout(0.25),\n",
    "    Flatten(),\n",
    "    Dense(512,activation='relu'),\n",
    "    Dropout(0.5),\n",
    "    Dense(10,activation='softmax')\n",
    "])"
   ]
  },
  {
   "cell_type": "code",
   "execution_count": 7,
   "metadata": {
    "colab": {
     "base_uri": "https://localhost:8080/"
    },
    "id": "N-HkBCl7AmvH",
    "outputId": "d7e1882b-28f4-458f-89bf-e5e97d866824"
   },
   "outputs": [
    {
     "name": "stdout",
     "output_type": "stream",
     "text": [
      "Epoch 1/30\n",
      "391/391 [==============================] - 76s 192ms/step - loss: 1.9160 - accuracy: 0.2889 - val_loss: 1.3310 - val_accuracy: 0.5195\n",
      "Epoch 2/30\n",
      "391/391 [==============================] - 75s 192ms/step - loss: 1.3488 - accuracy: 0.5139 - val_loss: 1.1212 - val_accuracy: 0.6035\n",
      "Epoch 3/30\n",
      "391/391 [==============================] - 74s 189ms/step - loss: 1.1399 - accuracy: 0.5910 - val_loss: 1.0686 - val_accuracy: 0.6180\n",
      "Epoch 4/30\n",
      "391/391 [==============================] - 73s 187ms/step - loss: 1.0319 - accuracy: 0.6350 - val_loss: 0.9005 - val_accuracy: 0.6852\n",
      "Epoch 5/30\n",
      "391/391 [==============================] - 74s 189ms/step - loss: 0.9475 - accuracy: 0.6627 - val_loss: 0.8865 - val_accuracy: 0.6897\n",
      "Epoch 6/30\n",
      "391/391 [==============================] - 74s 189ms/step - loss: 0.8750 - accuracy: 0.6916 - val_loss: 0.8089 - val_accuracy: 0.7145\n",
      "Epoch 7/30\n",
      "391/391 [==============================] - 74s 189ms/step - loss: 0.8251 - accuracy: 0.7093 - val_loss: 0.7643 - val_accuracy: 0.7350\n",
      "Epoch 8/30\n",
      "391/391 [==============================] - 73s 187ms/step - loss: 0.7883 - accuracy: 0.7233 - val_loss: 0.7808 - val_accuracy: 0.7327\n",
      "Epoch 9/30\n",
      "391/391 [==============================] - 72s 184ms/step - loss: 0.7433 - accuracy: 0.7385 - val_loss: 0.7274 - val_accuracy: 0.7474\n",
      "Epoch 10/30\n",
      "391/391 [==============================] - 73s 187ms/step - loss: 0.7272 - accuracy: 0.7423 - val_loss: 0.7046 - val_accuracy: 0.7578\n",
      "Epoch 11/30\n",
      "391/391 [==============================] - 73s 186ms/step - loss: 0.6961 - accuracy: 0.7546 - val_loss: 0.6878 - val_accuracy: 0.7661\n",
      "Epoch 12/30\n",
      "391/391 [==============================] - 76s 195ms/step - loss: 0.6639 - accuracy: 0.7660 - val_loss: 0.6957 - val_accuracy: 0.7573\n",
      "Epoch 13/30\n",
      "391/391 [==============================] - 74s 189ms/step - loss: 0.6518 - accuracy: 0.7675 - val_loss: 0.6650 - val_accuracy: 0.7698\n",
      "Epoch 14/30\n",
      "391/391 [==============================] - 74s 189ms/step - loss: 0.6295 - accuracy: 0.7779 - val_loss: 0.7108 - val_accuracy: 0.7594\n",
      "Epoch 15/30\n",
      "391/391 [==============================] - 79s 201ms/step - loss: 0.6041 - accuracy: 0.7848 - val_loss: 0.6566 - val_accuracy: 0.7714\n",
      "Epoch 16/30\n",
      "391/391 [==============================] - 78s 200ms/step - loss: 0.5889 - accuracy: 0.7930 - val_loss: 0.6477 - val_accuracy: 0.7810\n",
      "Epoch 17/30\n",
      "391/391 [==============================] - 76s 193ms/step - loss: 0.5654 - accuracy: 0.7989 - val_loss: 0.6482 - val_accuracy: 0.7778\n",
      "Epoch 18/30\n",
      "391/391 [==============================] - 78s 200ms/step - loss: 0.5630 - accuracy: 0.8035 - val_loss: 0.6452 - val_accuracy: 0.7811\n",
      "Epoch 19/30\n",
      "391/391 [==============================] - 75s 192ms/step - loss: 0.5514 - accuracy: 0.8063 - val_loss: 0.6433 - val_accuracy: 0.7858\n",
      "Epoch 20/30\n",
      "391/391 [==============================] - 77s 197ms/step - loss: 0.5387 - accuracy: 0.8082 - val_loss: 0.6520 - val_accuracy: 0.7772\n",
      "Epoch 21/30\n",
      "391/391 [==============================] - 75s 192ms/step - loss: 0.5260 - accuracy: 0.8146 - val_loss: 0.6557 - val_accuracy: 0.7751\n",
      "Epoch 22/30\n",
      "391/391 [==============================] - 74s 189ms/step - loss: 0.5095 - accuracy: 0.8198 - val_loss: 0.6551 - val_accuracy: 0.7795\n",
      "Epoch 23/30\n",
      "391/391 [==============================] - 73s 186ms/step - loss: 0.5080 - accuracy: 0.8179 - val_loss: 0.6876 - val_accuracy: 0.7733\n",
      "Epoch 24/30\n",
      "391/391 [==============================] - 69s 176ms/step - loss: 0.4954 - accuracy: 0.8241 - val_loss: 0.6467 - val_accuracy: 0.7854\n",
      "Epoch 25/30\n",
      "391/391 [==============================] - 71s 183ms/step - loss: 0.4870 - accuracy: 0.8273 - val_loss: 0.6299 - val_accuracy: 0.7891\n",
      "Epoch 26/30\n",
      "391/391 [==============================] - 72s 184ms/step - loss: 0.4672 - accuracy: 0.8359 - val_loss: 0.6467 - val_accuracy: 0.7891\n",
      "Epoch 27/30\n",
      "391/391 [==============================] - 70s 180ms/step - loss: 0.4710 - accuracy: 0.8346 - val_loss: 0.6322 - val_accuracy: 0.7874\n",
      "Epoch 28/30\n",
      "391/391 [==============================] - 71s 182ms/step - loss: 0.4545 - accuracy: 0.8378 - val_loss: 0.6245 - val_accuracy: 0.7939\n",
      "Epoch 29/30\n",
      "391/391 [==============================] - 73s 186ms/step - loss: 0.4550 - accuracy: 0.8391 - val_loss: 0.6133 - val_accuracy: 0.7928\n",
      "Epoch 30/30\n",
      "391/391 [==============================] - 76s 195ms/step - loss: 0.4491 - accuracy: 0.8392 - val_loss: 0.6711 - val_accuracy: 0.7798\n"
     ]
    }
   ],
   "source": [
    "# 신경망 모델 학습\n",
    "cnn.compile(loss = tf.keras.losses.categorical_crossentropy,optimizer=Adam(),metrics=['accuracy'])\n",
    "hist = cnn.fit(x_train,y_train,batch_size=128, epochs=30,validation_data=(x_test,y_test))"
   ]
  },
  {
   "cell_type": "code",
   "execution_count": 8,
   "metadata": {
    "colab": {
     "base_uri": "https://localhost:8080/"
    },
    "id": "uJ0vHeb1CSMH",
    "outputId": "54955d7e-36ce-483b-dd63-488deeb2d74a"
   },
   "outputs": [],
   "source": [
    "# 신경망의 구조 정보와 가중치를 저장\n",
    "cnn.save('cifar10_cnn.h5')"
   ]
  },
  {
   "cell_type": "code",
   "execution_count": 9,
   "metadata": {
    "id": "-t7FjWHXCsux"
   },
   "outputs": [],
   "source": [
    "model = tf.keras.models.load_model('cifar10_cnn.h5')"
   ]
  },
  {
   "cell_type": "code",
   "execution_count": 10,
   "metadata": {
    "scrolled": true
   },
   "outputs": [
    {
     "name": "stdout",
     "output_type": "stream",
     "text": [
      "Collecting gtts\n",
      "  Downloading gTTS-2.4.0-py3-none-any.whl (29 kB)\n",
      "Requirement already satisfied: click<8.2,>=7.1 in c:\\users\\user\\anaconda3\\lib\\site-packages (from gtts) (7.1.2)\n",
      "Collecting requests<3,>=2.27\n",
      "  Downloading requests-2.31.0-py3-none-any.whl (62 kB)\n",
      "Collecting charset-normalizer<4,>=2\n",
      "  Downloading charset_normalizer-3.3.0-cp38-cp38-win_amd64.whl (97 kB)\n",
      "Requirement already satisfied: idna<4,>=2.5 in c:\\users\\user\\appdata\\roaming\\python\\python38\\site-packages (from requests<3,>=2.27->gtts) (2.8)\n",
      "Requirement already satisfied: certifi>=2017.4.17 in c:\\users\\user\\appdata\\roaming\\python\\python38\\site-packages (from requests<3,>=2.27->gtts) (2019.3.9)\n",
      "Requirement already satisfied: urllib3<3,>=1.21.1 in c:\\users\\user\\anaconda3\\lib\\site-packages (from requests<3,>=2.27->gtts) (1.25.11)\n",
      "Installing collected packages: charset-normalizer, requests, gtts\n",
      "  Attempting uninstall: requests\n",
      "    Found existing installation: requests 2.22.0\n",
      "    Uninstalling requests-2.22.0:\n",
      "      Successfully uninstalled requests-2.22.0\n",
      "Successfully installed charset-normalizer-3.3.0 gtts-2.4.0 requests-2.31.0\n"
     ]
    },
    {
     "name": "stderr",
     "output_type": "stream",
     "text": [
      "ERROR: pip's dependency resolver does not currently take into account all the packages that are installed. This behaviour is the source of the following dependency conflicts.\n",
      "transformers 2.1.1 requires sentencepiece, which is not installed.\n",
      "spyder 4.2.3 requires pyqt5<5.13, which is not installed.\n",
      "spyder 4.2.3 requires pyqtwebengine<5.13, which is not installed.\n",
      "conda 4.12.0 requires ruamel_yaml_conda>=0.11.14, which is not installed.\n",
      "conda-repo-cli 1.0.4 requires pathlib, which is not installed.\n",
      "spyder 4.2.3 requires jedi==0.17.2, but you have jedi 0.15.1 which is incompatible.\n",
      "spyder 4.2.3 requires parso==0.7.0, but you have parso 0.5.1 which is incompatible.\n"
     ]
    }
   ],
   "source": [
    "!pip install gtts"
   ]
  },
  {
   "cell_type": "code",
   "execution_count": 11,
   "metadata": {},
   "outputs": [
    {
     "name": "stdout",
     "output_type": "stream",
     "text": [
      "Collecting playsound\n",
      "  Downloading playsound-1.3.0.tar.gz (7.7 kB)\n",
      "Building wheels for collected packages: playsound\n",
      "  Building wheel for playsound (setup.py): started\n",
      "  Building wheel for playsound (setup.py): finished with status 'done'\n",
      "  Created wheel for playsound: filename=playsound-1.3.0-py3-none-any.whl size=7026 sha256=537b6176e76a39dc40cd5449aa3a208a4228f9cadec4ce038be67a3e8d9512e0\n",
      "  Stored in directory: c:\\users\\user\\appdata\\local\\pip\\cache\\wheels\\73\\cd\\cf\\9750b618d54bd81c20e4c34fb24a423a5b095920367cdb3f71\n",
      "Successfully built playsound\n",
      "Installing collected packages: playsound\n",
      "Successfully installed playsound-1.3.0\n"
     ]
    }
   ],
   "source": [
    "!pip install playsound"
   ]
  },
  {
   "cell_type": "code",
   "execution_count": 12,
   "metadata": {},
   "outputs": [],
   "source": [
    "from tkinter import filedialog\n",
    "from PIL import Image, ImageTk\n",
    "import winsound\n",
    "from gtts import gTTS\n",
    "import playsound"
   ]
  },
  {
   "cell_type": "code",
   "execution_count": 13,
   "metadata": {},
   "outputs": [],
   "source": [
    "# 압축 해제\n",
    "import zipfile\n",
    "with zipfile.ZipFile('test_images.zip','r') as zip_file:\n",
    "    zip_file.extractall(\"./images/\")"
   ]
  },
  {
   "cell_type": "code",
   "execution_count": 14,
   "metadata": {},
   "outputs": [],
   "source": [
    "# 클래스명 \n",
    "class_names_en = ['airplane','automobile','bird','cat','deer','dog','frog','horse','ship','truck']\n",
    "class_names_fr=['avion','voiture','oiseau','chatte','biche','chienne','grenouille','jument','navire','un camion']\n",
    "class_names_de=['Flugzeug','Automobil','Vogel','Katze','Hirsch','Hund','Frosch','Pferd','Schiff','LKW']\n",
    "class_names_ko=['비행기','자동차','새','고양이','사슴','개','개구리','말','배','트럭']\n",
    "class_names_ja = ['飛行機','車','鳥','猫','鹿','犬','カエル','馬','船','トラック']"
   ]
  },
  {
   "cell_type": "code",
   "execution_count": 15,
   "metadata": {},
   "outputs": [
    {
     "name": "stdout",
     "output_type": "stream",
     "text": [
      "Collecting canvas\n",
      "  Downloading canvas-0.3.tar.gz (3.4 kB)\n",
      "Building wheels for collected packages: canvas\n",
      "  Building wheel for canvas (setup.py): started\n",
      "  Building wheel for canvas (setup.py): finished with status 'done'\n",
      "  Created wheel for canvas: filename=canvas-0.3-py3-none-any.whl size=2237 sha256=5c07171eb470da514f9418e3e7cb35860d598592d0c729a4656491b656bcee75\n",
      "  Stored in directory: c:\\users\\user\\appdata\\local\\pip\\cache\\wheels\\5e\\97\\cb\\46fc9232b9126a883850e9ff52459be0a0c1afff05d1562ffa\n",
      "Successfully built canvas\n",
      "Installing collected packages: canvas\n",
      "Successfully installed canvas-0.3\n"
     ]
    }
   ],
   "source": [
    "!pip install canvas"
   ]
  },
  {
   "cell_type": "code",
   "execution_count": 16,
   "metadata": {},
   "outputs": [],
   "source": [
    "import os\n",
    "class_id = 0;\n",
    "tk_img = ''\n",
    "# 영상버튼을 눌렀을때 실행되는 콜벡함수\n",
    "def process_image():\n",
    "    global class_id,tk_img\n",
    "    fname = filedialog.askopenfilename()\n",
    "    img = Image.open(fname)\n",
    "    tk_img = img.resize([128,128])\n",
    "    tk_img = ImageTk.PhotoImage(tk_img)\n",
    "    canvas.create_image( (canvas.winfo_width()/2, canvas.winfo_height()/2),\n",
    "                        image = tk_img, anchor = 'center')\n",
    "    x_test = []\n",
    "    x = np.asanyarray(img.resize([32,32]))/255.0\n",
    "    x_test.append(x)\n",
    "    x_test = np.asanyarray(x_test)\n",
    "    res = model.predict(x_test)\n",
    "    class_id = np.argmax(res)    \n",
    "    label_en['text'] = '영어'+class_names_en[class_id] # 위젯\n",
    "    label_fr['text'] = '프랑스어'+class_names_fr[class_id] # 위젯\n",
    "    label_de['text'] = '독일어'+class_names_de[class_id] # 위젯\n",
    "    label_ko['text'] = '한국어'+class_names_ko[class_id] # 위젯\n",
    "    label_ja['text'] = '일본어'+class_names_ja[class_id] # 위젯\n",
    "    winsound.Beep(frequency=500,duration=250)\n",
    "def quit_program():\n",
    "    win.destroy()\n",
    "    \n",
    "def tts_english():\n",
    "    tts = gTTS(text=class_names_en[class_id],lang='en')\n",
    "    if os.path.isfile('word.mp3'): os.remove('word.mp3')\n",
    "    tts.save('word.mp3')\n",
    "    playsound.playsound('word.mp3',True)\n",
    "def tts_french():\n",
    "    tts = gTTS(text=class_names_fr[class_id],lang='fr')\n",
    "    if os.path.isfile('word.mp3'): os.remove('word.mp3')\n",
    "    tts.save('word.mp3')\n",
    "    playsound.playsound('word.mp3',True)\n",
    "def tts_deutsch():\n",
    "    tts = gTTS(text=class_names_de[class_id],lang='de')\n",
    "    if os.path.isfile('word.mp3'): os.remove('word.mp3')\n",
    "    tts.save('word.mp3')\n",
    "    playsound.playsound('word.mp3',True)\n",
    "def tts_korean():\n",
    "    tts = gTTS(text=class_names_ko[class_id],lang='ko')\n",
    "    if os.path.isfile('word.mp3'): os.remove('word.mp3')\n",
    "    tts.save('word.mp3')\n",
    "    playsound.playsound('word.mp3',True)\n",
    "def tts_japaness():\n",
    "    tts = gTTS(text=class_names_ja[class_id],lang='ja')\n",
    "    if os.path.isfile('word.mp3'): os.remove('word.mp3')\n",
    "    tts.save('word.mp3')\n",
    "    playsound.playsound('word.mp3',True)    \n",
    "    "
   ]
  },
  {
   "cell_type": "code",
   "execution_count": 17,
   "metadata": {},
   "outputs": [],
   "source": [
    "import tkinter as tk"
   ]
  },
  {
   "cell_type": "code",
   "execution_count": 18,
   "metadata": {},
   "outputs": [
    {
     "name": "stderr",
     "output_type": "stream",
     "text": [
      "Exception in Tkinter callback\n",
      "Traceback (most recent call last):\n",
      "  File \"C:\\Users\\User\\AppData\\Roaming\\Python\\Python38\\site-packages\\PIL\\Image.py\", line 2770, in open\n",
      "    fp.seek(0)\n",
      "AttributeError: 'str' object has no attribute 'seek'\n",
      "\n",
      "During handling of the above exception, another exception occurred:\n",
      "\n",
      "Traceback (most recent call last):\n",
      "  File \"C:\\Users\\User\\anaconda3\\lib\\tkinter\\__init__.py\", line 1883, in __call__\n",
      "    return self.func(*args)\n",
      "  File \"<ipython-input-16-82508f78cbcc>\", line 8, in process_image\n",
      "    img = Image.open(fname)\n",
      "  File \"C:\\Users\\User\\AppData\\Roaming\\Python\\Python38\\site-packages\\PIL\\Image.py\", line 2772, in open\n",
      "    fp = io.BytesIO(fp.read())\n",
      "AttributeError: 'str' object has no attribute 'read'\n",
      "\n",
      "    Error 263 for command:\n",
      "        open word.mp3\n",
      "    지정한 장치가 열려 있지 않거나 MCI에서 인식되지 않습니다.\n",
      "\n",
      "    Error 263 for command:\n",
      "        close word.mp3\n",
      "    지정한 장치가 열려 있지 않거나 MCI에서 인식되지 않습니다.\n",
      "Failed to close the file: word.mp3\n",
      "Exception in Tkinter callback\n",
      "Traceback (most recent call last):\n",
      "  File \"C:\\Users\\User\\anaconda3\\lib\\tkinter\\__init__.py\", line 1883, in __call__\n",
      "    return self.func(*args)\n",
      "  File \"<ipython-input-16-82508f78cbcc>\", line 32, in tts_english\n",
      "    playsound.playsound('word.mp3',True)\n",
      "  File \"C:\\Users\\User\\anaconda3\\lib\\site-packages\\playsound.py\", line 72, in _playsoundWin\n",
      "    winCommand(u'open {}'.format(sound))\n",
      "  File \"C:\\Users\\User\\anaconda3\\lib\\site-packages\\playsound.py\", line 64, in winCommand\n",
      "    raise PlaysoundException(exceptionMessage)\n",
      "playsound.PlaysoundException: \n",
      "    Error 263 for command:\n",
      "        open word.mp3\n",
      "    지정한 장치가 열려 있지 않거나 MCI에서 인식되지 않습니다.\n",
      "\n",
      "    Error 263 for command:\n",
      "        open word.mp3\n",
      "    지정한 장치가 열려 있지 않거나 MCI에서 인식되지 않습니다.\n",
      "\n",
      "    Error 263 for command:\n",
      "        close word.mp3\n",
      "    지정한 장치가 열려 있지 않거나 MCI에서 인식되지 않습니다.\n",
      "Failed to close the file: word.mp3\n",
      "Exception in Tkinter callback\n",
      "Traceback (most recent call last):\n",
      "  File \"C:\\Users\\User\\anaconda3\\lib\\tkinter\\__init__.py\", line 1883, in __call__\n",
      "    return self.func(*args)\n",
      "  File \"<ipython-input-16-82508f78cbcc>\", line 32, in tts_english\n",
      "    playsound.playsound('word.mp3',True)\n",
      "  File \"C:\\Users\\User\\anaconda3\\lib\\site-packages\\playsound.py\", line 72, in _playsoundWin\n",
      "    winCommand(u'open {}'.format(sound))\n",
      "  File \"C:\\Users\\User\\anaconda3\\lib\\site-packages\\playsound.py\", line 64, in winCommand\n",
      "    raise PlaysoundException(exceptionMessage)\n",
      "playsound.PlaysoundException: \n",
      "    Error 263 for command:\n",
      "        open word.mp3\n",
      "    지정한 장치가 열려 있지 않거나 MCI에서 인식되지 않습니다.\n",
      "\n",
      "    Error 263 for command:\n",
      "        open word.mp3\n",
      "    지정한 장치가 열려 있지 않거나 MCI에서 인식되지 않습니다.\n",
      "\n",
      "    Error 263 for command:\n",
      "        close word.mp3\n",
      "    지정한 장치가 열려 있지 않거나 MCI에서 인식되지 않습니다.\n",
      "Failed to close the file: word.mp3\n",
      "Exception in Tkinter callback\n",
      "Traceback (most recent call last):\n",
      "  File \"C:\\Users\\User\\anaconda3\\lib\\tkinter\\__init__.py\", line 1883, in __call__\n",
      "    return self.func(*args)\n",
      "  File \"<ipython-input-16-82508f78cbcc>\", line 37, in tts_french\n",
      "    playsound.playsound('word.mp3',True)\n",
      "  File \"C:\\Users\\User\\anaconda3\\lib\\site-packages\\playsound.py\", line 72, in _playsoundWin\n",
      "    winCommand(u'open {}'.format(sound))\n",
      "  File \"C:\\Users\\User\\anaconda3\\lib\\site-packages\\playsound.py\", line 64, in winCommand\n",
      "    raise PlaysoundException(exceptionMessage)\n",
      "playsound.PlaysoundException: \n",
      "    Error 263 for command:\n",
      "        open word.mp3\n",
      "    지정한 장치가 열려 있지 않거나 MCI에서 인식되지 않습니다.\n",
      "\n",
      "    Error 263 for command:\n",
      "        open word.mp3\n",
      "    지정한 장치가 열려 있지 않거나 MCI에서 인식되지 않습니다.\n",
      "\n",
      "    Error 263 for command:\n",
      "        close word.mp3\n",
      "    지정한 장치가 열려 있지 않거나 MCI에서 인식되지 않습니다.\n",
      "Failed to close the file: word.mp3\n",
      "Exception in Tkinter callback\n",
      "Traceback (most recent call last):\n",
      "  File \"C:\\Users\\User\\anaconda3\\lib\\tkinter\\__init__.py\", line 1883, in __call__\n",
      "    return self.func(*args)\n",
      "  File \"<ipython-input-16-82508f78cbcc>\", line 42, in tts_deutsch\n",
      "    playsound.playsound('word.mp3',True)\n",
      "  File \"C:\\Users\\User\\anaconda3\\lib\\site-packages\\playsound.py\", line 72, in _playsoundWin\n",
      "    winCommand(u'open {}'.format(sound))\n",
      "  File \"C:\\Users\\User\\anaconda3\\lib\\site-packages\\playsound.py\", line 64, in winCommand\n",
      "    raise PlaysoundException(exceptionMessage)\n",
      "playsound.PlaysoundException: \n",
      "    Error 263 for command:\n",
      "        open word.mp3\n",
      "    지정한 장치가 열려 있지 않거나 MCI에서 인식되지 않습니다.\n",
      "\n",
      "    Error 259 for command:\n",
      "        play word.mp3 wait\n",
      "    지정한 명령 매개 변수를 드라이버가 인식할 수 없습니다.\n",
      "Exception in Tkinter callback\n",
      "Traceback (most recent call last):\n",
      "  File \"C:\\Users\\User\\anaconda3\\lib\\tkinter\\__init__.py\", line 1883, in __call__\n",
      "    return self.func(*args)\n",
      "  File \"<ipython-input-16-82508f78cbcc>\", line 42, in tts_deutsch\n",
      "    playsound.playsound('word.mp3',True)\n",
      "  File \"C:\\Users\\User\\anaconda3\\lib\\site-packages\\playsound.py\", line 73, in _playsoundWin\n",
      "    winCommand(u'play {}{}'.format(sound, ' wait' if block else ''))\n",
      "  File \"C:\\Users\\User\\anaconda3\\lib\\site-packages\\playsound.py\", line 64, in winCommand\n",
      "    raise PlaysoundException(exceptionMessage)\n",
      "playsound.PlaysoundException: \n",
      "    Error 259 for command:\n",
      "        play word.mp3 wait\n",
      "    지정한 명령 매개 변수를 드라이버가 인식할 수 없습니다.\n",
      "\n",
      "    Error 263 for command:\n",
      "        open word.mp3\n",
      "    지정한 장치가 열려 있지 않거나 MCI에서 인식되지 않습니다.\n",
      "\n",
      "    Error 263 for command:\n",
      "        close word.mp3\n",
      "    지정한 장치가 열려 있지 않거나 MCI에서 인식되지 않습니다.\n",
      "Failed to close the file: word.mp3\n",
      "Exception in Tkinter callback\n",
      "Traceback (most recent call last):\n",
      "  File \"C:\\Users\\User\\anaconda3\\lib\\tkinter\\__init__.py\", line 1883, in __call__\n",
      "    return self.func(*args)\n",
      "  File \"<ipython-input-16-82508f78cbcc>\", line 47, in tts_korean\n",
      "    playsound.playsound('word.mp3',True)\n",
      "  File \"C:\\Users\\User\\anaconda3\\lib\\site-packages\\playsound.py\", line 72, in _playsoundWin\n",
      "    winCommand(u'open {}'.format(sound))\n",
      "  File \"C:\\Users\\User\\anaconda3\\lib\\site-packages\\playsound.py\", line 64, in winCommand\n",
      "    raise PlaysoundException(exceptionMessage)\n",
      "playsound.PlaysoundException: \n",
      "    Error 263 for command:\n",
      "        open word.mp3\n",
      "    지정한 장치가 열려 있지 않거나 MCI에서 인식되지 않습니다.\n"
     ]
    }
   ],
   "source": [
    "win = tk.Tk()\n",
    "win.title(\"다국어 단어\")\n",
    "win.geometry('512x500')\n",
    "\n",
    "process_button = tk.Button(win,text='영상선택',command = process_image) # 위젯 생성\n",
    "quit_button = tk.Button(win,text='끝내기',command = quit_program) # 위젯 생성\n",
    "canvas = tk.Canvas(win,width=256,height=256,bg='cyan',bd=4)\n",
    "label_en = tk.Label(win,width=16,height=1,bg='yellow',bd=4,text='영어',anchor='w')\n",
    "label_fr = tk.Label(win,width=16,height=1,bg='yellow',bd=4,text='프랑스어',anchor='w')\n",
    "label_de = tk.Label(win,width=16,height=1,bg='yellow',bd=4,text='독일어',anchor='w')\n",
    "label_ko = tk.Label(win,width=16,height=1,bg='yellow',bd=4,text='한국어',anchor='w')\n",
    "label_ja = tk.Label(win,width=16,height=1,bg='yellow',bd=4,text='일본어',anchor='w')\n",
    "tts_en = tk.Button(win,text='듣기',command=tts_english)\n",
    "tts_fr = tk.Button(win,text='듣기',command=tts_french)\n",
    "tts_de = tk.Button(win,text='듣기',command=tts_deutsch)\n",
    "tts_ko = tk.Button(win,text='듣기',command=tts_korean)\n",
    "tts_ja = tk.Button(win,text='듣기',command=tts_japaness)\n",
    "\n",
    "\n",
    "process_button.grid(row=0,column=0) # 위젯 배치\n",
    "quit_button.grid(row=1,column=0)\n",
    "canvas.grid(row=0,column=1)\n",
    "label_en.grid(row=1,column=1); tts_en.grid(row=1,column=2)\n",
    "label_fr.grid(row=2,column=1); tts_fr.grid(row=2,column=2)\n",
    "label_de.grid(row=3,column=1); tts_de.grid(row=3,column=2)\n",
    "label_ko.grid(row=4,column=1); tts_ko.grid(row=4,column=2)\n",
    "label_ja.grid(row=5,column=1); tts_ja.grid(row=5,column=2)\n",
    "\n",
    "# 실행은 \n",
    "win.mainloop()"
   ]
  },
  {
   "cell_type": "code",
   "execution_count": null,
   "metadata": {},
   "outputs": [],
   "source": []
  }
 ],
 "metadata": {
  "accelerator": "GPU",
  "colab": {
   "gpuType": "T4",
   "provenance": []
  },
  "kernelspec": {
   "display_name": "Python 3",
   "language": "python",
   "name": "python3"
  },
  "language_info": {
   "codemirror_mode": {
    "name": "ipython",
    "version": 3
   },
   "file_extension": ".py",
   "mimetype": "text/x-python",
   "name": "python",
   "nbconvert_exporter": "python",
   "pygments_lexer": "ipython3",
   "version": "3.8.5"
  }
 },
 "nbformat": 4,
 "nbformat_minor": 4
}
