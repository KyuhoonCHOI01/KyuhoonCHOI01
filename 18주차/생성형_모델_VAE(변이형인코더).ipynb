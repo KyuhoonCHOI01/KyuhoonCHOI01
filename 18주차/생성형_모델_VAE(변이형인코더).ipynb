{
  "nbformat": 4,
  "nbformat_minor": 0,
  "metadata": {
    "colab": {
      "provenance": [],
      "gpuType": "T4"
    },
    "kernelspec": {
      "name": "python3",
      "display_name": "Python 3"
    },
    "language_info": {
      "name": "python"
    },
    "accelerator": "GPU"
  },
  "cells": [
    {
      "cell_type": "code",
      "execution_count": 1,
      "metadata": {
        "id": "Ez-1j6_8fvQ5"
      },
      "outputs": [],
      "source": [
        "# 표준 오토인코더\n",
        "# 확장을 해서 변이형 오토인코더"
      ]
    },
    {
      "cell_type": "markdown",
      "source": [
        "https://gilbertlim.github.io/deep%20learning/dl_variational_autoencoder/"
      ],
      "metadata": {
        "id": "yv3DfLsTkudL"
      }
    },
    {
      "cell_type": "code",
      "source": [
        "import tensorflow as tf\n",
        "from tensorflow.keras import datasets\n",
        "(x_train,y_train),(x_test,y_test) = datasets.fashion_mnist.load_data()"
      ],
      "metadata": {
        "id": "LapQfJXjgF7j",
        "colab": {
          "base_uri": "https://localhost:8080/"
        },
        "outputId": "ade4ac4a-5921-433a-f0ad-b79c73ac0313"
      },
      "execution_count": 2,
      "outputs": [
        {
          "output_type": "stream",
          "name": "stdout",
          "text": [
            "Downloading data from https://storage.googleapis.com/tensorflow/tf-keras-datasets/train-labels-idx1-ubyte.gz\n",
            "29515/29515 [==============================] - 0s 0us/step\n",
            "Downloading data from https://storage.googleapis.com/tensorflow/tf-keras-datasets/train-images-idx3-ubyte.gz\n",
            "26421880/26421880 [==============================] - 0s 0us/step\n",
            "Downloading data from https://storage.googleapis.com/tensorflow/tf-keras-datasets/t10k-labels-idx1-ubyte.gz\n",
            "5148/5148 [==============================] - 0s 0us/step\n",
            "Downloading data from https://storage.googleapis.com/tensorflow/tf-keras-datasets/t10k-images-idx3-ubyte.gz\n",
            "4422102/4422102 [==============================] - 0s 0us/step\n"
          ]
        }
      ]
    },
    {
      "cell_type": "code",
      "source": [
        "x_train.shape"
      ],
      "metadata": {
        "colab": {
          "base_uri": "https://localhost:8080/"
        },
        "id": "YnmHtf5ch3GN",
        "outputId": "7ba38b75-7761-4e5a-ce59-53a807f31db0"
      },
      "execution_count": 3,
      "outputs": [
        {
          "output_type": "execute_result",
          "data": {
            "text/plain": [
              "(60000, 28, 28)"
            ]
          },
          "metadata": {},
          "execution_count": 3
        }
      ]
    },
    {
      "cell_type": "code",
      "source": [
        "import numpy as np"
      ],
      "metadata": {
        "id": "Sv-hgwghiX5D"
      },
      "execution_count": 4,
      "outputs": []
    },
    {
      "cell_type": "code",
      "source": [
        "# 첫번째 차원은 가장 바깥쪽 차원을 0개 추가 그래서 변하지 않음\n",
        "# 두번째 차원은 좌,우 각각 2개의 값으로 추가, 좌우 각각2열이 0으로 패딩이 추가\n",
        "# 세번째 차원은 위,아래 각각 2개의 값으로 추가, 좌우 각각2열이 0으로 패딩이 추가\n",
        "temp = np.pad(x_train,((0,0),(2,2),(2,2)),constant_values=0.0)\n",
        "print(temp.shape)\n",
        "np.expand_dims(temp,-1).shape"
      ],
      "metadata": {
        "colab": {
          "base_uri": "https://localhost:8080/"
        },
        "id": "3kWWfMgJiIPP",
        "outputId": "deabb193-e46f-4e5b-ff5e-3585950d86e7"
      },
      "execution_count": 5,
      "outputs": [
        {
          "output_type": "stream",
          "name": "stdout",
          "text": [
            "(60000, 32, 32)\n"
          ]
        },
        {
          "output_type": "execute_result",
          "data": {
            "text/plain": [
              "(60000, 32, 32, 1)"
            ]
          },
          "metadata": {},
          "execution_count": 5
        }
      ]
    },
    {
      "cell_type": "code",
      "source": [
        "# 전처리 : float32, /255.0\n",
        "# 각 이미지에 패딩을 적용해서 32 x 32 : 신경망 통과시 텐서의 크기를 쉽게 조작할수 있도록\n",
        "def preprocess(imgs):\n",
        "  imgs = imgs.astype('float32') / 255.0\n",
        "  imgs = np.pad(imgs,((0,0),(2,2),(2,2)),constant_values=0.0)\n",
        "  imgs = np.expand_dims(imgs,-1)\n",
        "  return imgs\n",
        "x_train = preprocess(x_train)\n",
        "x_test = preprocess(x_test)"
      ],
      "metadata": {
        "id": "bRZceEfEhK3K"
      },
      "execution_count": 6,
      "outputs": []
    },
    {
      "cell_type": "code",
      "source": [
        "# 인코더 : 고차원 입력데이터를 저차원 임베딩 벡터로 압축\n",
        "# 디코더 : 임베딩 벡터를 원본 도메인으로 압축 해제(이미지로 되돌린다)\n",
        "# 인코더를 수행하면...특징들을 모은 임베딩(잠재공간).. 임베딩을 샘플링해서 디코더에 넣으면 새로운 이미지생성"
      ],
      "metadata": {
        "id": "xRZsSwAPibOU"
      },
      "execution_count": 7,
      "outputs": []
    },
    {
      "cell_type": "code",
      "source": [
        "from tensorflow.keras import layers,models\n",
        "import tensorflow.keras.backend as k"
      ],
      "metadata": {
        "id": "WNgY3rp3kgVr"
      },
      "execution_count": 8,
      "outputs": []
    },
    {
      "cell_type": "code",
      "source": [
        "k.int_shape(x_train)"
      ],
      "metadata": {
        "colab": {
          "base_uri": "https://localhost:8080/"
        },
        "id": "u0PALcgDlnhz",
        "outputId": "8bac6e86-51b3-48f7-d115-d588ddfd1fdf"
      },
      "execution_count": 9,
      "outputs": [
        {
          "output_type": "execute_result",
          "data": {
            "text/plain": [
              "(60000, 32, 32, 1)"
            ]
          },
          "metadata": {},
          "execution_count": 9
        }
      ]
    },
    {
      "cell_type": "code",
      "source": [
        "#인코더\n",
        "encorder_input = layers.Input(shape=(32, 32, 1))\n",
        "x = layers.Conv2D(32,(3,3),strides=2,activation='relu',padding='same')(encorder_input)\n",
        "x = layers.Conv2D(64,(3,3),strides=2,activation='relu',padding='same')(x)\n",
        "x = layers.Conv2D(128,(3,3),strides=2,activation='relu',padding='same')(x)\n",
        "shape_before_flatten = k.int_shape(x)[1:]  # 디코더에서 사용\n",
        "x = layers.Flatten()(x)\n",
        "encorder_output = layers.Dense(2)(x)\n",
        "encorder = models.Model(encorder_input,encorder_output)"
      ],
      "metadata": {
        "id": "PD1nRZOykbbV"
      },
      "execution_count": 10,
      "outputs": []
    },
    {
      "cell_type": "code",
      "source": [
        "encorder.summary()"
      ],
      "metadata": {
        "colab": {
          "base_uri": "https://localhost:8080/"
        },
        "id": "AcKb8Vexsngh",
        "outputId": "7348a102-7718-40fc-f90f-35f94d0ead27"
      },
      "execution_count": 11,
      "outputs": [
        {
          "output_type": "stream",
          "name": "stdout",
          "text": [
            "Model: \"model\"\n",
            "_________________________________________________________________\n",
            " Layer (type)                Output Shape              Param #   \n",
            "=================================================================\n",
            " input_1 (InputLayer)        [(None, 32, 32, 1)]       0         \n",
            "                                                                 \n",
            " conv2d (Conv2D)             (None, 16, 16, 32)        320       \n",
            "                                                                 \n",
            " conv2d_1 (Conv2D)           (None, 8, 8, 64)          18496     \n",
            "                                                                 \n",
            " conv2d_2 (Conv2D)           (None, 4, 4, 128)         73856     \n",
            "                                                                 \n",
            " flatten (Flatten)           (None, 2048)              0         \n",
            "                                                                 \n",
            " dense (Dense)               (None, 2)                 4098      \n",
            "                                                                 \n",
            "=================================================================\n",
            "Total params: 96770 (378.01 KB)\n",
            "Trainable params: 96770 (378.01 KB)\n",
            "Non-trainable params: 0 (0.00 Byte)\n",
            "_________________________________________________________________\n"
          ]
        }
      ]
    },
    {
      "cell_type": "code",
      "source": [
        "# np.prod(shape_before_flatten), shape_before_flatten"
      ],
      "metadata": {
        "id": "ATzuOXvkms49"
      },
      "execution_count": 12,
      "outputs": []
    },
    {
      "cell_type": "code",
      "source": [
        "# 디코더\n",
        "decorder_input = layers.Input(shape=(2,))\n",
        "x = layers.Dense(np.prod(shape_before_flatten))(decorder_input) # 2048\n",
        "x = layers.Reshape(shape_before_flatten)(x)\n",
        "x = layers.Conv2DTranspose(128,(3,3),strides=2,activation='relu',padding='same')(x)\n",
        "x = layers.Conv2DTranspose(64,(3,3),strides=2,activation='relu',padding='same')(x)\n",
        "x = layers.Conv2DTranspose(32,(3,3),strides=2,activation='relu',padding='same')(x)\n",
        "decoder_output = layers.Conv2D(1,(3,3),strides=1,activation='sigmoid',padding='same')(x) # 이미지 그려야..\n",
        "decorder = models.Model(decorder_input,decoder_output)"
      ],
      "metadata": {
        "id": "O7EVsmOlmT9V"
      },
      "execution_count": 13,
      "outputs": []
    },
    {
      "cell_type": "code",
      "source": [
        "decorder.summary()"
      ],
      "metadata": {
        "colab": {
          "base_uri": "https://localhost:8080/"
        },
        "id": "KiFivcUGssQu",
        "outputId": "9325cb70-1c26-4ece-bb6d-465acd71bc21"
      },
      "execution_count": 14,
      "outputs": [
        {
          "output_type": "stream",
          "name": "stdout",
          "text": [
            "Model: \"model_1\"\n",
            "_________________________________________________________________\n",
            " Layer (type)                Output Shape              Param #   \n",
            "=================================================================\n",
            " input_2 (InputLayer)        [(None, 2)]               0         \n",
            "                                                                 \n",
            " dense_1 (Dense)             (None, 2048)              6144      \n",
            "                                                                 \n",
            " reshape (Reshape)           (None, 4, 4, 128)         0         \n",
            "                                                                 \n",
            " conv2d_transpose (Conv2DTr  (None, 8, 8, 128)         147584    \n",
            " anspose)                                                        \n",
            "                                                                 \n",
            " conv2d_transpose_1 (Conv2D  (None, 16, 16, 64)        73792     \n",
            " Transpose)                                                      \n",
            "                                                                 \n",
            " conv2d_transpose_2 (Conv2D  (None, 32, 32, 32)        18464     \n",
            " Transpose)                                                      \n",
            "                                                                 \n",
            " conv2d_3 (Conv2D)           (None, 32, 32, 1)         289       \n",
            "                                                                 \n",
            "=================================================================\n",
            "Total params: 246273 (962.00 KB)\n",
            "Trainable params: 246273 (962.00 KB)\n",
            "Non-trainable params: 0 (0.00 Byte)\n",
            "_________________________________________________________________\n"
          ]
        }
      ]
    },
    {
      "cell_type": "code",
      "source": [
        "#오토인코더 : 인코더+디코더\n",
        "autoencorder = models.Model(encorder_input, decorder(encorder_output))  # 이미지를 입력으로 받아서 인코더와 디코더를 통과"
      ],
      "metadata": {
        "id": "PdEg2noInz9Y"
      },
      "execution_count": 15,
      "outputs": []
    },
    {
      "cell_type": "code",
      "source": [
        "autoencorder.summary()"
      ],
      "metadata": {
        "colab": {
          "base_uri": "https://localhost:8080/"
        },
        "id": "3FOCeB9_s0D-",
        "outputId": "859bbad2-ba7a-41da-e2e2-fa438b30b778"
      },
      "execution_count": 16,
      "outputs": [
        {
          "output_type": "stream",
          "name": "stdout",
          "text": [
            "Model: \"model_2\"\n",
            "_________________________________________________________________\n",
            " Layer (type)                Output Shape              Param #   \n",
            "=================================================================\n",
            " input_1 (InputLayer)        [(None, 32, 32, 1)]       0         \n",
            "                                                                 \n",
            " conv2d (Conv2D)             (None, 16, 16, 32)        320       \n",
            "                                                                 \n",
            " conv2d_1 (Conv2D)           (None, 8, 8, 64)          18496     \n",
            "                                                                 \n",
            " conv2d_2 (Conv2D)           (None, 4, 4, 128)         73856     \n",
            "                                                                 \n",
            " flatten (Flatten)           (None, 2048)              0         \n",
            "                                                                 \n",
            " dense (Dense)               (None, 2)                 4098      \n",
            "                                                                 \n",
            " model_1 (Functional)        (None, 32, 32, 1)         246273    \n",
            "                                                                 \n",
            "=================================================================\n",
            "Total params: 343043 (1.31 MB)\n",
            "Trainable params: 343043 (1.31 MB)\n",
            "Non-trainable params: 0 (0.00 Byte)\n",
            "_________________________________________________________________\n"
          ]
        }
      ]
    },
    {
      "cell_type": "code",
      "source": [
        "autoencorder.compile(optimizer='adam', loss='binary_crossentropy')"
      ],
      "metadata": {
        "id": "FHxezDL8oUIn"
      },
      "execution_count": 17,
      "outputs": []
    },
    {
      "cell_type": "code",
      "source": [
        "x_train.shape, y_train.shape"
      ],
      "metadata": {
        "colab": {
          "base_uri": "https://localhost:8080/"
        },
        "id": "slxAk1GUtJIz",
        "outputId": "7aa42abf-2e5d-452a-c4bd-48fe83e04806"
      },
      "execution_count": 18,
      "outputs": [
        {
          "output_type": "execute_result",
          "data": {
            "text/plain": [
              "((60000, 32, 32, 1), (60000,))"
            ]
          },
          "metadata": {},
          "execution_count": 18
        }
      ]
    },
    {
      "cell_type": "code",
      "source": [
        "autoencorder.fit(x_train,x_train,epochs=50,batch_size=100,\n",
        "                 shuffle=True,validation_data=(x_test,x_test))"
      ],
      "metadata": {
        "colab": {
          "base_uri": "https://localhost:8080/"
        },
        "id": "hg0Z5I_TrDAW",
        "outputId": "23ef7265-314f-4b9d-bfa3-1008e7533049"
      },
      "execution_count": 19,
      "outputs": [
        {
          "output_type": "stream",
          "name": "stdout",
          "text": [
            "Epoch 1/50\n",
            "600/600 [==============================] - 22s 12ms/step - loss: 0.2971 - val_loss: 0.2655\n",
            "Epoch 2/50\n",
            "600/600 [==============================] - 7s 12ms/step - loss: 0.2593 - val_loss: 0.2577\n",
            "Epoch 3/50\n",
            "600/600 [==============================] - 7s 11ms/step - loss: 0.2553 - val_loss: 0.2555\n",
            "Epoch 4/50\n",
            "600/600 [==============================] - 7s 12ms/step - loss: 0.2532 - val_loss: 0.2548\n",
            "Epoch 5/50\n",
            "600/600 [==============================] - 7s 11ms/step - loss: 0.2520 - val_loss: 0.2538\n",
            "Epoch 6/50\n",
            "600/600 [==============================] - 7s 11ms/step - loss: 0.2511 - val_loss: 0.2522\n",
            "Epoch 7/50\n",
            "600/600 [==============================] - 7s 11ms/step - loss: 0.2500 - val_loss: 0.2524\n",
            "Epoch 8/50\n",
            "600/600 [==============================] - 7s 11ms/step - loss: 0.2493 - val_loss: 0.2513\n",
            "Epoch 9/50\n",
            "600/600 [==============================] - 7s 12ms/step - loss: 0.2488 - val_loss: 0.2501\n",
            "Epoch 10/50\n",
            "600/600 [==============================] - 7s 11ms/step - loss: 0.2482 - val_loss: 0.2497\n",
            "Epoch 11/50\n",
            "600/600 [==============================] - 7s 12ms/step - loss: 0.2476 - val_loss: 0.2496\n",
            "Epoch 12/50\n",
            "600/600 [==============================] - 7s 11ms/step - loss: 0.2470 - val_loss: 0.2493\n",
            "Epoch 13/50\n",
            "600/600 [==============================] - 7s 12ms/step - loss: 0.2466 - val_loss: 0.2492\n",
            "Epoch 14/50\n",
            "600/600 [==============================] - 7s 11ms/step - loss: 0.2463 - val_loss: 0.2485\n",
            "Epoch 15/50\n",
            "600/600 [==============================] - 7s 11ms/step - loss: 0.2458 - val_loss: 0.2483\n",
            "Epoch 16/50\n",
            "600/600 [==============================] - 7s 11ms/step - loss: 0.2455 - val_loss: 0.2479\n",
            "Epoch 17/50\n",
            "600/600 [==============================] - 7s 11ms/step - loss: 0.2451 - val_loss: 0.2473\n",
            "Epoch 18/50\n",
            "600/600 [==============================] - 7s 12ms/step - loss: 0.2448 - val_loss: 0.2479\n",
            "Epoch 19/50\n",
            "600/600 [==============================] - 7s 11ms/step - loss: 0.2444 - val_loss: 0.2473\n",
            "Epoch 20/50\n",
            "600/600 [==============================] - 7s 12ms/step - loss: 0.2442 - val_loss: 0.2470\n",
            "Epoch 21/50\n",
            "600/600 [==============================] - 7s 11ms/step - loss: 0.2438 - val_loss: 0.2474\n",
            "Epoch 22/50\n",
            "600/600 [==============================] - 7s 12ms/step - loss: 0.2436 - val_loss: 0.2467\n",
            "Epoch 23/50\n",
            "600/600 [==============================] - 7s 11ms/step - loss: 0.2434 - val_loss: 0.2471\n",
            "Epoch 24/50\n",
            "600/600 [==============================] - 7s 12ms/step - loss: 0.2431 - val_loss: 0.2470\n",
            "Epoch 25/50\n",
            "600/600 [==============================] - 7s 11ms/step - loss: 0.2429 - val_loss: 0.2485\n",
            "Epoch 26/50\n",
            "600/600 [==============================] - 7s 11ms/step - loss: 0.2428 - val_loss: 0.2467\n",
            "Epoch 27/50\n",
            "600/600 [==============================] - 7s 11ms/step - loss: 0.2425 - val_loss: 0.2465\n",
            "Epoch 28/50\n",
            "600/600 [==============================] - 7s 11ms/step - loss: 0.2423 - val_loss: 0.2463\n",
            "Epoch 29/50\n",
            "600/600 [==============================] - 7s 12ms/step - loss: 0.2422 - val_loss: 0.2469\n",
            "Epoch 30/50\n",
            "600/600 [==============================] - 7s 11ms/step - loss: 0.2420 - val_loss: 0.2459\n",
            "Epoch 31/50\n",
            "600/600 [==============================] - 7s 12ms/step - loss: 0.2418 - val_loss: 0.2462\n",
            "Epoch 32/50\n",
            "600/600 [==============================] - 7s 11ms/step - loss: 0.2416 - val_loss: 0.2465\n",
            "Epoch 33/50\n",
            "600/600 [==============================] - 7s 12ms/step - loss: 0.2416 - val_loss: 0.2460\n",
            "Epoch 34/50\n",
            "600/600 [==============================] - 7s 11ms/step - loss: 0.2413 - val_loss: 0.2456\n",
            "Epoch 35/50\n",
            "600/600 [==============================] - 7s 12ms/step - loss: 0.2413 - val_loss: 0.2458\n",
            "Epoch 36/50\n",
            "600/600 [==============================] - 7s 11ms/step - loss: 0.2411 - val_loss: 0.2455\n",
            "Epoch 37/50\n",
            "600/600 [==============================] - 7s 11ms/step - loss: 0.2411 - val_loss: 0.2457\n",
            "Epoch 38/50\n",
            "600/600 [==============================] - 7s 12ms/step - loss: 0.2408 - val_loss: 0.2453\n",
            "Epoch 39/50\n",
            "600/600 [==============================] - 7s 12ms/step - loss: 0.2407 - val_loss: 0.2456\n",
            "Epoch 40/50\n",
            "600/600 [==============================] - 7s 12ms/step - loss: 0.2406 - val_loss: 0.2453\n",
            "Epoch 41/50\n",
            "600/600 [==============================] - 7s 11ms/step - loss: 0.2406 - val_loss: 0.2454\n",
            "Epoch 42/50\n",
            "600/600 [==============================] - 7s 12ms/step - loss: 0.2403 - val_loss: 0.2453\n",
            "Epoch 43/50\n",
            "600/600 [==============================] - 7s 11ms/step - loss: 0.2403 - val_loss: 0.2453\n",
            "Epoch 44/50\n",
            "600/600 [==============================] - 7s 12ms/step - loss: 0.2402 - val_loss: 0.2454\n",
            "Epoch 45/50\n",
            "600/600 [==============================] - 7s 11ms/step - loss: 0.2401 - val_loss: 0.2457\n",
            "Epoch 46/50\n",
            "600/600 [==============================] - 7s 12ms/step - loss: 0.2400 - val_loss: 0.2455\n",
            "Epoch 47/50\n",
            "600/600 [==============================] - 7s 11ms/step - loss: 0.2399 - val_loss: 0.2457\n",
            "Epoch 48/50\n",
            "600/600 [==============================] - 7s 12ms/step - loss: 0.2398 - val_loss: 0.2453\n",
            "Epoch 49/50\n",
            "600/600 [==============================] - 7s 12ms/step - loss: 0.2398 - val_loss: 0.2456\n",
            "Epoch 50/50\n",
            "600/600 [==============================] - 7s 11ms/step - loss: 0.2396 - val_loss: 0.2451\n"
          ]
        },
        {
          "output_type": "execute_result",
          "data": {
            "text/plain": [
              "<keras.src.callbacks.History at 0x7c3eb96321a0>"
            ]
          },
          "metadata": {},
          "execution_count": 19
        }
      ]
    },
    {
      "cell_type": "code",
      "source": [
        "import utils"
      ],
      "metadata": {
        "id": "KNKDVENirRWl"
      },
      "execution_count": 20,
      "outputs": []
    },
    {
      "cell_type": "code",
      "source": [
        "predictions = autoencorder.predict( x_test[:5000])"
      ],
      "metadata": {
        "colab": {
          "base_uri": "https://localhost:8080/"
        },
        "id": "PzpjJewAwRDn",
        "outputId": "6193a840-3ce8-437a-ea4d-c05b3503f4de"
      },
      "execution_count": 21,
      "outputs": [
        {
          "output_type": "stream",
          "name": "stdout",
          "text": [
            "157/157 [==============================] - 1s 4ms/step\n"
          ]
        }
      ]
    },
    {
      "cell_type": "code",
      "source": [
        "utils.display(x_test[:5000])"
      ],
      "metadata": {
        "colab": {
          "base_uri": "https://localhost:8080/",
          "height": 124
        },
        "id": "EwUSJmtDwobq",
        "outputId": "facf8e1d-b071-48b4-f326-0921fa618744"
      },
      "execution_count": 22,
      "outputs": [
        {
          "output_type": "display_data",
          "data": {
            "text/plain": [
              "<Figure size 2000x300 with 10 Axes>"
            ],
            "image/png": "[encoded data removed]"
          },
          "metadata": {}
        }
      ]
    },
    {
      "cell_type": "code",
      "source": [
        "utils.display(predictions)"
      ],
      "metadata": {
        "colab": {
          "base_uri": "https://localhost:8080/",
          "height": 124
        },
        "id": "ZTiPYij5wa77",
        "outputId": "2cea16b0-1be8-4404-9e44-c5c53fad5f28"
      },
      "execution_count": 23,
      "outputs": [
        {
          "output_type": "display_data",
          "data": {
            "text/plain": [
              "<Figure size 2000x300 with 10 Axes>"
            ],
            "image/png": "[encoded data removed]"
          },
          "metadata": {}
        }
      ]
    },
    {
      "cell_type": "code",
      "source": [
        "# 인코더.. 이미지 임베딩\n",
        "embedding = encorder.predict(x_test[:5000])"
      ],
      "metadata": {
        "colab": {
          "base_uri": "https://localhost:8080/"
        },
        "id": "bzEa54ozwm9c",
        "outputId": "809d69cc-b5ee-4e67-e37e-2e85ad601c5b"
      },
      "execution_count": 24,
      "outputs": [
        {
          "output_type": "stream",
          "name": "stdout",
          "text": [
            "157/157 [==============================] - 0s 2ms/step\n"
          ]
        }
      ]
    },
    {
      "cell_type": "code",
      "source": [
        "mins,maxs = np.min(embedding,axis=0), np.max(embedding,axis=0)\n",
        "sample = np.random.uniform(mins,maxs,size=(18,2))\n",
        "sample.shape\n",
        "new_images =  decorder.predict(sample)"
      ],
      "metadata": {
        "colab": {
          "base_uri": "https://localhost:8080/"
        },
        "id": "gjTvVvSZxLNV",
        "outputId": "75ee55b4-aa31-43f8-f3b8-2c3a45bd3c4d"
      },
      "execution_count": 25,
      "outputs": [
        {
          "output_type": "stream",
          "name": "stdout",
          "text": [
            "1/1 [==============================] - 0s 218ms/step\n"
          ]
        }
      ]
    },
    {
      "cell_type": "code",
      "source": [
        "utils.display(new_images)"
      ],
      "metadata": {
        "colab": {
          "base_uri": "https://localhost:8080/",
          "height": 188
        },
        "id": "49cDj_HcxgSj",
        "outputId": "6847569e-6a82-4c3c-b199-ac87859be48e"
      },
      "execution_count": 26,
      "outputs": [
        {
          "output_type": "display_data",
          "data": {
            "text/plain": [
              "<Figure size 2000x300 with 10 Axes>"
            ],
            "image/png": "[encoded data removed]"
          },
          "metadata": {}
        }
      ]
    },
    {
      "cell_type": "code",
      "source": [],
      "metadata": {
        "id": "eE6nYzH0x2Q1"
      },
      "execution_count": 26,
      "outputs": []
    }
  ]
}