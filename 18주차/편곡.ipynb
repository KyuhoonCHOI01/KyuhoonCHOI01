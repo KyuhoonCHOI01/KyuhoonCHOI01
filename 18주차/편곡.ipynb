{
 "cells": [
  {
   "cell_type": "code",
   "execution_count": 3,
   "metadata": {},
   "outputs": [],
   "source": [
    "import music21\n",
    "little_star=\"tinynotation: 4/4 c4 c4 g4 g4 a4 a4 g2 f4 f4 e4 e4 d4 d4 c2 g4 g4 f4 f4 e4 e4 d2 g4 g4 f4 f4 e4 e4 d2 c4 c4 g4 g4 a4 a4 g2 f4 f4 e4 e4 d4 d4 c2\"\n",
    "music21.converter.parse(little_star).show('mid')"
   ]
  },
  {
   "cell_type": "code",
   "execution_count": 84,
   "metadata": {},
   "outputs": [],
   "source": [
    "# 데이터  sampling\n",
    "# ABC 표기 데이터는 2채널(계이름과 박자), 분류문제\n",
    "# x : [ [1,4],[1,4],[1,4] ... ]\n",
    "# y : [4 4]- 원핫 000000000100000"
   ]
  },
  {
   "cell_type": "code",
   "execution_count": 4,
   "metadata": {},
   "outputs": [],
   "source": [
    "import numpy as np"
   ]
  },
  {
   "cell_type": "code",
   "execution_count": 5,
   "metadata": {},
   "outputs": [
    {
     "data": {
      "text/plain": [
       "({'c': 1, 'd': 2, 'e': 3, 'f': 4, 'g': 5, 'a': 6, 'b': 7},\n",
       " {1: 'c', 2: 'd', 3: 'e', 4: 'f', 5: 'g', 6: 'a', 7: 'b'})"
      ]
     },
     "execution_count": 5,
     "metadata": {},
     "output_type": "execute_result"
    }
   ],
   "source": [
    "temp = ['c','d','e','f','g','a','b']\n",
    "note2num = dict(zip(temp,np.arange(1,8)))\n",
    "num2note =  { value:key for key,value in note2num.items()  }\n",
    "note2num, num2note"
   ]
  },
  {
   "cell_type": "code",
   "execution_count": 6,
   "metadata": {},
   "outputs": [
    {
     "data": {
      "text/plain": [
       "[[1, 4], [1, 4], [5, 4], [5, 4], [6, 4]]"
      ]
     },
     "execution_count": 6,
     "metadata": {},
     "output_type": "execute_result"
    }
   ],
   "source": [
    "# 시계열 데이터 만들기\n",
    "def abc2timeseries(s):\n",
    "    return [ [note2num[i[0]], int(i[1]) ] for i in s.split()[2:] ]\n",
    "temp = abc2timeseries(little_star)\n",
    "temp[:5]"
   ]
  },
  {
   "cell_type": "code",
   "execution_count": 7,
   "metadata": {},
   "outputs": [
    {
     "data": {
      "text/plain": [
       "'tinynotation: 4/4 c4 c4 g4 g4 a4 a4 g2 f4 f4 e4 e4 d4 d4 c2 g4 g4 f4 f4 e4 e4 d2 g4 g4 f4 f4 e4 e4 d2 c4 c4 g4 g4 a4 a4 g2 f4 f4 e4 e4 d4 d4 c2'"
      ]
     },
     "execution_count": 7,
     "metadata": {},
     "output_type": "execute_result"
    }
   ],
   "source": [
    "def timeseries2abc(t):\n",
    "    return \"tinynotation: 4/4 \"+\" \".join([num2note[i]+str(j) for i,j in t])\n",
    "timeseries2abc(temp)    "
   ]
  },
  {
   "cell_type": "code",
   "execution_count": 8,
   "metadata": {},
   "outputs": [],
   "source": [
    "# 원핫 코드로 변환하는 표\n",
    "#[  [1,2],[2,2],..[7,2], ]\n",
    "onehot = [[i,2] for i in range(1,8)] + [[i,4] for i in range(1,8)] + [[i,8] for i in range(1,8)]"
   ]
  },
  {
   "cell_type": "code",
   "execution_count": 9,
   "metadata": {},
   "outputs": [
    {
     "data": {
      "text/plain": [
       "[[1, 4], [1, 4], [5, 4], [5, 4], [6, 4]]"
      ]
     },
     "execution_count": 9,
     "metadata": {},
     "output_type": "execute_result"
    }
   ],
   "source": [
    "seq = abc2timeseries(little_star)\n",
    "seq[:5]"
   ]
  },
  {
   "cell_type": "code",
   "execution_count": 10,
   "metadata": {
    "scrolled": true
   },
   "outputs": [],
   "source": [
    "# 시계열 데이터 만들기\n",
    "w = 8  # 윈도우 크기\n",
    "h = 1  # 수평 계수\n",
    "def seq2dadtaset(seq,w,h):\n",
    "    x,y = [],[]\n",
    "    for i in range(len(seq)-(w+h)+1):        \n",
    "        x.append(seq[i:(i+w)])\n",
    "        y.append(seq[i+w+h-1])\n",
    "    return np.array(x), np.array(y)   "
   ]
  },
  {
   "cell_type": "code",
   "execution_count": 11,
   "metadata": {},
   "outputs": [
    {
     "name": "stdout",
     "output_type": "stream",
     "text": [
      "(34, 8, 2) (34, 2)\n",
      "[[1 4]\n",
      " [1 4]\n",
      " [5 4]\n",
      " [5 4]\n",
      " [6 4]\n",
      " [6 4]\n",
      " [5 2]\n",
      " [4 4]] [4 4]\n"
     ]
    }
   ],
   "source": [
    "X,Y = seq2dadtaset(seq,w,h)\n",
    "print(X.shape, Y.shape)\n",
    "print(X[0], Y[0])"
   ]
  },
  {
   "cell_type": "code",
   "execution_count": 12,
   "metadata": {},
   "outputs": [],
   "source": [
    "from tensorflow.keras.models import Sequential\n",
    "from tensorflow.keras.layers import Dense,LSTM\n",
    "import tensorflow as tf"
   ]
  },
  {
   "cell_type": "code",
   "execution_count": 13,
   "metadata": {},
   "outputs": [],
   "source": [
    "# 훈련데이터\n",
    "split = int(len(X)*1.0)  # 100% 훈련집합으로 사용\n",
    "x_train = X[:split]; y_train = Y[:split]"
   ]
  },
  {
   "cell_type": "code",
   "execution_count": 14,
   "metadata": {},
   "outputs": [],
   "source": [
    "def to_onehot(y):\n",
    "    t = []\n",
    "    for i in range(len(y)):\n",
    "        a = np.zeros(len(onehot))\n",
    "        a[onehot.index(list(y[i])  )] = 1.0    # 예측이 목적이 아니라 생성이 목적이기 때문에 전체를 훈련집합으로\n",
    "        t.append(a)\n",
    "    return np.array(t)"
   ]
  },
  {
   "cell_type": "code",
   "execution_count": 15,
   "metadata": {},
   "outputs": [],
   "source": [
    "y_train = to_onehot(y_train)"
   ]
  },
  {
   "cell_type": "code",
   "execution_count": 16,
   "metadata": {
    "collapsed": true,
    "jupyter": {
     "outputs_hidden": true
    }
   },
   "outputs": [
    {
     "data": {
      "text/plain": [
       "array([[0., 0., 0., 0., 0., 0., 0., 0., 0., 0., 1., 0., 0., 0., 0., 0.,\n",
       "        0., 0., 0., 0., 0.],\n",
       "       [0., 0., 0., 0., 0., 0., 0., 0., 0., 1., 0., 0., 0., 0., 0., 0.,\n",
       "        0., 0., 0., 0., 0.],\n",
       "       [0., 0., 0., 0., 0., 0., 0., 0., 0., 1., 0., 0., 0., 0., 0., 0.,\n",
       "        0., 0., 0., 0., 0.],\n",
       "       [0., 0., 0., 0., 0., 0., 0., 0., 1., 0., 0., 0., 0., 0., 0., 0.,\n",
       "        0., 0., 0., 0., 0.],\n",
       "       [0., 0., 0., 0., 0., 0., 0., 0., 1., 0., 0., 0., 0., 0., 0., 0.,\n",
       "        0., 0., 0., 0., 0.],\n",
       "       [1., 0., 0., 0., 0., 0., 0., 0., 0., 0., 0., 0., 0., 0., 0., 0.,\n",
       "        0., 0., 0., 0., 0.],\n",
       "       [0., 0., 0., 0., 0., 0., 0., 0., 0., 0., 0., 1., 0., 0., 0., 0.,\n",
       "        0., 0., 0., 0., 0.],\n",
       "       [0., 0., 0., 0., 0., 0., 0., 0., 0., 0., 0., 1., 0., 0., 0., 0.,\n",
       "        0., 0., 0., 0., 0.],\n",
       "       [0., 0., 0., 0., 0., 0., 0., 0., 0., 0., 1., 0., 0., 0., 0., 0.,\n",
       "        0., 0., 0., 0., 0.],\n",
       "       [0., 0., 0., 0., 0., 0., 0., 0., 0., 0., 1., 0., 0., 0., 0., 0.,\n",
       "        0., 0., 0., 0., 0.],\n",
       "       [0., 0., 0., 0., 0., 0., 0., 0., 0., 1., 0., 0., 0., 0., 0., 0.,\n",
       "        0., 0., 0., 0., 0.],\n",
       "       [0., 0., 0., 0., 0., 0., 0., 0., 0., 1., 0., 0., 0., 0., 0., 0.,\n",
       "        0., 0., 0., 0., 0.],\n",
       "       [0., 1., 0., 0., 0., 0., 0., 0., 0., 0., 0., 0., 0., 0., 0., 0.,\n",
       "        0., 0., 0., 0., 0.],\n",
       "       [0., 0., 0., 0., 0., 0., 0., 0., 0., 0., 0., 1., 0., 0., 0., 0.,\n",
       "        0., 0., 0., 0., 0.],\n",
       "       [0., 0., 0., 0., 0., 0., 0., 0., 0., 0., 0., 1., 0., 0., 0., 0.,\n",
       "        0., 0., 0., 0., 0.],\n",
       "       [0., 0., 0., 0., 0., 0., 0., 0., 0., 0., 1., 0., 0., 0., 0., 0.,\n",
       "        0., 0., 0., 0., 0.],\n",
       "       [0., 0., 0., 0., 0., 0., 0., 0., 0., 0., 1., 0., 0., 0., 0., 0.,\n",
       "        0., 0., 0., 0., 0.],\n",
       "       [0., 0., 0., 0., 0., 0., 0., 0., 0., 1., 0., 0., 0., 0., 0., 0.,\n",
       "        0., 0., 0., 0., 0.],\n",
       "       [0., 0., 0., 0., 0., 0., 0., 0., 0., 1., 0., 0., 0., 0., 0., 0.,\n",
       "        0., 0., 0., 0., 0.],\n",
       "       [0., 1., 0., 0., 0., 0., 0., 0., 0., 0., 0., 0., 0., 0., 0., 0.,\n",
       "        0., 0., 0., 0., 0.],\n",
       "       [0., 0., 0., 0., 0., 0., 0., 1., 0., 0., 0., 0., 0., 0., 0., 0.,\n",
       "        0., 0., 0., 0., 0.],\n",
       "       [0., 0., 0., 0., 0., 0., 0., 1., 0., 0., 0., 0., 0., 0., 0., 0.,\n",
       "        0., 0., 0., 0., 0.],\n",
       "       [0., 0., 0., 0., 0., 0., 0., 0., 0., 0., 0., 1., 0., 0., 0., 0.,\n",
       "        0., 0., 0., 0., 0.],\n",
       "       [0., 0., 0., 0., 0., 0., 0., 0., 0., 0., 0., 1., 0., 0., 0., 0.,\n",
       "        0., 0., 0., 0., 0.],\n",
       "       [0., 0., 0., 0., 0., 0., 0., 0., 0., 0., 0., 0., 1., 0., 0., 0.,\n",
       "        0., 0., 0., 0., 0.],\n",
       "       [0., 0., 0., 0., 0., 0., 0., 0., 0., 0., 0., 0., 1., 0., 0., 0.,\n",
       "        0., 0., 0., 0., 0.],\n",
       "       [0., 0., 0., 0., 1., 0., 0., 0., 0., 0., 0., 0., 0., 0., 0., 0.,\n",
       "        0., 0., 0., 0., 0.],\n",
       "       [0., 0., 0., 0., 0., 0., 0., 0., 0., 0., 1., 0., 0., 0., 0., 0.,\n",
       "        0., 0., 0., 0., 0.],\n",
       "       [0., 0., 0., 0., 0., 0., 0., 0., 0., 0., 1., 0., 0., 0., 0., 0.,\n",
       "        0., 0., 0., 0., 0.],\n",
       "       [0., 0., 0., 0., 0., 0., 0., 0., 0., 1., 0., 0., 0., 0., 0., 0.,\n",
       "        0., 0., 0., 0., 0.],\n",
       "       [0., 0., 0., 0., 0., 0., 0., 0., 0., 1., 0., 0., 0., 0., 0., 0.,\n",
       "        0., 0., 0., 0., 0.],\n",
       "       [0., 0., 0., 0., 0., 0., 0., 0., 1., 0., 0., 0., 0., 0., 0., 0.,\n",
       "        0., 0., 0., 0., 0.],\n",
       "       [0., 0., 0., 0., 0., 0., 0., 0., 1., 0., 0., 0., 0., 0., 0., 0.,\n",
       "        0., 0., 0., 0., 0.],\n",
       "       [1., 0., 0., 0., 0., 0., 0., 0., 0., 0., 0., 0., 0., 0., 0., 0.,\n",
       "        0., 0., 0., 0., 0.]])"
      ]
     },
     "execution_count": 16,
     "metadata": {},
     "output_type": "execute_result"
    }
   ],
   "source": [
    "y_train"
   ]
  },
  {
   "cell_type": "code",
   "execution_count": 17,
   "metadata": {},
   "outputs": [
    {
     "data": {
      "text/plain": [
       "((34, 8, 2), (34, 21), (8, 2))"
      ]
     },
     "execution_count": 17,
     "metadata": {},
     "output_type": "execute_result"
    }
   ],
   "source": [
    "x_train.shape,y_train.shape,x_train[0].shape"
   ]
  },
  {
   "cell_type": "code",
   "execution_count": 18,
   "metadata": {},
   "outputs": [],
   "source": [
    "# 모델 학습\n",
    "model = Sequential([\n",
    "    LSTM(units=128,activation='relu',input_shape = x_train[0].shape),  # (8,2)\n",
    "    Dense(y_train.shape[1],activation='softmax'),  # 출력은 y의 원핫코드의 길이 21    \n",
    "])"
   ]
  },
  {
   "cell_type": "code",
   "execution_count": 19,
   "metadata": {},
   "outputs": [],
   "source": [
    "model.compile(loss = tf.keras.losses.categorical_crossentropy,optimizer='Adam',metrics=['acc'])"
   ]
  },
  {
   "cell_type": "code",
   "execution_count": 20,
   "metadata": {},
   "outputs": [
    {
     "name": "stdout",
     "output_type": "stream",
     "text": [
      "Epoch 1/10\n",
      "34/34 [==============================] - 1s 3ms/step - loss: 2.9091 - acc: 0.0668\n",
      "Epoch 2/10\n",
      "34/34 [==============================] - 0s 2ms/step - loss: 2.4406 - acc: 0.1359\n",
      "Epoch 3/10\n",
      "34/34 [==============================] - 0s 2ms/step - loss: 2.1535 - acc: 0.2936\n",
      "Epoch 4/10\n",
      "34/34 [==============================] - 0s 2ms/step - loss: 1.7994 - acc: 0.1887\n",
      "Epoch 5/10\n",
      "34/34 [==============================] - 0s 2ms/step - loss: 1.9271 - acc: 0.3295\n",
      "Epoch 6/10\n",
      "34/34 [==============================] - 0s 2ms/step - loss: 1.7879 - acc: 0.4289\n",
      "Epoch 7/10\n",
      "34/34 [==============================] - 0s 2ms/step - loss: 1.5646 - acc: 0.4429\n",
      "Epoch 8/10\n",
      "34/34 [==============================] - 0s 3ms/step - loss: 1.8339 - acc: 0.2778\n",
      "Epoch 9/10\n",
      "34/34 [==============================] - 0s 3ms/step - loss: 1.5340 - acc: 0.3492\n",
      "Epoch 10/10\n",
      "34/34 [==============================] - 0s 2ms/step - loss: 1.6409 - acc: 0.3822\n"
     ]
    },
    {
     "data": {
      "text/plain": [
       "<tensorflow.python.keras.callbacks.History at 0x1eaaad89580>"
      ]
     },
     "execution_count": 20,
     "metadata": {},
     "output_type": "execute_result"
    }
   ],
   "source": [
    "model.fit(x_train,y_train,epochs=10,batch_size=1)"
   ]
  },
  {
   "cell_type": "code",
   "execution_count": 21,
   "metadata": {
    "scrolled": true
   },
   "outputs": [],
   "source": [
    "new_song = []\n",
    "for i in range(50):\n",
    "    idx = np.random.randint( len(x_train))  # 랜덤하게 x_train범위에서 인덱스 설정\n",
    "    p = model.predict(np.expand_dims(x_train[idx],axis=0),verbose=0)\n",
    "    new_song.append( onehot[np.argmax(p)])\n",
    "timeseries2abc(new_song)\n",
    "music21.converter.parse(timeseries2abc(new_song)).show('mid')"
   ]
  },
  {
   "cell_type": "code",
   "execution_count": 22,
   "metadata": {},
   "outputs": [
    {
     "data": {
      "text/plain": [
       "'tinynotation: 4/4 g4 g4 g4 f4 d4 f4 d4 d4 e4 f4 e4 g4 g4 g4 d4 e4 d4 e4 d4 f4 f4 g4 g4 g4 g4 f4 d4 d4 d4 d4 d4 f4 d4 f4 d4 g4 g4 g4 g4 d4 g4 g4 g4 d4 g4 g4 g4 g4 g4 g4'"
      ]
     },
     "execution_count": 22,
     "metadata": {},
     "output_type": "execute_result"
    }
   ],
   "source": [
    "timeseries2abc(new_song)"
   ]
  },
  {
   "cell_type": "code",
   "execution_count": 32,
   "metadata": {},
   "outputs": [],
   "source": [
    "# 악보그리기\n",
    "# https://musescore.org/en/download  다운로드 및 설치\n",
    "from music21 import converter,environment\n",
    "score = converter.parse(timeseries2abc(new_song))\n",
    "environment.set('musescoreDirectPNGPath','C:/Program Files/MuseScore 4/bin/MuseScore4.exe')\n",
    "score.show('musicxml.png')"
   ]
  },
  {
   "cell_type": "code",
   "execution_count": 33,
   "metadata": {},
   "outputs": [],
   "source": [
    "# 여러곡 편곡\n",
    "\n",
    "# 봄나들이\n",
    "spring_picnic=\"tinynotation: 4/8 g8 e8 g8 e8 g8 a8 g4 e8 g8 e8 c8 d8 e8 c4 g8 e8 g8 e8 g8 a8 g4 b8 a8 g8 e8 d8 e8 c4\"\n",
    "# 나비야 나비야\n",
    "butterfly=\"tinynotation: 2/4 g8 e8 e4 f8 d8 d4 c8 d8 e8 f8 g8 g8 g4 g8 e8 e8 e8 f8 d8 d4 c8 e8 g8 g8 e8 e8 e4 d8 d8 d8 d8 d8 e8 f4 e8 e8 e8 e8 e8 f8 g4 g8 e8 e4 f8 d8 d4 c8 e8 g8 g8 e8 e8 e4\""
   ]
  },
  {
   "cell_type": "code",
   "execution_count": 34,
   "metadata": {},
   "outputs": [],
   "source": [
    "music21.converter.parse(butterfly).show('mid')"
   ]
  },
  {
   "cell_type": "code",
   "execution_count": 35,
   "metadata": {},
   "outputs": [
    {
     "data": {
      "text/plain": [
       "([[1, 4], [1, 4], [5, 4], [5, 4], [6, 4]], (124, 2))"
      ]
     },
     "execution_count": 35,
     "metadata": {},
     "output_type": "execute_result"
    }
   ],
   "source": [
    "# 세 곡을 시계열로 변환하고 결합\n",
    "list_data = []\n",
    "for i in [little_star,spring_picnic,butterfly]:\n",
    "    list_data += abc2timeseries(i)\n",
    "list_data[:5], np.array(list_data).shape    "
   ]
  },
  {
   "cell_type": "code",
   "execution_count": 36,
   "metadata": {},
   "outputs": [
    {
     "name": "stdout",
     "output_type": "stream",
     "text": [
      "(116, 8, 2) (116, 2)\n",
      "116\n",
      "(116, 8, 2) (116, 2)\n",
      "(116, 8, 2) (116, 21)\n",
      "Epoch 1/10\n",
      "116/116 [==============================] - 1s 2ms/step - loss: 2.7482 - acc: 0.1674 ETA: 0s - loss: 2.7601 - acc: 0.165\n",
      "Epoch 2/10\n",
      "116/116 [==============================] - 0s 2ms/step - loss: 2.3464 - acc: 0.2378\n",
      "Epoch 3/10\n",
      "116/116 [==============================] - 0s 3ms/step - loss: 2.1289 - acc: 0.3284\n",
      "Epoch 4/10\n",
      "116/116 [==============================] - 0s 2ms/step - loss: 2.2355 - acc: 0.2206\n",
      "Epoch 5/10\n",
      "116/116 [==============================] - 0s 2ms/step - loss: 2.1278 - acc: 0.4069\n",
      "Epoch 6/10\n",
      "116/116 [==============================] - 0s 2ms/step - loss: 2.1356 - acc: 0.2976\n",
      "Epoch 7/10\n",
      "116/116 [==============================] - 0s 2ms/step - loss: 2.0006 - acc: 0.3759\n",
      "Epoch 8/10\n",
      "116/116 [==============================] - 0s 2ms/step - loss: 1.9129 - acc: 0.4566\n",
      "Epoch 9/10\n",
      "116/116 [==============================] - 0s 2ms/step - loss: 2.0513 - acc: 0.3412\n",
      "Epoch 10/10\n",
      "116/116 [==============================] - 0s 2ms/step - loss: 1.9352 - acc: 0.3505\n"
     ]
    },
    {
     "data": {
      "text/plain": [
       "<tensorflow.python.keras.callbacks.History at 0x1eab3bf6b80>"
      ]
     },
     "execution_count": 36,
     "metadata": {},
     "output_type": "execute_result"
    }
   ],
   "source": [
    "X,Y = seq2dadtaset(list_data,w,h)\n",
    "print(X.shape, Y.shape)\n",
    "# 훈련데이터\n",
    "split = int(len(X)*1.0)  # 100% 훈련집합으로 사용\n",
    "print(split)\n",
    "x_train = X[:split]; y_train = Y[:split]\n",
    "print(x_train.shape, y_train.shape)\n",
    "y_train = to_onehot(y_train)\n",
    "print(x_train.shape, y_train.shape)\n",
    "# 모델 설계는 이전형태 그대로 사용하고 학습만 새로운 데이터로 학습\n",
    "# 모델 학습\n",
    "model = Sequential([\n",
    "    LSTM(units=128,activation='relu',input_shape = x_train[0].shape),  # (8,2)\n",
    "    Dense(y_train.shape[1],activation='softmax'),  # 출력은 y의 원핫코드의 길이 21    \n",
    "])\n",
    "model.compile(loss = tf.keras.losses.categorical_crossentropy,optimizer='Adam',metrics=['acc'])\n",
    "model.fit(x_train,y_train,epochs=10,batch_size=1)"
   ]
  },
  {
   "cell_type": "code",
   "execution_count": 37,
   "metadata": {},
   "outputs": [
    {
     "name": "stdout",
     "output_type": "stream",
     "text": [
      "tinynotation: 4/4 e8 e8 g4 e8 e8 e8 e8 e8 e8 e8 e8 e8 e8 g4 e8 g8 e8 e8 g8 g4 e4 f4 e8 e8 e4 f4 e4 g8 e4 c4 g8 g8 f4 e8 e8 e8 e8 f4 f4 e8 f4 f4 e4 e4 e8 e8 e8 g8 e8 c4\n"
     ]
    }
   ],
   "source": [
    "new_song = []\n",
    "for i in range(50):\n",
    "    idx = np.random.randint( len(x_train))  # 랜덤하게 x_train범위에서 인덱스 설정\n",
    "    p = model.predict(np.expand_dims(x_train[idx],axis=0),verbose=0)\n",
    "    new_song.append( onehot[np.argmax(p)])\n",
    "print(timeseries2abc(new_song))\n",
    "music21.converter.parse(timeseries2abc(new_song)).show('mid')"
   ]
  },
  {
   "cell_type": "code",
   "execution_count": 38,
   "metadata": {},
   "outputs": [],
   "source": [
    "# 악보그리기\n",
    "# https://musescore.org/en/download  다운로드 및 설치\n",
    "from music21 import converter,environment\n",
    "score = converter.parse(timeseries2abc(new_song))\n",
    "environment.set('musescoreDirectPNGPath','C:/Program Files/MuseScore 4/bin/MuseScore4.exe')\n",
    "score.show('musicxml.png')"
   ]
  },
  {
   "cell_type": "code",
   "execution_count": 39,
   "metadata": {
    "scrolled": true
   },
   "outputs": [
    {
     "name": "stdout",
     "output_type": "stream",
     "text": [
      "tinynotation: 4/4 e8 e8 g4 e8 e8 e8 e8 e8 e8 e8 e8 e8 e8 g4 e8 g8 e8 e8 g8 g4 e4 f4 e8 e8 e4 f4 e4 g8 e4 c4 g8 g8 f4 e8 e8 e8 e8 f4 f4 e8 f4 f4 e4 e4 e8 e8 e8 g8 e8 c4\n"
     ]
    }
   ],
   "source": [
    "print(timeseries2abc(new_song))"
   ]
  },
  {
   "cell_type": "code",
   "execution_count": 40,
   "metadata": {},
   "outputs": [],
   "source": [
    "# 기타 악보\n",
    "from music21 import instrument"
   ]
  },
  {
   "cell_type": "code",
   "execution_count": 41,
   "metadata": {},
   "outputs": [
    {
     "data": {
      "text/plain": [
       "'guitar_score.mid'"
      ]
     },
     "execution_count": 41,
     "metadata": {},
     "output_type": "execute_result"
    }
   ],
   "source": [
    "guitar = instrument.Guitar()\n",
    "score.insert(0,guitar)\n",
    "score.write('midi','guitar_score.mid')"
   ]
  },
  {
   "cell_type": "code",
   "execution_count": null,
   "metadata": {},
   "outputs": [],
   "source": [
    "import aubio\n",
    "import music21\n",
    "import subprocess\n",
    "\n",
    "# Step 1: Audio to MIDI Conversion\n",
    "def mp3_to_midi(mp3_file, midi_file):\n",
    "    cmd = f'aubionotes {mp3_file} -O {midi_file}'\n",
    "    subprocess.call(cmd, shell=True)\n",
    "\n",
    "mp3_file = 'your_input.mp3'\n",
    "midi_file = 'output.midi'\n",
    "mp3_to_midi(mp3_file, midi_file)\n",
    "\n",
    "# Step 2: MIDI Analysis\n",
    "def analyze_midi(midi_file):\n",
    "    midi_stream = music21.converter.parse(midi_file)\n",
    "    # Extract notes, their durations, and other musical information from the MIDI file\n",
    "    # You may need to process and filter the data based on your specific needs\n",
    "\n",
    "# Step 3: Notation Generation\n",
    "def generate_notation(midi_data):\n",
    "    # Using LilyPond or another notation tool, generate guitar sheet music notation\n",
    "    # The specific code for this step will depend on the notation tool you choose\n",
    "\n",
    "# Example usage\n",
    "midi_data = analyze_midi(midi_file)\n",
    "generate_notation(midi_data)\n"
   ]
  },
  {
   "cell_type": "code",
   "execution_count": 43,
   "metadata": {},
   "outputs": [
    {
     "name": "stderr",
     "output_type": "stream",
     "text": [
      "C:\\Users\\User\\anaconda3\\lib\\site-packages\\music21\\musicxml\\m21ToXml.py:510: MusicXMLWarning: <music21.stream.Score 0x1eaa8b89430> is not well-formed; see isWellFormedNotation()\n",
      "  warnings.warn(f'{scOut} is not well-formed; see isWellFormedNotation()',\n"
     ]
    },
    {
     "data": {
      "image/png": "[encoded data removed]",
      "text/plain": [
       "<IPython.core.display.Image object>"
      ]
     },
     "metadata": {
      "image/png": {
       "height": 1169,
       "width": 827
      }
     },
     "output_type": "display_data"
    }
   ],
   "source": [
    "from music21 import instrument, note, stream\n",
    "\n",
    "# 기타 악기 생성\n",
    "guitar = instrument.Guitar()\n",
    "\n",
    "# 악보 생성\n",
    "score = stream.Score()\n",
    "score.append(guitar)\n",
    "\n",
    "# 음표 생성\n",
    "note1 = note.Note('C4')\n",
    "note2 = note.Note('D4')\n",
    "note3 = note.Note('E4')\n",
    "\n",
    "# 음표 추가\n",
    "score.insert(0, note1)\n",
    "score.insert(1, note2)\n",
    "score.insert(2, note3)\n",
    "\n",
    "# 악보 출력\n",
    "score.show()"
   ]
  },
  {
   "cell_type": "code",
   "execution_count": 42,
   "metadata": {
    "collapsed": true,
    "jupyter": {
     "outputs_hidden": true
    }
   },
   "outputs": [
    {
     "data": {
      "image/png": "[encoded data removed]",
      "text/plain": [
       "<IPython.core.display.Image object>"
      ]
     },
     "metadata": {
      "image/png": {
       "height": 1169,
       "width": 827
      }
     },
     "output_type": "display_data"
    }
   ],
   "source": [
    "score.show()"
   ]
  },
  {
   "cell_type": "code",
   "execution_count": 2,
   "metadata": {},
   "outputs": [
    {
     "name": "stdout",
     "output_type": "stream",
     "text": [
      "Collecting music21\n",
      "  Downloading music21-8.3.0-py3-none-any.whl (22.8 MB)\n",
      "Requirement already satisfied: requests in c:\\users\\user\\anaconda3\\lib\\site-packages (from music21) (2.31.0)\n",
      "Requirement already satisfied: numpy in c:\\users\\user\\anaconda3\\lib\\site-packages (from music21) (1.19.5)\n",
      "Requirement already satisfied: more-itertools in c:\\users\\user\\appdata\\roaming\\python\\python38\\site-packages (from music21) (7.0.0)\n",
      "Requirement already satisfied: joblib in c:\\users\\user\\anaconda3\\lib\\site-packages (from music21) (1.3.2)\n",
      "Requirement already satisfied: chardet in c:\\users\\user\\appdata\\roaming\\python\\python38\\site-packages (from music21) (3.0.4)\n",
      "Requirement already satisfied: matplotlib in c:\\users\\user\\appdata\\roaming\\python\\python38\\site-packages (from music21) (3.1.2)\n",
      "Collecting webcolors>=1.5\n",
      "  Downloading webcolors-1.13-py3-none-any.whl (14 kB)\n",
      "Collecting jsonpickle\n",
      "  Downloading jsonpickle-3.0.2-py3-none-any.whl (40 kB)\n",
      "Requirement already satisfied: pyparsing!=2.0.4,!=2.1.2,!=2.1.6,>=2.0.1 in c:\\users\\user\\appdata\\roaming\\python\\python38\\site-packages (from matplotlib->music21) (2.4.5)\n",
      "Requirement already satisfied: kiwisolver>=1.0.1 in c:\\users\\user\\appdata\\roaming\\python\\python38\\site-packages (from matplotlib->music21) (1.1.0)\n",
      "Requirement already satisfied: cycler>=0.10 in c:\\users\\user\\appdata\\roaming\\python\\python38\\site-packages (from matplotlib->music21) (0.10.0)\n",
      "Requirement already satisfied: python-dateutil>=2.1 in c:\\users\\user\\appdata\\roaming\\python\\python38\\site-packages (from matplotlib->music21) (2.8.1)\n",
      "Requirement already satisfied: six in c:\\users\\user\\appdata\\roaming\\python\\python38\\site-packages (from cycler>=0.10->matplotlib->music21) (1.15.0)\n",
      "Requirement already satisfied: setuptools in c:\\users\\user\\anaconda3\\lib\\site-packages (from kiwisolver>=1.0.1->matplotlib->music21) (52.0.0.post20210125)\n",
      "Requirement already satisfied: urllib3<3,>=1.21.1 in c:\\users\\user\\anaconda3\\lib\\site-packages (from requests->music21) (1.25.11)\n",
      "Requirement already satisfied: certifi>=2017.4.17 in c:\\users\\user\\appdata\\roaming\\python\\python38\\site-packages (from requests->music21) (2019.3.9)\n",
      "Requirement already satisfied: idna<4,>=2.5 in c:\\users\\user\\appdata\\roaming\\python\\python38\\site-packages (from requests->music21) (2.8)\n",
      "Requirement already satisfied: charset-normalizer<4,>=2 in c:\\users\\user\\anaconda3\\lib\\site-packages (from requests->music21) (3.3.0)\n",
      "Installing collected packages: webcolors, jsonpickle, music21\n",
      "Successfully installed jsonpickle-3.0.2 music21-8.3.0 webcolors-1.13\n"
     ]
    }
   ],
   "source": [
    "!pip install music21"
   ]
  }
 ],
 "metadata": {
  "kernelspec": {
   "display_name": "Python 3",
   "language": "python",
   "name": "python3"
  },
  "language_info": {
   "codemirror_mode": {
    "name": "ipython",
    "version": 3
   },
   "file_extension": ".py",
   "mimetype": "text/x-python",
   "name": "python",
   "nbconvert_exporter": "python",
   "pygments_lexer": "ipython3",
   "version": "3.8.5"
  }
 },
 "nbformat": 4,
 "nbformat_minor": 5
}
