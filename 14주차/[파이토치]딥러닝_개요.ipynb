{
  "nbformat": 4,
  "nbformat_minor": 0,
  "metadata": {
    "colab": {
      "provenance": []
    },
    "kernelspec": {
      "name": "python3",
      "display_name": "Python 3"
    },
    "language_info": {
      "name": "python"
    }
  },
  "cells": [
    {
      "cell_type": "markdown",
      "source": [
        "파이토치 코딩 스타일"
      ],
      "metadata": {
        "id": "SXDiwo6PPSwu"
      }
    },
    {
      "cell_type": "code",
      "source": [
        "import numpy as np\n",
        "import torch\n",
        "np.array([1,2,3]), torch.tensor([1,2,3])"
      ],
      "metadata": {
        "colab": {
          "base_uri": "https://localhost:8080/"
        },
        "id": "u8JOuj35PV2j",
        "outputId": "39dbe8c5-f50c-4611-ad5f-bbc6d839e94b"
      },
      "execution_count": 1,
      "outputs": [
        {
          "output_type": "execute_result",
          "data": {
            "text/plain": [
              "(array([1, 2, 3]), tensor([1, 2, 3]))"
            ]
          },
          "metadata": {},
          "execution_count": 1
        }
      ]
    },
    {
      "cell_type": "code",
      "source": [
        "torch.tensor([1,2,3]) + torch.tensor([1,2,3]),   np.array([1,2,3])+np.array([1,2,3])"
      ],
      "metadata": {
        "colab": {
          "base_uri": "https://localhost:8080/"
        },
        "id": "i0p9_WSXPueK",
        "outputId": "00837050-8eb9-4bfb-c8fb-551eda06d08e"
      },
      "execution_count": 2,
      "outputs": [
        {
          "output_type": "execute_result",
          "data": {
            "text/plain": [
              "(tensor([2, 4, 6]), array([2, 4, 6]))"
            ]
          },
          "metadata": {},
          "execution_count": 2
        }
      ]
    },
    {
      "cell_type": "markdown",
      "source": [
        "파이토치는 클래스 사용을 권고함\n",
        "  - 신경망의 동작을 정의하는 모듈클래스와\n",
        "  - 데이터셋을 다루는 데이터셋 클래스"
      ],
      "metadata": {
        "id": "D38YBU_QP9rS"
      }
    },
    {
      "cell_type": "code",
      "source": [
        "import torch.nn as nn"
      ],
      "metadata": {
        "id": "xZKS8MdbP4N5"
      },
      "execution_count": 3,
      "outputs": []
    },
    {
      "cell_type": "code",
      "source": [
        "# class Net(nn.Module):\n",
        "#   def __init__(self, *args, **kwargs) -> None:\n",
        "#     super().__init__(*args, **kwargs)\n",
        "#     # 신경망 구성요소 정의\n",
        "#   def forward(self, input)\n",
        "#     # 신경망 동작 정의\n",
        "#     # 함수 api방식\n",
        "#     output = '' # 레이어들의 최종 결합\n",
        "#     return output\n",
        "#   def backward(self):\n",
        "#     # 가중치 업데이트\n",
        "#     pass"
      ],
      "metadata": {
        "id": "IdNUdcoCQOvZ"
      },
      "execution_count": 11,
      "outputs": []
    },
    {
      "cell_type": "code",
      "source": [
        "class Net(nn.Module):\n",
        "  def __init__(self, *args, **kwargs) -> None:\n",
        "    super().__init__(*args, **kwargs)\n",
        "    # 신경망 구성요소 정의\n",
        "    self.layer1 = nn.Linear(10, 20)\n",
        "    self.layer2 = nn.Linear(20, 10)\n",
        "\n",
        "  def forward(self, input):\n",
        "    # 신경망 동작 정의\n",
        "    # 함수 api방식\n",
        "    output = self.layer1(input)\n",
        "    output = F.relu(output)\n",
        "    output = self.layer2(output)\n",
        "    return output\n",
        "\n",
        "  def backward(self, grad_output):\n",
        "    # 가중치 업데이트\n",
        "    grad_input = self.layer2.backward(grad_output)\n",
        "    grad_input = F.relu(grad_input)\n",
        "    grad_input = self.layer1.backward(grad_input)\n",
        "    return grad_input"
      ],
      "metadata": {
        "id": "jLAVJFp8bX8q"
      },
      "execution_count": 12,
      "outputs": []
    },
    {
      "cell_type": "code",
      "source": [
        "class Dataset():\n",
        "  def __init__(self) -> None:\n",
        "    # 필요한 데이터 불러오기\n",
        "    # readcsv, url.....\n",
        "    pass\n",
        "  def __len__(self):\n",
        "    # 데이터의 개수 반환\n",
        "    data = 0\n",
        "    return len(data)\n",
        "  def __getitem__(self, idx):\n",
        "    # idx번째 입력 데이터와 idx번째 정답을 반환\n",
        "    data,label = [],[]\n",
        "    return data[idx], label[idx]"
      ],
      "metadata": {
        "id": "5yjrgEBtRK_z"
      },
      "execution_count": 5,
      "outputs": []
    },
    {
      "cell_type": "code",
      "source": [
        "# 딥러닝학습\n",
        "'''\n",
        "for data, label in DataLoader():\n",
        "  1. 모델의 예측값 계산\n",
        "  predict = model(data)\n",
        "\n",
        "  2. 손실함수를 이용해서 오차를 계산\n",
        "  loss = LossFunction(predict,label)\n",
        "\n",
        "  3. 오차 역전파\n",
        "  loss.backward()\n",
        "\n",
        "  4. 신경망 가중치 수정(업데이트)\n",
        "  optimizer.step()\n",
        "'''"
      ],
      "metadata": {
        "id": "rlrqMBpDR-3s",
        "colab": {
          "base_uri": "https://localhost:8080/",
          "height": 54
        },
        "outputId": "ef742c3c-6703-4833-94be-e91bcec5d485"
      },
      "execution_count": 6,
      "outputs": [
        {
          "output_type": "execute_result",
          "data": {
            "text/plain": [
              "'\\nfor data, label in DataLoader():\\n  1. 모델의 예측값 계산\\n  predict = model(data)\\n\\n  2. 손실함수를 이용해서 오차를 계산\\n  loss = LossFunction(predict,label)\\n\\n  3. 오차 역전파\\n  loss.backward()\\n\\n  4. 신경망 가중치 수정(업데이트)\\n  optimizer.step()\\n'"
            ],
            "application/vnd.google.colaboratory.intrinsic+json": {
              "type": "string"
            }
          },
          "metadata": {},
          "execution_count": 6
        }
      ]
    },
    {
      "cell_type": "markdown",
      "source": [
        "평균 과 분산\n",
        "   - 평균은 정규분포와 같이 종형 분포를 갖는 확률 분포에서 랜덤하게 데이터를 뽑았을때 평균에 가까운 값이 나올 확률이 가장 크다는 것을 의미\n",
        "   - 데이터가 얼마나 퍼졌는지 나타내는 지표 , 분산이크면 평균에서 멀어지는 데이터가 많고 작으면 평균에 가까운 데이터가 많다는뜻  이때 분산의 양의 제곱근을 표준편차"
      ],
      "metadata": {
        "id": "dOvZy0MBTqxK"
      }
    },
    {
      "cell_type": "markdown",
      "source": [
        "![image.png](data:image/png;base64,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)"
      ],
      "metadata": {
        "id": "kMWg3tZ0UW_X"
      }
    },
    {
      "cell_type": "markdown",
      "source": [
        "지곽적인 분석에 유용한 시각화"
      ],
      "metadata": {
        "id": "bXhmWCaJUn58"
      }
    },
    {
      "cell_type": "code",
      "source": [
        "import matplotlib.pyplot as plt\n",
        "import numpy as np"
      ],
      "metadata": {
        "id": "c2es4Ur0T_lh"
      },
      "execution_count": 7,
      "outputs": []
    },
    {
      "cell_type": "code",
      "source": [
        "from numpy.random.mtrand import randn\n",
        "t = np.arange(0,5,0.2)\n",
        "t2 = t**2\n",
        "t3 = t**3\n",
        "\n",
        "# mu를 평균, sigma를 표준편차로 하는 정규분포로부터 랜덤하게 값을 추출\n",
        "mu,sigma = 100,15\n",
        "x = mu + sigma*np.random.randn(10000)   # 표준 정규분포(평균0, 표준편차 1)"
      ],
      "metadata": {
        "id": "_hs13P3WUwd0"
      },
      "execution_count": 8,
      "outputs": []
    },
    {
      "cell_type": "code",
      "source": [
        "# 선형 그래프\n",
        "plt.plot(t, t2, label=\"t2\")\n",
        "plt.plot(t, t3, label=\"t3\")\n",
        "plt.legend()\n",
        "plt.show()"
      ],
      "metadata": {
        "colab": {
          "base_uri": "https://localhost:8080/",
          "height": 430
        },
        "id": "94M2wfADVQqu",
        "outputId": "9c10f1bf-b485-42c2-c3be-64c84782c0fa"
      },
      "execution_count": 9,
      "outputs": [
        {
          "output_type": "display_data",
          "data": {
            "text/plain": [
              "<Figure size 640x480 with 1 Axes>"
            ],
            "image/png": "[encoded data removed]"
          },
          "metadata": {}
        }
      ]
    },
    {
      "cell_type": "code",
      "source": [
        "# 데이터의 분포 - 히스토그램\n",
        "plt.hist(x,bins=50,density=True, alpha = 0.2)\n",
        "plt.show()"
      ],
      "metadata": {
        "colab": {
          "base_uri": "https://localhost:8080/",
          "height": 430
        },
        "id": "tUgjvhzDWVhD",
        "outputId": "ad7648d8-4bde-4420-9c2e-21475105a5da"
      },
      "execution_count": 10,
      "outputs": [
        {
          "output_type": "display_data",
          "data": {
            "text/plain": [
              "<Figure size 640x480 with 1 Axes>"
            ],
            "image/png": "[encoded data removed]"
          },
          "metadata": {}
        }
      ]
    },
    {
      "cell_type": "code",
      "source": [],
      "metadata": {
        "id": "FWLbkx5cVQ9j"
      },
      "execution_count": null,
      "outputs": []
    }
  ]
}