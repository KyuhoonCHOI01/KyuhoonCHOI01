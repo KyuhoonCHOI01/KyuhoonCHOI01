{
 "cells": [
  {
   "cell_type": "code",
   "execution_count": null,
   "metadata": {
    "id": "c8K71ZPJnZ7_"
   },
   "outputs": [],
   "source": []
  },
  {
   "cell_type": "markdown",
   "metadata": {
    "id": "la5cfVwendhC"
   },
   "source": [
    "함수 : 리턴"
   ]
  },
  {
   "cell_type": "code",
   "execution_count": 1,
   "metadata": {
    "id": "tZAnwnY6ngE7"
   },
   "outputs": [],
   "source": [
    "def myFunction():\n",
    "  return 100"
   ]
  },
  {
   "cell_type": "code",
   "execution_count": 2,
   "metadata": {
    "colab": {
     "base_uri": "https://localhost:8080/"
    },
    "id": "iOP0VASBnjYR",
    "outputId": "ce1b34ce-ec48-4fa7-8cf8-92f868ad08e5"
   },
   "outputs": [
    {
     "data": {
      "text/plain": [
       "100"
      ]
     },
     "execution_count": 2,
     "metadata": {},
     "output_type": "execute_result"
    }
   ],
   "source": [
    "result = myFunction()\n",
    "result"
   ]
  },
  {
   "cell_type": "code",
   "execution_count": 3,
   "metadata": {
    "id": "2ufnugGqnrNx"
   },
   "outputs": [],
   "source": [
    "result = myFunction"
   ]
  },
  {
   "cell_type": "code",
   "execution_count": 4,
   "metadata": {
    "colab": {
     "base_uri": "https://localhost:8080/"
    },
    "id": "cTXZuSi4n2Ng",
    "outputId": "4b504fc3-6417-4456-d8ce-da5deaa0012c"
   },
   "outputs": [
    {
     "data": {
      "text/plain": [
       "100"
      ]
     },
     "execution_count": 4,
     "metadata": {},
     "output_type": "execute_result"
    }
   ],
   "source": [
    "result()"
   ]
  },
  {
   "cell_type": "markdown",
   "metadata": {
    "id": "CxJaMRgDoMJg"
   },
   "source": [
    "재귀함수 Recursive Function"
   ]
  },
  {
   "cell_type": "code",
   "execution_count": 5,
   "metadata": {
    "id": "qZ5FNcqNoD_Q"
   },
   "outputs": [],
   "source": [
    "def myFunction(count):\n",
    "  print(f\"call myFunction : {count}\")\n",
    "  if count == 5:\n",
    "    return\n",
    "  myFunction(count+1)\n",
    "  print(f\"back myFunction : {count}\")"
   ]
  },
  {
   "cell_type": "code",
   "execution_count": 6,
   "metadata": {
    "colab": {
     "base_uri": "https://localhost:8080/"
    },
    "id": "f4YoofzkoXpZ",
    "outputId": "b98e6a6e-d2d5-451b-958f-bd7fe1bde556"
   },
   "outputs": [
    {
     "name": "stdout",
     "output_type": "stream",
     "text": [
      "call myFunction : 0\n",
      "call myFunction : 1\n",
      "call myFunction : 2\n",
      "call myFunction : 3\n",
      "call myFunction : 4\n",
      "call myFunction : 5\n",
      "back myFunction : 4\n",
      "back myFunction : 3\n",
      "back myFunction : 2\n",
      "back myFunction : 1\n",
      "back myFunction : 0\n"
     ]
    }
   ],
   "source": [
    "myFunction(0)"
   ]
  },
  {
   "cell_type": "code",
   "execution_count": 7,
   "metadata": {
    "id": "ztw6dqkXq7bZ"
   },
   "outputs": [],
   "source": [
    "# factorial\n",
    "# !5  5x4x3x2x1\n",
    "# 1x2x3x4x5\n",
    "result = 1\n",
    "for i in range(1,6):\n",
    "  result *=i"
   ]
  },
  {
   "cell_type": "code",
   "execution_count": 8,
   "metadata": {
    "id": "UCP9SReFobyo"
   },
   "outputs": [],
   "source": [
    "# 5 x 4 x 3 x 2 x 1\n",
    "def factorial(n):\n",
    "  if n == 1:\n",
    "    return 1\n",
    "  return n * factorial(n-1)"
   ]
  },
  {
   "cell_type": "code",
   "execution_count": 9,
   "metadata": {
    "colab": {
     "base_uri": "https://localhost:8080/"
    },
    "id": "9HEuaKcYrRTI",
    "outputId": "702fcee4-1255-4723-8c46-547b07a4762a"
   },
   "outputs": [
    {
     "data": {
      "text/plain": [
       "120"
      ]
     },
     "execution_count": 9,
     "metadata": {},
     "output_type": "execute_result"
    }
   ],
   "source": [
    "factorial(5)"
   ]
  },
  {
   "cell_type": "code",
   "execution_count": 14,
   "metadata": {
    "id": "SiEneI37sKc-"
   },
   "outputs": [],
   "source": [
    "import os\n",
    "def getFiles(dirpath):\n",
    "  return os.listdir(dirpath)"
   ]
  },
  {
   "cell_type": "code",
   "execution_count": 15,
   "metadata": {
    "colab": {
     "base_uri": "https://localhost:8080/"
    },
    "id": "G5xKZA-2txw2",
    "outputId": "f24c26bd-f864-4b52-9ee2-ffecc0f0a3b1"
   },
   "outputs": [
    {
     "data": {
      "text/plain": [
       "False"
      ]
     },
     "execution_count": 15,
     "metadata": {},
     "output_type": "execute_result"
    }
   ],
   "source": [
    "os.path.isdir('sample_data')  # true\n",
    "os.path.isdir('sample_data/README.md') # false"
   ]
  },
  {
   "cell_type": "code",
   "execution_count": 16,
   "metadata": {},
   "outputs": [],
   "source": [
    "# /content/sample_data"
   ]
  },
  {
   "cell_type": "code",
   "execution_count": 17,
   "metadata": {
    "colab": {
     "base_uri": "https://localhost:8080/"
    },
    "id": "C19XZQfRu8uh",
    "outputId": "c4d621a5-7222-48d0-a385-8afc81428e8b"
   },
   "outputs": [],
   "source": [
    "dirpath='sample_data'\n",
    "result = []\n",
    "for file in os.listdir(dirpath):\n",
    "  if os.path.isdir(dirpath+'/'+file):\n",
    "    print(dirpath+'/'+file)\n",
    "  else:\n",
    "    result.append(file)"
   ]
  },
  {
   "cell_type": "code",
   "execution_count": 18,
   "metadata": {
    "id": "ajQmcIgev-he"
   },
   "outputs": [],
   "source": [
    "import os\n",
    "def getFiles(dirpath):\n",
    "  result = []\n",
    "  for file in os.listdir(dirpath):\n",
    "    if os.path.isdir(dirpath+'/'+file):\n",
    "      result.extend(getFiles(dirpath+'/'+file))\n",
    "    else:\n",
    "      result.append(file)\n",
    "  return result"
   ]
  },
  {
   "cell_type": "code",
   "execution_count": 19,
   "metadata": {
    "colab": {
     "base_uri": "https://localhost:8080/"
    },
    "id": "w6ERWURCxVXN",
    "outputId": "8306d277-7c20-4c2b-998c-00cc322172bd"
   },
   "outputs": [
    {
     "data": {
      "text/plain": [
       "['anscombe.json',\n",
       " 'california_housing_test.csv',\n",
       " 'california_housing_train.csv',\n",
       " 'mnist_test.csv',\n",
       " 'README.md']"
      ]
     },
     "execution_count": 19,
     "metadata": {},
     "output_type": "execute_result"
    }
   ],
   "source": [
    "getFiles('sample_data')"
   ]
  },
  {
   "cell_type": "markdown",
   "metadata": {
    "id": "ps7-8UyX1ggX"
   },
   "source": [
    "map function\n",
    "  - map(함수, 데이터의 집합)"
   ]
  },
  {
   "cell_type": "code",
   "execution_count": 14,
   "metadata": {
    "id": "cBLKtB_P05Xc"
   },
   "outputs": [],
   "source": [
    "temp = ['1','2','3','4','5']\n",
    "# for i in range(5):\n",
    "#   temp[i] = int(temp[i])"
   ]
  },
  {
   "cell_type": "code",
   "execution_count": 15,
   "metadata": {
    "id": "G9OoekqU12Ss"
   },
   "outputs": [],
   "source": [
    "temp = list(map(int, temp))"
   ]
  },
  {
   "cell_type": "code",
   "execution_count": 16,
   "metadata": {
    "id": "BCyykYJA25Wc"
   },
   "outputs": [],
   "source": [
    "def add100(x):\n",
    "  return x+100"
   ]
  },
  {
   "cell_type": "code",
   "execution_count": 17,
   "metadata": {
    "colab": {
     "base_uri": "https://localhost:8080/"
    },
    "id": "f9fE3APs3B5s",
    "outputId": "81c57994-d92b-4d30-d80a-cb006d504133"
   },
   "outputs": [
    {
     "data": {
      "text/plain": [
       "[101, 102, 103, 104, 105]"
      ]
     },
     "execution_count": 17,
     "metadata": {},
     "output_type": "execute_result"
    }
   ],
   "source": [
    "list(map(add100, temp))"
   ]
  },
  {
   "cell_type": "code",
   "execution_count": 18,
   "metadata": {
    "colab": {
     "base_uri": "https://localhost:8080/"
    },
    "id": "WWjc_1LI3JAj",
    "outputId": "d2464b66-ee14-4360-f8ef-c4ef9da3cf3d"
   },
   "outputs": [
    {
     "data": {
      "text/plain": [
       "[1, 2, 3, 4, 5]"
      ]
     },
     "execution_count": 18,
     "metadata": {},
     "output_type": "execute_result"
    }
   ],
   "source": [
    "temp"
   ]
  },
  {
   "cell_type": "code",
   "execution_count": 19,
   "metadata": {
    "id": "GN3tASu13cjU"
   },
   "outputs": [],
   "source": [
    "def func(x):\n",
    "  return x**2"
   ]
  },
  {
   "cell_type": "code",
   "execution_count": 20,
   "metadata": {
    "colab": {
     "base_uri": "https://localhost:8080/"
    },
    "id": "gwi7bPmq4Tyi",
    "outputId": "08559a78-cc15-4f21-f914-3295aa89ef54"
   },
   "outputs": [
    {
     "data": {
      "text/plain": [
       "<map at 0x23a1717b6d0>"
      ]
     },
     "execution_count": 20,
     "metadata": {},
     "output_type": "execute_result"
    }
   ],
   "source": [
    "map(func, temp)"
   ]
  },
  {
   "cell_type": "code",
   "execution_count": null,
   "metadata": {
    "colab": {
     "base_uri": "https://localhost:8080/"
    },
    "id": "Dr6MydHB3_Oj",
    "outputId": "835a29ad-7cfb-4b7f-8f7f-27ed14f2d63e"
   },
   "outputs": [
    {
     "name": "stdout",
     "output_type": "stream",
     "text": [
      "1\n",
      "4\n",
      "9\n",
      "16\n",
      "25\n"
     ]
    }
   ],
   "source": [
    "for i in map(func, temp):\n",
    "  print(i)\n"
   ]
  },
  {
   "cell_type": "code",
   "execution_count": null,
   "metadata": {
    "colab": {
     "base_uri": "https://localhost:8080/"
    },
    "id": "DY5t6vK44EBr",
    "outputId": "9760495f-6eb5-4b88-cae2-86d28d2a2820"
   },
   "outputs": [
    {
     "name": "stdout",
     "output_type": "stream",
     "text": [
      "0\n",
      "1\n",
      "2\n",
      "3\n",
      "4\n"
     ]
    }
   ],
   "source": [
    "for i in range(5):\n",
    "  print(i)"
   ]
  },
  {
   "cell_type": "markdown",
   "metadata": {
    "id": "Q7keXSfL40j_"
   },
   "source": [
    "filter function\n",
    "  - 원하는 조건이 True로 만들어주는 함수를 사용\n",
    "  - filter(함수, 리스트)"
   ]
  },
  {
   "cell_type": "code",
   "execution_count": null,
   "metadata": {
    "colab": {
     "base_uri": "https://localhost:8080/"
    },
    "id": "qYq23Dry4dI-",
    "outputId": "d3864c25-93d5-4722-9a41-65cb619e8f64"
   },
   "outputs": [
    {
     "data": {
      "text/plain": [
       "[1, 2, 3, 4, 5, 6, 7, 8, 9, 10]"
      ]
     },
     "execution_count": 85,
     "metadata": {},
     "output_type": "execute_result"
    }
   ],
   "source": [
    "temp = list(range(1,11))\n",
    "temp"
   ]
  },
  {
   "cell_type": "code",
   "execution_count": null,
   "metadata": {
    "id": "axbUbdIa4_dz"
   },
   "outputs": [],
   "source": [
    "def is_even(x):\n",
    "  return x % 2 == 0"
   ]
  },
  {
   "cell_type": "code",
   "execution_count": null,
   "metadata": {
    "colab": {
     "base_uri": "https://localhost:8080/"
    },
    "id": "_3nafytQ5miD",
    "outputId": "cfd2162d-e501-48a3-996e-36ac078bd025"
   },
   "outputs": [
    {
     "data": {
      "text/plain": [
       "[2, 4, 6, 8, 10]"
      ]
     },
     "execution_count": 96,
     "metadata": {},
     "output_type": "execute_result"
    }
   ],
   "source": [
    "list(filter(is_even, temp))\n"
   ]
  },
  {
   "cell_type": "code",
   "execution_count": null,
   "metadata": {
    "colab": {
     "base_uri": "https://localhost:8080/"
    },
    "id": "bo8yoMx45rg6",
    "outputId": "07b51bcf-e840-49c2-9901-73e9c54d1687"
   },
   "outputs": [
    {
     "data": {
      "text/plain": [
       "[1, 2, 3, 4, 5]"
      ]
     },
     "execution_count": 98,
     "metadata": {},
     "output_type": "execute_result"
    }
   ],
   "source": [
    "temp = list(range(1,6))\n",
    "temp"
   ]
  },
  {
   "cell_type": "code",
   "execution_count": null,
   "metadata": {
    "id": "Ri6x0EKw6h47"
   },
   "outputs": [],
   "source": [
    "def add(x,y):\n",
    "  return x + y"
   ]
  },
  {
   "cell_type": "code",
   "execution_count": null,
   "metadata": {
    "colab": {
     "base_uri": "https://localhost:8080/"
    },
    "id": "xueaNtus62Hj",
    "outputId": "24309931-f9f8-4083-e718-678365b0b7cc"
   },
   "outputs": [
    {
     "data": {
      "text/plain": [
       "15"
      ]
     },
     "execution_count": 104,
     "metadata": {},
     "output_type": "execute_result"
    }
   ],
   "source": [
    "from functools import reduce\n",
    "reduce(add,temp)"
   ]
  },
  {
   "cell_type": "code",
   "execution_count": null,
   "metadata": {
    "colab": {
     "base_uri": "https://localhost:8080/"
    },
    "id": "LHw8kJVM7TIy",
    "outputId": "03631f75-1a9b-45b0-c007-4ac1cadecd85"
   },
   "outputs": [
    {
     "data": {
      "text/plain": [
       "[1, 2, 3, 10, 20, 30, 1, 3, 5]"
      ]
     },
     "execution_count": 105,
     "metadata": {},
     "output_type": "execute_result"
    }
   ],
   "source": [
    "temp = [ [1,2,3],[10,20,30],[1,3,5]   ]\n",
    "# [ 1,2,3,10,20,30,1,3,5   ]\n",
    "reduce(add,temp)"
   ]
  },
  {
   "cell_type": "markdown",
   "metadata": {
    "id": "LzMHCFTI8sCW"
   },
   "source": [
    "zip 함수\n",
    "  - 리스트를 병합 : list merge"
   ]
  },
  {
   "cell_type": "code",
   "execution_count": null,
   "metadata": {
    "colab": {
     "base_uri": "https://localhost:8080/"
    },
    "id": "pvcvfCo68Miy",
    "outputId": "b3a2f19c-d79a-41a1-e696-deacf4a468e0"
   },
   "outputs": [
    {
     "data": {
      "text/plain": [
       "[('john', 10), ('jane', 15), ('tom', 20)]"
      ]
     },
     "execution_count": 106,
     "metadata": {},
     "output_type": "execute_result"
    }
   ],
   "source": [
    "[ ('john',10 ), ('jane', 15), ('tom',20)  ]"
   ]
  },
  {
   "cell_type": "code",
   "execution_count": null,
   "metadata": {
    "colab": {
     "base_uri": "https://localhost:8080/"
    },
    "id": "W84SswcP9AsK",
    "outputId": "67718aaf-682e-45e1-c9a2-68713b252338"
   },
   "outputs": [
    {
     "data": {
      "text/plain": [
       "[('john', 10, '서울시'), ('jane', 15, '경기도'), ('tom', 20, '부산')]"
      ]
     },
     "execution_count": 110,
     "metadata": {},
     "output_type": "execute_result"
    }
   ],
   "source": [
    "names = ['john','jane','tom']\n",
    "ages = [10,15,20]\n",
    "addr = ['서울시','경기도','부산']\n",
    "list(zip(names,ages,addr))"
   ]
  },
  {
   "cell_type": "markdown",
   "metadata": {
    "id": "Iw047lWW-a8m"
   },
   "source": [
    "ANY\n",
    "\n",
    "ALL"
   ]
  },
  {
   "cell_type": "code",
   "execution_count": 21,
   "metadata": {
    "colab": {
     "base_uri": "https://localhost:8080/"
    },
    "id": "xohFIMU2-aWi",
    "outputId": "7c003f63-2e71-4537-b8ca-f30b4f1bc023"
   },
   "outputs": [
    {
     "data": {
      "text/plain": [
       "[True, False, True, True]"
      ]
     },
     "execution_count": 21,
     "metadata": {},
     "output_type": "execute_result"
    }
   ],
   "source": [
    "temp = [True,False,True,True]\n",
    "temp"
   ]
  },
  {
   "cell_type": "code",
   "execution_count": 22,
   "metadata": {
    "colab": {
     "base_uri": "https://localhost:8080/"
    },
    "id": "pRaxHSup9I0q",
    "outputId": "d2b37cbb-56f4-40b7-ae32-761ec4e7ae53"
   },
   "outputs": [
    {
     "data": {
      "text/plain": [
       "(True, False)"
      ]
     },
     "execution_count": 22,
     "metadata": {},
     "output_type": "execute_result"
    }
   ],
   "source": [
    "any(temp), all(temp)"
   ]
  },
  {
   "cell_type": "markdown",
   "metadata": {
    "id": "hjQQ2QFtDoDa"
   },
   "source": [
    "- git 주소의 소스를 자신의 google dirve에 저장해서\n",
    "- google drive로 가서 해당 notebook을 더블클릭하면\n",
    "- notebook 파일이 열러서 바로 실습가능"
   ]
  },
  {
   "cell_type": "code",
   "execution_count": 23,
   "metadata": {
    "colab": {
     "base_uri": "https://localhost:8080/"
    },
    "id": "XLMBmMMI_R7K",
    "outputId": "71d35409-ea80-47ac-d6b2-7012a4f60a04"
   },
   "outputs": [
    {
     "data": {
      "text/plain": [
       "CompletedProcess(args=['git', 'clone', 'https://github.com/leekyuyoung202306/PYTHON.git', '/content/drive/MyDrive/source'], returncode=0)"
      ]
     },
     "execution_count": 23,
     "metadata": {},
     "output_type": "execute_result"
    }
   ],
   "source": [
    "import subprocess\n",
    "url1 = 'https://github.com/leekyuyoung202306/PYTHON.git'\n",
    "target = '/content/drive/MyDrive/source'\n",
    "subprocess.run( ['git','clone',url1,target])"
   ]
  },
  {
   "cell_type": "code",
   "execution_count": 24,
   "metadata": {
    "id": "oxa4MX-dBh0G"
   },
   "outputs": [
    {
     "data": {
      "text/plain": [
       "True"
      ]
     },
     "execution_count": 24,
     "metadata": {},
     "output_type": "execute_result"
    }
   ],
   "source": [
    "numbers = [2,4,6,8,10,1]\n",
    "\n",
    "# [True,True,True,True,True,False]\n",
    "all(numbers)"
   ]
  },
  {
   "cell_type": "markdown",
   "metadata": {
    "id": "dvvEFcIZEgZb"
   },
   "source": [
    "list comprehension"
   ]
  },
  {
   "cell_type": "code",
   "execution_count": 25,
   "metadata": {
    "id": "h9MEZRqTEjdY"
   },
   "outputs": [],
   "source": [
    "temp = []\n",
    "for i in numbers:\n",
    "  if i % 2 == 0:\n",
    "    temp.append(True)\n",
    "  else:\n",
    "    temp.append(False)"
   ]
  },
  {
   "cell_type": "code",
   "execution_count": 26,
   "metadata": {
    "colab": {
     "base_uri": "https://localhost:8080/"
    },
    "id": "KMy4dxJgE2HR",
    "outputId": "60ddc04a-0f2f-47e3-c0d4-dd925fe8fbc1"
   },
   "outputs": [
    {
     "data": {
      "text/plain": [
       "[True, True, True, True, True, False]"
      ]
     },
     "execution_count": 26,
     "metadata": {},
     "output_type": "execute_result"
    }
   ],
   "source": [
    "[ i % 2 == 0 for i in numbers ]"
   ]
  },
  {
   "cell_type": "code",
   "execution_count": 27,
   "metadata": {
    "colab": {
     "base_uri": "https://localhost:8080/"
    },
    "id": "mVRmLX_aE5DP",
    "outputId": "f3f288d2-e15a-469c-a619-ae9661a5073f"
   },
   "outputs": [
    {
     "data": {
      "text/plain": [
       "[2, 4, 6, 8, 10, 1]"
      ]
     },
     "execution_count": 27,
     "metadata": {},
     "output_type": "execute_result"
    }
   ],
   "source": [
    "# 리스트 컴프리핸선을 이용해서 정수로 변경  한줄코딩\n",
    "# map사용 말고\n",
    "numbers = ['2','4','6','8','10','1']\n",
    "temp = [ int(i) for i in numbers ]\n",
    "temp"
   ]
  },
  {
   "cell_type": "code",
   "execution_count": 28,
   "metadata": {
    "colab": {
     "base_uri": "https://localhost:8080/"
    },
    "id": "EFNhizonF2-I",
    "outputId": "e20a3107-71e4-4dbe-a294-0a23b9fa5aa2"
   },
   "outputs": [
    {
     "data": {
      "text/plain": [
       "False"
      ]
     },
     "execution_count": 28,
     "metadata": {},
     "output_type": "execute_result"
    }
   ],
   "source": [
    "all( [i % 2 == 0 for i in temp ])\n",
    "all( i % 2 == 0 for i in temp )"
   ]
  },
  {
   "cell_type": "code",
   "execution_count": 29,
   "metadata": {
    "colab": {
     "base_uri": "https://localhost:8080/"
    },
    "id": "mS-2Xm4TGMu3",
    "outputId": "532068f9-cacd-4d4b-9628-b896388153df"
   },
   "outputs": [
    {
     "data": {
      "text/plain": [
       "[6, 8, 10]"
      ]
     },
     "execution_count": 29,
     "metadata": {},
     "output_type": "execute_result"
    }
   ],
   "source": [
    "# temp집합중에 값이 5보다 큰 값만 추출해서 리스트를 만든다\n",
    "[i for i in temp if i > 5]"
   ]
  },
  {
   "cell_type": "code",
   "execution_count": 30,
   "metadata": {
    "colab": {
     "base_uri": "https://localhost:8080/"
    },
    "id": "Kzl7u0ejG3zn",
    "outputId": "10565a79-1c30-4230-f514-62179f974156"
   },
   "outputs": [
    {
     "data": {
      "text/plain": [
       "['짝수', '짝수', '짝수', '짝수', '짝수', '홀수']"
      ]
     },
     "execution_count": 30,
     "metadata": {},
     "output_type": "execute_result"
    }
   ],
   "source": [
    "# temp 집합중에서 짝수면 한글로 짝수 홀수면 한글로 홀수라고 리트를 만든다\n",
    "[ '짝수' if i%2==0 else '홀수' for i in temp ]"
   ]
  },
  {
   "cell_type": "code",
   "execution_count": 31,
   "metadata": {
    "id": "YQpIpC_iHi8Z"
   },
   "outputs": [],
   "source": [
    "from glob import glob"
   ]
  },
  {
   "cell_type": "code",
   "execution_count": 32,
   "metadata": {
    "colab": {
     "base_uri": "https://localhost:8080/"
    },
    "id": "4ThqBh6lIB3f",
    "outputId": "0c6d30ea-322d-450d-8d2f-a85e23996f1d"
   },
   "outputs": [
    {
     "data": {
      "text/plain": [
       "[]"
      ]
     },
     "execution_count": 32,
     "metadata": {},
     "output_type": "execute_result"
    }
   ],
   "source": [
    "glob('/content/sample_data/*.csv')"
   ]
  },
  {
   "cell_type": "code",
   "execution_count": 33,
   "metadata": {
    "colab": {
     "base_uri": "https://localhost:8080/"
    },
    "id": "vdP89D7DISNo",
    "outputId": "c20b17ec-b9a4-42d7-9a62-360cac1f2b68"
   },
   "outputs": [
    {
     "data": {
      "text/plain": [
       "['', 'content', 'sample_data', 'mnist_train_small.csv']"
      ]
     },
     "execution_count": 33,
     "metadata": {},
     "output_type": "execute_result"
    }
   ],
   "source": [
    "'/content/sample_data/mnist_train_small.csv'.split('/')"
   ]
  },
  {
   "cell_type": "code",
   "execution_count": 34,
   "metadata": {
    "colab": {
     "base_uri": "https://localhost:8080/",
     "height": 35
    },
    "id": "Zir2JRWtIere",
    "outputId": "68c8ea0f-97ea-464e-b198-e57362ff71bf"
   },
   "outputs": [
    {
     "data": {
      "text/plain": [
       "'mnist_train_small.csv'"
      ]
     },
     "execution_count": 34,
     "metadata": {},
     "output_type": "execute_result"
    }
   ],
   "source": [
    "'/content/sample_data/mnist_train_small.csv'.split('/')[-1]"
   ]
  },
  {
   "cell_type": "code",
   "execution_count": 35,
   "metadata": {
    "colab": {
     "base_uri": "https://localhost:8080/"
    },
    "id": "XbXkuGF5Il6n",
    "outputId": "dbf3f9bf-2aef-45be-bece-e3efcdf6f0d9"
   },
   "outputs": [
    {
     "data": {
      "text/plain": [
       "[]"
      ]
     },
     "execution_count": 35,
     "metadata": {},
     "output_type": "execute_result"
    }
   ],
   "source": [
    "[i.split('/')[-1] for i in glob('/content/sample_data/*.*') ]"
   ]
  },
  {
   "cell_type": "code",
   "execution_count": 36,
   "metadata": {
    "colab": {
     "base_uri": "https://localhost:8080/"
    },
    "id": "dZocsTSHIzVf",
    "outputId": "3fceed80-9953-4559-f9a2-481903022d7f"
   },
   "outputs": [
    {
     "ename": "FileNotFoundError",
     "evalue": "[WinError 3] 지정된 경로를 찾을 수 없습니다: '/content/sample_data'",
     "output_type": "error",
     "traceback": [
      "\u001b[1;31m---------------------------------------------------------------------------\u001b[0m",
      "\u001b[1;31mFileNotFoundError\u001b[0m                         Traceback (most recent call last)",
      "\u001b[1;32m<ipython-input-36-4a90fa2c1a28>\u001b[0m in \u001b[0;36m<module>\u001b[1;34m\u001b[0m\n\u001b[0;32m      1\u001b[0m \u001b[1;32mimport\u001b[0m \u001b[0mos\u001b[0m\u001b[1;33m\u001b[0m\u001b[1;33m\u001b[0m\u001b[0m\n\u001b[1;32m----> 2\u001b[1;33m \u001b[0mos\u001b[0m\u001b[1;33m.\u001b[0m\u001b[0mlistdir\u001b[0m\u001b[1;33m(\u001b[0m\u001b[1;34m'/content/sample_data'\u001b[0m\u001b[1;33m)\u001b[0m\u001b[1;33m\u001b[0m\u001b[1;33m\u001b[0m\u001b[0m\n\u001b[0m",
      "\u001b[1;31mFileNotFoundError\u001b[0m: [WinError 3] 지정된 경로를 찾을 수 없습니다: '/content/sample_data'"
     ]
    }
   ],
   "source": [
    "import os\n",
    "os.listdir('/content/sample_data')"
   ]
  },
  {
   "cell_type": "markdown",
   "metadata": {
    "id": "SLrk45-KJWAg"
   },
   "source": [
    "dictionary 를 정렬"
   ]
  },
  {
   "cell_type": "code",
   "execution_count": 37,
   "metadata": {
    "id": "Zz3cEUTYI9wv"
   },
   "outputs": [],
   "source": [
    "names = ['c','b','a','e','d']\n",
    "scores = [90,80,70,95,88]"
   ]
  },
  {
   "cell_type": "code",
   "execution_count": 38,
   "metadata": {
    "colab": {
     "base_uri": "https://localhost:8080/"
    },
    "id": "x-EuIl37JwdH",
    "outputId": "80652495-39bb-4bc3-e504-a8931fd6560f"
   },
   "outputs": [
    {
     "data": {
      "text/plain": [
       "{'c': 90, 'b': 80, 'a': 70, 'e': 95, 'd': 88}"
      ]
     },
     "execution_count": 38,
     "metadata": {},
     "output_type": "execute_result"
    }
   ],
   "source": [
    "temp = dict(zip(names,scores))\n",
    "temp"
   ]
  },
  {
   "cell_type": "code",
   "execution_count": 39,
   "metadata": {
    "colab": {
     "base_uri": "https://localhost:8080/"
    },
    "id": "vI9RqxlhKGmG",
    "outputId": "e14d5e44-012e-4995-ee2d-cc11b31c38dd"
   },
   "outputs": [
    {
     "data": {
      "text/plain": [
       "90"
      ]
     },
     "execution_count": 39,
     "metadata": {},
     "output_type": "execute_result"
    }
   ],
   "source": [
    "temp.get('c')"
   ]
  },
  {
   "cell_type": "code",
   "execution_count": 40,
   "metadata": {
    "colab": {
     "base_uri": "https://localhost:8080/"
    },
    "id": "g56sr3XTKUKW",
    "outputId": "9559face-958e-45bb-9846-683f48ae712f"
   },
   "outputs": [
    {
     "data": {
      "text/plain": [
       "[('e', 95), ('c', 90), ('d', 88), ('b', 80), ('a', 70)]"
      ]
     },
     "execution_count": 40,
     "metadata": {},
     "output_type": "execute_result"
    }
   ],
   "source": [
    "def sort_func(item):\n",
    "  return item[1]\n",
    "sorted(temp.items(), key=sort_func,reverse=True)"
   ]
  },
  {
   "cell_type": "code",
   "execution_count": 41,
   "metadata": {
    "colab": {
     "base_uri": "https://localhost:8080/"
    },
    "id": "nmqQPSRrKymO",
    "outputId": "27b51ce7-c0ff-4cc4-b84d-f8a513ca6804"
   },
   "outputs": [
    {
     "data": {
      "text/plain": [
       "[('e', 95), ('d', 88), ('c', 90), ('b', 80), ('a', 70)]"
      ]
     },
     "execution_count": 41,
     "metadata": {},
     "output_type": "execute_result"
    }
   ],
   "source": [
    "def sort_func(item):\n",
    "  return item[0]\n",
    "sorted(temp.items(), key=sort_func,reverse=True)"
   ]
  },
  {
   "cell_type": "code",
   "execution_count": null,
   "metadata": {
    "id": "N9JR2YuTLloe"
   },
   "outputs": [],
   "source": []
  }
 ],
 "metadata": {
  "colab": {
   "provenance": []
  },
  "kernelspec": {
   "display_name": "Python 3",
   "language": "python",
   "name": "python3"
  },
  "language_info": {
   "codemirror_mode": {
    "name": "ipython",
    "version": 3
   },
   "file_extension": ".py",
   "mimetype": "text/x-python",
   "name": "python",
   "nbconvert_exporter": "python",
   "pygments_lexer": "ipython3",
   "version": "3.8.5"
  }
 },
 "nbformat": 4,
 "nbformat_minor": 1
}
