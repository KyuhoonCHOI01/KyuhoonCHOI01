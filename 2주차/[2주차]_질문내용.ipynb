{
 "cells": [
  {
   "cell_type": "code",
   "execution_count": 1,
   "metadata": {},
   "outputs": [],
   "source": [
    "def get_key_with_min_value(dictionary):\n",
    "    min_value = float('inf')\n",
    "    min_key = None\n",
    "    for key, value in dictionary.items():\n",
    "        if value < min_value:\n",
    "            min_value = value\n",
    "            min_key = key\n",
    "    return min_key"
   ]
  },
  {
   "cell_type": "code",
   "execution_count": 3,
   "metadata": {},
   "outputs": [
    {
     "data": {
      "text/plain": [
       "'b'"
      ]
     },
     "execution_count": 3,
     "metadata": {},
     "output_type": "execute_result"
    }
   ],
   "source": [
    "dic_1 = { 'a':2, 'b':1, 'c':3, 'd':1 ,'e':5, 'f':1 }\n",
    "result = get_key_with_min_value(dic_1)\n",
    "result"
   ]
  },
  {
   "cell_type": "markdown",
   "metadata": {},
   "source": [
    "### 최소값이 복수일 때 찾아 내는 방법?"
   ]
  },
  {
   "cell_type": "code",
   "execution_count": 4,
   "metadata": {},
   "outputs": [
    {
     "name": "stdout",
     "output_type": "stream",
     "text": [
      "['b', 'd', 'f']\n"
     ]
    }
   ],
   "source": [
    "def get_keys_with_min_value(dictionary):\n",
    "    min_value = float('inf')\n",
    "    min_keys = []\n",
    "    for key, value in dictionary.items():\n",
    "        if value < min_value:\n",
    "            min_value = value\n",
    "            min_keys = [key]\n",
    "        elif value == min_value:\n",
    "            min_keys.append(key)\n",
    "    return min_keys\n",
    "\n",
    "dic_1 = { 'a':2, 'b':1, 'c':3, 'd':1 ,'e':5, 'f':1 }\n",
    "result = get_keys_with_min_value(dic_1)\n",
    "print(result)"
   ]
  },
  {
   "cell_type": "code",
   "execution_count": null,
   "metadata": {},
   "outputs": [],
   "source": []
  }
 ],
 "metadata": {
  "kernelspec": {
   "display_name": "Python 3",
   "language": "python",
   "name": "python3"
  },
  "language_info": {
   "codemirror_mode": {
    "name": "ipython",
    "version": 3
   },
   "file_extension": ".py",
   "mimetype": "text/x-python",
   "name": "python",
   "nbconvert_exporter": "python",
   "pygments_lexer": "ipython3",
   "version": "3.8.5"
  }
 },
 "nbformat": 4,
 "nbformat_minor": 2
}
