{
 "cells": [
  {
   "cell_type": "markdown",
   "metadata": {
    "id": "zH17SMdFKR2S"
   },
   "source": [
    "함수 : function  y = f(x)\n",
    "  - 미리 정의한 비지니스 로직\n",
    "  - 호출당하는 로직\n",
    "  - 매개변수(agrument) : 함수를 설계할때 받겠다고 선언한 변수\n",
    "  - 파라메터(parameter) : 함수를 호출할때 넘겨주는 변수\n"
   ]
  },
  {
   "cell_type": "code",
   "execution_count": 1,
   "metadata": {
    "id": "KIshwBufIy8v"
   },
   "outputs": [],
   "source": [
    "def add(x1, x2):\n",
    "  return x1 + x2"
   ]
  },
  {
   "cell_type": "code",
   "execution_count": 2,
   "metadata": {
    "id": "Xq90ShkPMftb"
   },
   "outputs": [],
   "source": [
    "# 함수는 이름으로 호출한다.이때 필요하면 설계한 대로 값을 전달한다\n",
    "result = add(10,20)"
   ]
  },
  {
   "cell_type": "code",
   "execution_count": 3,
   "metadata": {
    "colab": {
     "base_uri": "https://localhost:8080/"
    },
    "id": "DmywrqQDMiQ-",
    "outputId": "bc095b78-0c15-44e9-c594-63eeeb722a92"
   },
   "outputs": [
    {
     "name": "stdout",
     "output_type": "stream",
     "text": [
      "30\n"
     ]
    }
   ],
   "source": [
    "print(result)"
   ]
  },
  {
   "cell_type": "code",
   "execution_count": 4,
   "metadata": {
    "id": "mmR-4tnpNZZe"
   },
   "outputs": [],
   "source": [
    "# 함수에서 생성한 변수는 함수가 실행을 종료하면 같이 없어진다.\n",
    "# 아래 함수에서 생성한 변수는 x1,x2,add_result\n",
    "def add(x1, x2):\n",
    "  add_result = x1 + x2\n",
    "  return add_result"
   ]
  },
  {
   "cell_type": "code",
   "execution_count": 5,
   "metadata": {
    "colab": {
     "base_uri": "https://localhost:8080/"
    },
    "id": "SCd3sjFlN1K-",
    "outputId": "111f36e1-10f4-4148-cb70-3c6f500b18a2"
   },
   "outputs": [
    {
     "data": {
      "text/plain": [
       "30"
      ]
     },
     "execution_count": 5,
     "metadata": {},
     "output_type": "execute_result"
    }
   ],
   "source": [
    "add(10,20)"
   ]
  },
  {
   "cell_type": "code",
   "execution_count": 6,
   "metadata": {
    "colab": {
     "base_uri": "https://localhost:8080/",
     "height": 174
    },
    "id": "axxp8qc8N3D9",
    "outputId": "dc8aecec-4912-4747-a94a-af6fc1eea875"
   },
   "outputs": [
    {
     "ename": "NameError",
     "evalue": "name 'add_result' is not defined",
     "output_type": "error",
     "traceback": [
      "\u001b[1;31m---------------------------------------------------------------------------\u001b[0m",
      "\u001b[1;31mNameError\u001b[0m                                 Traceback (most recent call last)",
      "\u001b[1;32m<ipython-input-6-6dff93f651c7>\u001b[0m in \u001b[0;36m<module>\u001b[1;34m\u001b[0m\n\u001b[1;32m----> 1\u001b[1;33m \u001b[0madd_result\u001b[0m\u001b[1;33m\u001b[0m\u001b[1;33m\u001b[0m\u001b[0m\n\u001b[0m",
      "\u001b[1;31mNameError\u001b[0m: name 'add_result' is not defined"
     ]
    }
   ],
   "source": [
    "add_result"
   ]
  },
  {
   "cell_type": "markdown",
   "metadata": {
    "id": "ryX-MOzoOgS7"
   },
   "source": [
    "입력값이 없고 출력은 있음"
   ]
  },
  {
   "cell_type": "code",
   "execution_count": 7,
   "metadata": {
    "id": "3K1duFueN4Jt"
   },
   "outputs": [],
   "source": [
    "def getMenu():\n",
    "  return \"1. show and display\\n2. save the item\""
   ]
  },
  {
   "cell_type": "code",
   "execution_count": 8,
   "metadata": {
    "colab": {
     "base_uri": "https://localhost:8080/"
    },
    "id": "lhEY4UbyO4Rg",
    "outputId": "1e6d44d2-ea70-4455-fe55-b42a4e9a47b3"
   },
   "outputs": [
    {
     "name": "stdout",
     "output_type": "stream",
     "text": [
      "1. show and display\n",
      "2. save the item\n"
     ]
    }
   ],
   "source": [
    "print(getMenu())"
   ]
  },
  {
   "cell_type": "markdown",
   "metadata": {
    "id": "LcDxTlJRPJ76"
   },
   "source": [
    "입력값은 있는데 출력이 없는경우"
   ]
  },
  {
   "cell_type": "code",
   "execution_count": 9,
   "metadata": {
    "id": "zrJwvE9kPI33"
   },
   "outputs": [],
   "source": [
    "def display_selected_menu(select_num):\n",
    "  if select_num == 1:\n",
    "    print(\"1번 메뉴를 선택했습니다\")\n",
    "  elif select_num == 2:\n",
    "    print(\"2번 메뉴를 선택했습니다\")\n",
    "  else:\n",
    "    print(\"잘못선택했습니다.(1,2, 둘중에 하나를 선택하세요)\")\n",
    "\n"
   ]
  },
  {
   "cell_type": "code",
   "execution_count": 10,
   "metadata": {
    "colab": {
     "base_uri": "https://localhost:8080/"
    },
    "id": "1cexX7LQO6Kl",
    "outputId": "08ab47f1-c7f3-4c3b-b9b1-d34ed3d8564a"
   },
   "outputs": [
    {
     "name": "stdout",
     "output_type": "stream",
     "text": [
      "1번 메뉴를 선택했습니다\n"
     ]
    }
   ],
   "source": [
    "display_selected_menu(1)"
   ]
  },
  {
   "cell_type": "markdown",
   "metadata": {
    "id": "5QzSrA-TQEvA"
   },
   "source": [
    "함수를 만드는 이유\n",
    "  - 코드의 재 사용\n",
    "  - 가독성 있는 프로그래밍을 위해서 사용\n",
    "    - 코드를 쉽게, 그리고 쉬우니깐.. 간단하니깐.. 실수가 적어진다. --> 버그생산을 최소화 한다.\n"
   ]
  },
  {
   "cell_type": "markdown",
   "metadata": {
    "id": "SLrgu90FRgMR"
   },
   "source": [
    "입력과 출력이 없는경우"
   ]
  },
  {
   "cell_type": "code",
   "execution_count": 11,
   "metadata": {
    "colab": {
     "base_uri": "https://localhost:8080/"
    },
    "id": "Wymr-XKqRjiN",
    "outputId": "90e7cc14-754e-4c8f-9470-a98aa2b39e2f"
   },
   "outputs": [
    {
     "name": "stdout",
     "output_type": "stream",
     "text": [
      "menu.......\n"
     ]
    }
   ],
   "source": [
    "def display_menu():\n",
    "  print(\"menu.......\")\n",
    "\n",
    "display_menu()"
   ]
  },
  {
   "cell_type": "markdown",
   "metadata": {
    "id": "omK3q2OCRhw_"
   },
   "source": [
    "입력과 출력이 모두 있는경우"
   ]
  },
  {
   "cell_type": "code",
   "execution_count": 12,
   "metadata": {
    "colab": {
     "base_uri": "https://localhost:8080/"
    },
    "id": "8JwB6__hPw4t",
    "outputId": "551a91bf-7e4f-4062-8769-a6ebd27bd0cb"
   },
   "outputs": [
    {
     "name": "stdout",
     "output_type": "stream",
     "text": [
      "50\n"
     ]
    }
   ],
   "source": [
    "def getarea_rectangle(width, height):\n",
    "  return width *  height\n",
    "\n",
    "print(getarea_rectangle(10,5) )"
   ]
  },
  {
   "cell_type": "code",
   "execution_count": 13,
   "metadata": {
    "id": "72JnZh8SSBgV"
   },
   "outputs": [],
   "source": [
    "# 함수의 4가지 타입을 만들어 보고 사용하기\n",
    "# 1. 입력과 출력이 없음\n",
    "# 2. 입력만 있음\n",
    "# 3. 출력만 있음\n",
    "# 4. 입출력 모두 있음"
   ]
  },
  {
   "cell_type": "code",
   "execution_count": 16,
   "metadata": {
    "id": "CUnYNA4kSbyW"
   },
   "outputs": [],
   "source": [
    "def add(*args):\n",
    "  result = 0\n",
    "  for i in args:\n",
    "    result +=  i\n",
    "  return result"
   ]
  },
  {
   "cell_type": "code",
   "execution_count": 17,
   "metadata": {
    "colab": {
     "base_uri": "https://localhost:8080/"
    },
    "id": "wZ88FK2aTomk",
    "outputId": "b6a4d695-951d-4b0b-e694-197912f99c05"
   },
   "outputs": [
    {
     "data": {
      "text/plain": [
       "15"
      ]
     },
     "execution_count": 17,
     "metadata": {},
     "output_type": "execute_result"
    }
   ],
   "source": [
    "add(1,2,3,4,5)"
   ]
  },
  {
   "cell_type": "markdown",
   "metadata": {
    "id": "K1dLy1i4XA4I"
   },
   "source": [
    "for 순환문 복습\n",
    "  - 집합을 이루는 데이터셋을 자동으로 순환하면서 값을 추출\n",
    "  - for 변수 in 집합:"
   ]
  },
  {
   "cell_type": "code",
   "execution_count": 42,
   "metadata": {
    "colab": {
     "base_uri": "https://localhost:8080/"
    },
    "id": "1U9hdy6BUed_",
    "outputId": "2a3a9f9a-4af2-478f-e922-c1a4e8f42488"
   },
   "outputs": [
    {
     "name": "stdout",
     "output_type": "stream",
     "text": [
      "data:1, result:0, result += data:1\n",
      "data:2, result:1, result += data:3\n",
      "data:3, result:3, result += data:6\n",
      "6\n"
     ]
    }
   ],
   "source": [
    "list1 = [1,2,3]\n",
    "result = 0\n",
    "for data in list1:\n",
    "  print(f\"data:{data}, result:{result}, result += data:{result + data}\")\n",
    "  result += data\n",
    "print(result)"
   ]
  },
  {
   "cell_type": "code",
   "execution_count": 21,
   "metadata": {},
   "outputs": [
    {
     "name": "stdout",
     "output_type": "stream",
     "text": [
      "data:1, result:0, result += data:1\n",
      "data:2, result:1, result += data:3\n",
      "data:3, result:3, result += data:6\n",
      "data:4, result:6, result += data:10\n",
      "data:5, result:10, result += data:15\n",
      "data:6, result:15, result += data:21\n",
      "data:7, result:21, result += data:28\n",
      "data:8, result:28, result += data:36\n",
      "data:9, result:36, result += data:45\n",
      "data:10, result:45, result += data:55\n"
     ]
    },
    {
     "data": {
      "text/plain": [
       "55"
      ]
     },
     "execution_count": 21,
     "metadata": {},
     "output_type": "execute_result"
    }
   ],
   "source": [
    "add(1,2,3,4,5,6,7,8,9,10)"
   ]
  },
  {
   "cell_type": "code",
   "execution_count": 23,
   "metadata": {
    "id": "TXLsAjzKUlhN"
   },
   "outputs": [],
   "source": [
    "def add(*args):\n",
    "  result = 0\n",
    "  for data in args:\n",
    "    print(f\"data:{data}, result:{result}, result += data:{result + data}\")\n",
    "    result += data\n",
    "  return result"
   ]
  },
  {
   "cell_type": "code",
   "execution_count": 24,
   "metadata": {
    "colab": {
     "base_uri": "https://localhost:8080/"
    },
    "id": "Z-0eBzHXZj1T",
    "outputId": "f9b134ac-db5a-4844-f964-6f36bc4abed7"
   },
   "outputs": [
    {
     "name": "stdout",
     "output_type": "stream",
     "text": [
      "10\n",
      "data:1, result:0, result += data:1\n",
      "data:2, result:1, result += data:3\n",
      "data:3, result:3, result += data:6\n",
      "data:4, result:6, result += data:10\n",
      "data:5, result:10, result += data:15\n",
      "data:10, result:0, result += data:10\n",
      "data:20, result:10, result += data:30\n",
      "data:30, result:30, result += data:60\n",
      "data:40, result:60, result += data:100\n"
     ]
    }
   ],
   "source": [
    "a = 10\n",
    "print(a)\n",
    "b = a + 20\n",
    "result = add(1,2,3,4,5)\n",
    "c = 100\n",
    "d = c + 200\n",
    "\n",
    "result_2 = add(10,20,30,40)\n",
    "abc = result_2**2\n"
   ]
  },
  {
   "cell_type": "markdown",
   "metadata": {
    "id": "DwX7h49JbV3O"
   },
   "source": [
    "----------------------------------------------------------------"
   ]
  },
  {
   "cell_type": "markdown",
   "metadata": {
    "id": "zjDxWW87bkUc"
   },
   "source": [
    "가변 매개변수  (*변수명)\n",
    "  - 함수안에서 리스트로 처리된다.\n",
    "함수에서 가변매개변수와 일반변수가 섞여서  사용가능?\n",
    "  - 가능\n",
    "  - 순서가 중요하다  "
   ]
  },
  {
   "cell_type": "code",
   "execution_count": 25,
   "metadata": {
    "id": "0TzSMwFnZllT"
   },
   "outputs": [],
   "source": [
    "def add2(x, y, *args):\n",
    "  print(f\"args:{args}\")\n",
    "  print(f\"x:{x}\")\n",
    "  print(f\"y:{y}\")"
   ]
  },
  {
   "cell_type": "code",
   "execution_count": 26,
   "metadata": {
    "colab": {
     "base_uri": "https://localhost:8080/"
    },
    "id": "ibfBSWpBZ1RT",
    "outputId": "cdfa5d60-88b9-41af-e45e-1dbfcc0fb634"
   },
   "outputs": [
    {
     "name": "stdout",
     "output_type": "stream",
     "text": [
      "args:()\n",
      "x:1\n",
      "y:2\n"
     ]
    }
   ],
   "source": [
    "add2(1,2)"
   ]
  },
  {
   "cell_type": "markdown",
   "metadata": {
    "id": "Y0VgWKoydiz0"
   },
   "source": [
    "함수... 어디까지 써 봤니?"
   ]
  },
  {
   "cell_type": "code",
   "execution_count": 79,
   "metadata": {
    "id": "pDmBD1k0cURC"
   },
   "outputs": [],
   "source": [
    "def add(x1, x2):\n",
    "  return x1 + x2\n",
    "\n",
    "def minus(x1, x2):\n",
    "  return x1 - x2\n",
    "\n",
    "def divide(x1, x2):\n",
    "  return x1 / x2\n",
    "\n",
    "def multi(x1, x2):\n",
    "  return x1 * x2\n"
   ]
  },
  {
   "cell_type": "code",
   "execution_count": 28,
   "metadata": {
    "id": "6jXfrGbmeJBC"
   },
   "outputs": [],
   "source": [
    "def calculator(op, x1, x2):\n",
    "  return op(x1, x2)"
   ]
  },
  {
   "cell_type": "code",
   "execution_count": 29,
   "metadata": {
    "colab": {
     "base_uri": "https://localhost:8080/"
    },
    "id": "9mXW13dDefrx",
    "outputId": "ebb4574c-22b7-4033-c6ed-a6b9173785dc",
    "scrolled": false
   },
   "outputs": [
    {
     "data": {
      "text/plain": [
       "10"
      ]
     },
     "execution_count": 29,
     "metadata": {},
     "output_type": "execute_result"
    }
   ],
   "source": [
    "calculator(lambda x,y : x%y , 10 , 20 )"
   ]
  },
  {
   "cell_type": "code",
   "execution_count": null,
   "metadata": {},
   "outputs": [],
   "source": [
    "def calculator(op, x1, x2):\n",
    "  return op(x1, x2)\n",
    "calculator(lambda x,y : x%y , 10 , 20 )"
   ]
  },
  {
   "cell_type": "code",
   "execution_count": 30,
   "metadata": {},
   "outputs": [
    {
     "data": {
      "text/plain": [
       "0"
      ]
     },
     "execution_count": 30,
     "metadata": {},
     "output_type": "execute_result"
    }
   ],
   "source": [
    "calculator(lambda x,y : x//y , 10 , 20 )"
   ]
  },
  {
   "cell_type": "code",
   "execution_count": 31,
   "metadata": {},
   "outputs": [
    {
     "data": {
      "text/plain": [
       "30"
      ]
     },
     "execution_count": 31,
     "metadata": {},
     "output_type": "execute_result"
    }
   ],
   "source": [
    "calculator(lambda x,y : x+y , 10 , 20 )"
   ]
  },
  {
   "cell_type": "code",
   "execution_count": 32,
   "metadata": {
    "id": "4k-nhuCSeyfS"
   },
   "outputs": [],
   "source": [
    "abc = lambda x,y : x%y"
   ]
  },
  {
   "cell_type": "code",
   "execution_count": 33,
   "metadata": {
    "colab": {
     "base_uri": "https://localhost:8080/"
    },
    "id": "jHmFMUwcgVqC",
    "outputId": "b0986eca-fb7b-4eb0-c807-82ee1cdfe0d0"
   },
   "outputs": [
    {
     "data": {
      "text/plain": [
       "10"
      ]
     },
     "execution_count": 33,
     "metadata": {},
     "output_type": "execute_result"
    }
   ],
   "source": [
    "abc(10,20)"
   ]
  },
  {
   "cell_type": "markdown",
   "metadata": {
    "id": "FGwCORsHhPM9"
   },
   "source": [
    "디폴트 매개변수"
   ]
  },
  {
   "cell_type": "code",
   "execution_count": 34,
   "metadata": {
    "id": "CCWE9E4PgXCx"
   },
   "outputs": [],
   "source": [
    "def add(x1, x2=5):\n",
    "  return x1 + x2"
   ]
  },
  {
   "cell_type": "code",
   "execution_count": 35,
   "metadata": {
    "colab": {
     "base_uri": "https://localhost:8080/"
    },
    "id": "PwgySjxAhUqo",
    "outputId": "f3324c6a-0f2d-4756-a7d5-b79e490dabd2"
   },
   "outputs": [
    {
     "data": {
      "text/plain": [
       "101"
      ]
     },
     "execution_count": 35,
     "metadata": {},
     "output_type": "execute_result"
    }
   ],
   "source": [
    "add(100,1)"
   ]
  },
  {
   "cell_type": "code",
   "execution_count": 36,
   "metadata": {
    "colab": {
     "base_uri": "https://localhost:8080/"
    },
    "id": "si-PA2amhlAY",
    "outputId": "58df8d85-af08-4af0-ab55-92251676c359"
   },
   "outputs": [
    {
     "data": {
      "text/plain": [
       "105"
      ]
     },
     "execution_count": 36,
     "metadata": {},
     "output_type": "execute_result"
    }
   ],
   "source": [
    "add(100)"
   ]
  },
  {
   "cell_type": "code",
   "execution_count": 37,
   "metadata": {
    "colab": {
     "base_uri": "https://localhost:8080/",
     "height": 35
    },
    "id": "A2QoT5vYhwlh",
    "outputId": "665030aa-2ac4-4ab7-b78a-c5237eaa739f"
   },
   "outputs": [
    {
     "data": {
      "text/plain": [
       "'ABC'"
      ]
     },
     "execution_count": 37,
     "metadata": {},
     "output_type": "execute_result"
    }
   ],
   "source": [
    "\"abc\".upper()"
   ]
  },
  {
   "cell_type": "code",
   "execution_count": 38,
   "metadata": {
    "colab": {
     "base_uri": "https://localhost:8080/",
     "height": 35
    },
    "id": "UpvjQjJhiNWw",
    "outputId": "e7ff3158-4797-4bd8-b7a8-b1ea14243716"
   },
   "outputs": [
    {
     "data": {
      "text/plain": [
       "'abc'"
      ]
     },
     "execution_count": 38,
     "metadata": {},
     "output_type": "execute_result"
    }
   ],
   "source": [
    "\"ABC\".lower()"
   ]
  },
  {
   "cell_type": "code",
   "execution_count": 39,
   "metadata": {
    "id": "prZi1_QciPq4"
   },
   "outputs": [],
   "source": [
    "def string_uppder_lower(str, option=False):\n",
    "  if option:\n",
    "    return str.upper()\n",
    "  else:\n",
    "    return str.lower()"
   ]
  },
  {
   "cell_type": "code",
   "execution_count": 40,
   "metadata": {
    "colab": {
     "base_uri": "https://localhost:8080/",
     "height": 35
    },
    "id": "yOemg6pEiiXA",
    "outputId": "8d8a789d-54e4-40b5-9adf-204d34889108"
   },
   "outputs": [
    {
     "data": {
      "text/plain": [
       "'abdedafdadasbdfeadsfa'"
      ]
     },
     "execution_count": 40,
     "metadata": {},
     "output_type": "execute_result"
    }
   ],
   "source": [
    "string_uppder_lower('ABDEdafdadASBDFeadsfa')"
   ]
  },
  {
   "cell_type": "code",
   "execution_count": 41,
   "metadata": {
    "colab": {
     "base_uri": "https://localhost:8080/",
     "height": 35
    },
    "id": "U_WM8SsGinoQ",
    "outputId": "20c51219-42b4-4b06-971c-e2ee5341ff8f"
   },
   "outputs": [
    {
     "data": {
      "text/plain": [
       "'ABDEDAFDADASBDFEADSFA'"
      ]
     },
     "execution_count": 41,
     "metadata": {},
     "output_type": "execute_result"
    }
   ],
   "source": [
    "string_uppder_lower('ABDEdafdadASBDFeadsfa',True)"
   ]
  },
  {
   "cell_type": "code",
   "execution_count": 42,
   "metadata": {
    "id": "CO1B1lV9iqNQ"
   },
   "outputs": [],
   "source": [
    "def add(x2=5 , x1=10):\n",
    "  return x1 + x2"
   ]
  },
  {
   "cell_type": "code",
   "execution_count": 99,
   "metadata": {
    "colab": {
     "base_uri": "https://localhost:8080/"
    },
    "id": "qMeyFBZqlkar",
    "outputId": "ebd57001-2d5a-40d5-ce1b-f72bc138351c"
   },
   "outputs": [
    {
     "data": {
      "text/plain": [
       "110"
      ]
     },
     "execution_count": 99,
     "metadata": {},
     "output_type": "execute_result"
    }
   ],
   "source": [
    "add(100)"
   ]
  },
  {
   "cell_type": "markdown",
   "metadata": {
    "id": "J6YJSOHAmIUZ"
   },
   "source": [
    "디폴트 매개변수는 항상 뒤에서부터 채운다"
   ]
  },
  {
   "cell_type": "code",
   "execution_count": 43,
   "metadata": {
    "id": "627LKGNml1AX"
   },
   "outputs": [],
   "source": [
    "def add(x1,x2=2,x3=5,x4=5):\n",
    "  return x1+x2+x3+x4"
   ]
  },
  {
   "cell_type": "code",
   "execution_count": 50,
   "metadata": {},
   "outputs": [
    {
     "data": {
      "text/plain": [
       "112"
      ]
     },
     "execution_count": 50,
     "metadata": {},
     "output_type": "execute_result"
    }
   ],
   "source": [
    "add(100)"
   ]
  },
  {
   "cell_type": "markdown",
   "metadata": {
    "id": "hxq-zuBNmeAb"
   },
   "source": [
    "키워드 매개변수"
   ]
  },
  {
   "cell_type": "code",
   "execution_count": 51,
   "metadata": {
    "id": "x2BX_xR0mXsO"
   },
   "outputs": [],
   "source": [
    "def add(x1,x2):\n",
    "  print(f\"x1 : {x1}\")\n",
    "  print(f\"x2 : {x2}\")"
   ]
  },
  {
   "cell_type": "code",
   "execution_count": 52,
   "metadata": {
    "colab": {
     "base_uri": "https://localhost:8080/"
    },
    "id": "q9aBknfwm3RQ",
    "outputId": "fca16fad-f3b0-4cde-f556-5ee5173c4d54"
   },
   "outputs": [
    {
     "name": "stdout",
     "output_type": "stream",
     "text": [
      "x1 : 20\n",
      "x2 : 10\n"
     ]
    }
   ],
   "source": [
    "add(x2=10,x1=20)"
   ]
  },
  {
   "cell_type": "markdown",
   "metadata": {
    "id": "VOLrgmkbnk0S"
   },
   "source": [
    "가변 키워드 매개변수"
   ]
  },
  {
   "cell_type": "code",
   "execution_count": 106,
   "metadata": {
    "id": "hvSGiaW3m4XX"
   },
   "outputs": [],
   "source": [
    "def abc(**kargs):\n",
    "  print(kargs)"
   ]
  },
  {
   "cell_type": "code",
   "execution_count": 109,
   "metadata": {
    "colab": {
     "base_uri": "https://localhost:8080/"
    },
    "id": "E8APAA3Cn0lW",
    "outputId": "fba4e1f7-a9c6-4316-f6d5-f4318815e94a"
   },
   "outputs": [
    {
     "name": "stdout",
     "output_type": "stream",
     "text": [
      "{'a': 1, 'b': 2}\n"
     ]
    }
   ],
   "source": [
    "abc(a=1,b=2)"
   ]
  },
  {
   "cell_type": "code",
   "execution_count": 110,
   "metadata": {
    "id": "PGRevInYn2Pv"
   },
   "outputs": [],
   "source": [
    "def process_info(**kargs):\n",
    "  for key,value in kargs.items():\n",
    "    print(f\"key:{key}, value:{value}\")"
   ]
  },
  {
   "cell_type": "code",
   "execution_count": 111,
   "metadata": {
    "colab": {
     "base_uri": "https://localhost:8080/"
    },
    "id": "AzR7_np6ofYm",
    "outputId": "b86ac0fb-6c61-4083-c648-d779e577263b"
   },
   "outputs": [
    {
     "name": "stdout",
     "output_type": "stream",
     "text": [
      "key:name, value:홍길동\n",
      "key:age, value:25\n",
      "key:address, value:서울시\n"
     ]
    }
   ],
   "source": [
    "process_info(name=\"홍길동\",age=\"25\",address=\"서울시\")"
   ]
  },
  {
   "cell_type": "markdown",
   "metadata": {
    "id": "FSBH90tfqMgX"
   },
   "source": [
    "함수의 리턴 값은 한개일까?\n",
    "  - 여러개의 값을 리턴하려면\n",
    "    - 함수의 실행 결과 그 결과한개 이상 받으려면"
   ]
  },
  {
   "cell_type": "code",
   "execution_count": 53,
   "metadata": {
    "id": "AZYrX4l_p55W"
   },
   "outputs": [],
   "source": [
    "# 리스트를 리턴하는 함수\n",
    "# 주어진 데이터들에서 짝수만 골라서 리턴\n",
    "def get_ood(*args):\n",
    "  result = []\n",
    "  for data in args:\n",
    "    if data % 2 == 0:\n",
    "      result.append(data)\n",
    "  return result"
   ]
  },
  {
   "cell_type": "code",
   "execution_count": 54,
   "metadata": {
    "colab": {
     "base_uri": "https://localhost:8080/"
    },
    "id": "7Cp6NR0lrHd-",
    "outputId": "091e7f71-95e8-4a50-d3e5-c792fb78d748"
   },
   "outputs": [
    {
     "data": {
      "text/plain": [
       "[2, 4, 10, 20, 52, 214, 10, 20]"
      ]
     },
     "execution_count": 54,
     "metadata": {},
     "output_type": "execute_result"
    }
   ],
   "source": [
    "get_ood(1,2,3,4,10,20,1,52,214,10,20)"
   ]
  },
  {
   "cell_type": "code",
   "execution_count": 55,
   "metadata": {
    "id": "Hqii26-brMgm"
   },
   "outputs": [],
   "source": [
    "# 함수에 데이터들을 전달하면 그중에서 최대값과 최소값을 출력한다.\n",
    "def get_min_max(*args):\n",
    "  return max(args), min(args)"
   ]
  },
  {
   "cell_type": "code",
   "execution_count": 56,
   "metadata": {
    "colab": {
     "base_uri": "https://localhost:8080/"
    },
    "id": "hHlqLZfIriVe",
    "outputId": "e1832389-75df-42aa-c937-22c62f9c5fa8"
   },
   "outputs": [
    {
     "data": {
      "text/plain": [
       "(100, 1)"
      ]
     },
     "execution_count": 56,
     "metadata": {},
     "output_type": "execute_result"
    }
   ],
   "source": [
    "max_val, min_val =  get_min_max(2,5,4,1,5,1,2,1,45,100)\n",
    "max_val, min_val"
   ]
  },
  {
   "cell_type": "markdown",
   "metadata": {
    "id": "4t0tAs0Lr7Bi"
   },
   "source": [
    "함수에 전달하는 값은... 원본이 넘어가는게 아니라 함수가 전달한 값을 자체 생성한 변수로 받아온다."
   ]
  },
  {
   "cell_type": "code",
   "execution_count": 57,
   "metadata": {
    "id": "IHbzJKc9rmbN"
   },
   "outputs": [],
   "source": [
    "def temp(abc):\n",
    "  abc = 10000"
   ]
  },
  {
   "cell_type": "code",
   "execution_count": 58,
   "metadata": {
    "colab": {
     "base_uri": "https://localhost:8080/"
    },
    "id": "NjIRAXO2ruE-",
    "outputId": "cbf3faaa-9032-4bd4-e239-7f3fd26bc029"
   },
   "outputs": [
    {
     "name": "stdout",
     "output_type": "stream",
     "text": [
      "50\n"
     ]
    }
   ],
   "source": [
    "abc = 50\n",
    "temp(abc)\n",
    "print(abc)"
   ]
  },
  {
   "cell_type": "code",
   "execution_count": 59,
   "metadata": {
    "id": "Ylva02ZisYtm"
   },
   "outputs": [],
   "source": [
    "list1 = [1,2,3,4,5]\n",
    "list2 = list1"
   ]
  },
  {
   "cell_type": "code",
   "execution_count": 60,
   "metadata": {
    "colab": {
     "base_uri": "https://localhost:8080/"
    },
    "id": "prLabVJ1tPuN",
    "outputId": "49480f1b-b81a-4fa2-be0e-79677f041d62"
   },
   "outputs": [
    {
     "data": {
      "text/plain": [
       "[1, 2, 3, 4, 5]"
      ]
     },
     "execution_count": 60,
     "metadata": {},
     "output_type": "execute_result"
    }
   ],
   "source": [
    "list1"
   ]
  },
  {
   "cell_type": "code",
   "execution_count": 61,
   "metadata": {
    "colab": {
     "base_uri": "https://localhost:8080/"
    },
    "id": "c6khykMvtQZl",
    "outputId": "8a2584a9-d391-43b1-b1e4-37301c01c846"
   },
   "outputs": [
    {
     "data": {
      "text/plain": [
       "[1, 2, 3, 4, 5]"
      ]
     },
     "execution_count": 61,
     "metadata": {},
     "output_type": "execute_result"
    }
   ],
   "source": [
    "list2"
   ]
  },
  {
   "cell_type": "code",
   "execution_count": 62,
   "metadata": {
    "colab": {
     "base_uri": "https://localhost:8080/"
    },
    "id": "nq2kGesitRNm",
    "outputId": "7eda28ca-a1e1-473e-f02f-788520d74e0d"
   },
   "outputs": [
    {
     "data": {
      "text/plain": [
       "[100, 2, 3, 4, 5]"
      ]
     },
     "execution_count": 62,
     "metadata": {},
     "output_type": "execute_result"
    }
   ],
   "source": [
    "list2[0] = 100\n",
    "list2"
   ]
  },
  {
   "cell_type": "code",
   "execution_count": 63,
   "metadata": {
    "colab": {
     "base_uri": "https://localhost:8080/"
    },
    "id": "ELakFEhCtSwl",
    "outputId": "d1204872-0ab6-4a0b-ca09-372f5e7a03b4"
   },
   "outputs": [
    {
     "data": {
      "text/plain": [
       "[100, 2, 3, 4, 5]"
      ]
     },
     "execution_count": 63,
     "metadata": {},
     "output_type": "execute_result"
    }
   ],
   "source": [
    "list1"
   ]
  },
  {
   "cell_type": "markdown",
   "metadata": {
    "id": "sUYmoLotuHbE"
   },
   "source": [
    " - 값에 의한 호출 : call by value\n",
    " - 주소에 의한 호출 : call by reference"
   ]
  },
  {
   "cell_type": "code",
   "execution_count": 64,
   "metadata": {
    "id": "9f1zGzm9vJqW"
   },
   "outputs": [],
   "source": [
    "def makeDict(dic_value):\n",
    "  if \"홍길동\" not in dic_value:\n",
    "    dic_value['홍길동'] = 1"
   ]
  },
  {
   "cell_type": "code",
   "execution_count": 65,
   "metadata": {
    "colab": {
     "base_uri": "https://localhost:8080/"
    },
    "id": "6DDPtIR2tXxg",
    "outputId": "58bc9ff2-2111-4eb7-e051-606764f4450f"
   },
   "outputs": [
    {
     "data": {
      "text/plain": [
       "{'이순신': 100}"
      ]
     },
     "execution_count": 65,
     "metadata": {},
     "output_type": "execute_result"
    }
   ],
   "source": [
    "dict1 = {'이순신':100}\n",
    "dict1"
   ]
  },
  {
   "cell_type": "code",
   "execution_count": 150,
   "metadata": {
    "id": "0Hwq2xF9vGh1"
   },
   "outputs": [],
   "source": [
    "makeDict(dict1)"
   ]
  },
  {
   "cell_type": "code",
   "execution_count": 151,
   "metadata": {
    "colab": {
     "base_uri": "https://localhost:8080/"
    },
    "id": "qBIQQDEivHYw",
    "outputId": "e20ba421-3c14-4b99-91fd-65fb3320a0cf"
   },
   "outputs": [
    {
     "data": {
      "text/plain": [
       "{'이순신': 100, '홍길동': 1}"
      ]
     },
     "execution_count": 151,
     "metadata": {},
     "output_type": "execute_result"
    }
   ],
   "source": [
    "dict1"
   ]
  },
  {
   "cell_type": "code",
   "execution_count": null,
   "metadata": {
    "id": "usEdsXV8vdl4"
   },
   "outputs": [],
   "source": []
  }
 ],
 "metadata": {
  "colab": {
   "provenance": []
  },
  "kernelspec": {
   "display_name": "Python 3",
   "language": "python",
   "name": "python3"
  },
  "language_info": {
   "codemirror_mode": {
    "name": "ipython",
    "version": 3
   },
   "file_extension": ".py",
   "mimetype": "text/x-python",
   "name": "python",
   "nbconvert_exporter": "python",
   "pygments_lexer": "ipython3",
   "version": "3.8.5"
  }
 },
 "nbformat": 4,
 "nbformat_minor": 1
}
