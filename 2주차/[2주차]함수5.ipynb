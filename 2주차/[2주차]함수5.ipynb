{
 "cells": [
  {
   "cell_type": "markdown",
   "metadata": {
    "id": "kXs4sAuFv3-O"
   },
   "source": [
    "람다함수\n",
    "  - 이름없이 사용하는 함수로\n",
    "  - 다른 함수에 파라메터로 전달될때 사용\n",
    "  - map,filter,sorted\n",
    "  - lambda 파라메터 : 로직\n",
    "  - 한줄 코딩"
   ]
  },
  {
   "cell_type": "code",
   "execution_count": 1,
   "metadata": {
    "id": "DXB5qk7mv8U9"
   },
   "outputs": [],
   "source": [
    "def add(x, y):\n",
    "  return x + y"
   ]
  },
  {
   "cell_type": "code",
   "execution_count": 2,
   "metadata": {
    "colab": {
     "base_uri": "https://localhost:8080/"
    },
    "id": "n208ybZpwnjm",
    "outputId": "8ffb5ef8-5cc0-4c07-c2c8-8f8cfd273605"
   },
   "outputs": [
    {
     "data": {
      "text/plain": [
       "30"
      ]
     },
     "execution_count": 2,
     "metadata": {},
     "output_type": "execute_result"
    }
   ],
   "source": [
    "add(10,20)"
   ]
  },
  {
   "cell_type": "code",
   "execution_count": 3,
   "metadata": {
    "id": "KoI0bPN0wpDU"
   },
   "outputs": [],
   "source": [
    "add2 = lambda x,y : x + y"
   ]
  },
  {
   "cell_type": "code",
   "execution_count": 4,
   "metadata": {
    "colab": {
     "base_uri": "https://localhost:8080/"
    },
    "id": "IAWYgUzPwvmc",
    "outputId": "1f1f684e-0a1f-4056-be98-ab5ab3801c74"
   },
   "outputs": [
    {
     "data": {
      "text/plain": [
       "30"
      ]
     },
     "execution_count": 4,
     "metadata": {},
     "output_type": "execute_result"
    }
   ],
   "source": [
    "add2(10,20)"
   ]
  },
  {
   "cell_type": "code",
   "execution_count": 5,
   "metadata": {
    "colab": {
     "base_uri": "https://localhost:8080/"
    },
    "id": "IFsspXBkwzas",
    "outputId": "9dae1b46-45b8-4417-ddee-1e19f4a924b3"
   },
   "outputs": [
    {
     "data": {
      "text/plain": [
       "25"
      ]
     },
     "execution_count": 5,
     "metadata": {},
     "output_type": "execute_result"
    }
   ],
   "source": [
    "square = lambda x : x**2\n",
    "square(5)"
   ]
  },
  {
   "cell_type": "code",
   "execution_count": 6,
   "metadata": {
    "colab": {
     "base_uri": "https://localhost:8080/"
    },
    "id": "h73yYnlixJkk",
    "outputId": "c8cad3ef-a867-41d6-87ea-57861f0f3d5b"
   },
   "outputs": [
    {
     "data": {
      "text/plain": [
       "11"
      ]
     },
     "execution_count": 6,
     "metadata": {},
     "output_type": "execute_result"
    }
   ],
   "source": [
    "# 문자열의 길이를 반환하는 람다함수\n",
    "length = lambda x : len(x)\n",
    "length(\"hello world\")"
   ]
  },
  {
   "cell_type": "code",
   "execution_count": 7,
   "metadata": {
    "colab": {
     "base_uri": "https://localhost:8080/",
     "height": 35
    },
    "id": "wdjiOM75xnHk",
    "outputId": "81b6103a-d06c-4fa4-983f-1e6b881fc38f"
   },
   "outputs": [
    {
     "data": {
      "text/plain": [
       "'ABC'"
      ]
     },
     "execution_count": 7,
     "metadata": {},
     "output_type": "execute_result"
    }
   ],
   "source": [
    "# 문자열을 모두 대문자로 반환하는 람다\n",
    "uppercase = lambda x : x.upper()\n",
    "uppercase(\"abc\")"
   ]
  },
  {
   "cell_type": "code",
   "execution_count": 8,
   "metadata": {
    "colab": {
     "base_uri": "https://localhost:8080/"
    },
    "id": "rjc9uOkiyNJ7",
    "outputId": "aa51667c-828c-452c-f655-6d030c664d3d"
   },
   "outputs": [
    {
     "data": {
      "text/plain": [
       "True"
      ]
     },
     "execution_count": 8,
     "metadata": {},
     "output_type": "execute_result"
    }
   ],
   "source": [
    "# 홀수인지 확인하는 람다\n",
    "is_odd = lambda x : x % 2 != 0\n",
    "is_odd(11)"
   ]
  },
  {
   "cell_type": "code",
   "execution_count": 9,
   "metadata": {
    "colab": {
     "base_uri": "https://localhost:8080/"
    },
    "id": "f8MLX0SOyg9d",
    "outputId": "9a127492-2990-4bd0-ed22-2b7cafa70611"
   },
   "outputs": [
    {
     "data": {
      "text/plain": [
       "[2, 4, 6, 8, 10]"
      ]
     },
     "execution_count": 9,
     "metadata": {},
     "output_type": "execute_result"
    }
   ],
   "source": [
    "# 리스트에서 짝수만 필터링을 람다를 이용해서\n",
    "numbers = list(range(1,11))\n",
    "list(filter( lambda x : x%2==0 , numbers))"
   ]
  },
  {
   "cell_type": "code",
   "execution_count": 10,
   "metadata": {
    "colab": {
     "base_uri": "https://localhost:8080/"
    },
    "id": "aJbRmruPyrv0",
    "outputId": "91f2585b-82b3-41f0-c32c-53f00fc3e95c"
   },
   "outputs": [
    {
     "data": {
      "text/plain": [
       "[101, 102, 103, 104, 105, 106, 107, 108, 109, 110]"
      ]
     },
     "execution_count": 10,
     "metadata": {},
     "output_type": "execute_result"
    }
   ],
   "source": [
    "list(map(lambda x: x+100, numbers))"
   ]
  },
  {
   "cell_type": "code",
   "execution_count": 11,
   "metadata": {
    "colab": {
     "base_uri": "https://localhost:8080/"
    },
    "id": "8YGpCquGz44M",
    "outputId": "ae8ddf99-9f38-4c25-b8de-fcf3859f8f9c"
   },
   "outputs": [
    {
     "data": {
      "text/plain": [
       "[102, 104, 106, 108, 110]"
      ]
     },
     "execution_count": 11,
     "metadata": {},
     "output_type": "execute_result"
    }
   ],
   "source": [
    "# 주어진 리스트에서 각각의 값에 100을 더한후 짝수만 추려내자.\n",
    "numbers = list(range(1,11))\n",
    "list(filter(lambda x: x%2 ==0,  map(lambda x: x+100, numbers)))"
   ]
  },
  {
   "cell_type": "code",
   "execution_count": 12,
   "metadata": {
    "colab": {
     "base_uri": "https://localhost:8080/"
    },
    "id": "bYChgL6l0g1u",
    "outputId": "949178ce-009a-4ef9-b8b0-9b1fadf46606"
   },
   "outputs": [
    {
     "data": {
      "text/plain": [
       "[2, 4, 6, 8, 10, 12, 14, 16, 18, 20]"
      ]
     },
     "execution_count": 12,
     "metadata": {},
     "output_type": "execute_result"
    }
   ],
   "source": [
    "# 리스트에서 각 요소에 2를 곱해서 리스트로 출력하기\n",
    "numbers = list(range(1,11))\n",
    "list(map(lambda x : x*2, numbers))"
   ]
  },
  {
   "cell_type": "code",
   "execution_count": 13,
   "metadata": {
    "colab": {
     "base_uri": "https://localhost:8080/"
    },
    "id": "XFvSVyw51fDy",
    "outputId": "38dcb0b8-c96e-4f66-e42d-09b643b2d915"
   },
   "outputs": [
    {
     "data": {
      "text/plain": [
       "20"
      ]
     },
     "execution_count": 13,
     "metadata": {},
     "output_type": "execute_result"
    }
   ],
   "source": [
    "# 두 값중에 가장 큰 값을 반환하는 람다 함수\n",
    "max_value = lambda x, y : x if x > y else y\n",
    "max_value(10,20)"
   ]
  },
  {
   "cell_type": "code",
   "execution_count": 14,
   "metadata": {
    "colab": {
     "base_uri": "https://localhost:8080/"
    },
    "id": "gh5yY3s02K2t",
    "outputId": "abeb2fc3-2a0b-4c3e-bfbe-2497d2d62bcb"
   },
   "outputs": [
    {
     "name": "stdout",
     "output_type": "stream",
     "text": [
      "{'e': 50, 'b': 20, 'c': 30, 'd': 40, 'a': 10}\n",
      "dict_items([('e', 50), ('b', 20), ('c', 30), ('d', 40), ('a', 10)])\n"
     ]
    }
   ],
   "source": [
    "names = ['e','b','c','d','a']\n",
    "age = [50,20,30,40,10]\n",
    "dic1 = dict(zip(names,age))\n",
    "print(dic1)\n",
    "print(dic1.items())"
   ]
  },
  {
   "cell_type": "code",
   "execution_count": 15,
   "metadata": {
    "colab": {
     "base_uri": "https://localhost:8080/"
    },
    "id": "zkgELVF62ZTK",
    "outputId": "ebb4d6da-5ea4-43c3-d2a1-39e29bd70fd2"
   },
   "outputs": [
    {
     "data": {
      "text/plain": [
       "[('a', 10), ('b', 20), ('c', 30), ('d', 40), ('e', 50)]"
      ]
     },
     "execution_count": 15,
     "metadata": {},
     "output_type": "execute_result"
    }
   ],
   "source": [
    "# value를 기준으로 기본인 오름차순으로 정렬\n",
    "def asc(x):\n",
    "  return x[0]\n",
    "sorted(dic1.items(), key=asc)"
   ]
  },
  {
   "cell_type": "code",
   "execution_count": 16,
   "metadata": {
    "colab": {
     "base_uri": "https://localhost:8080/"
    },
    "id": "kttt3qG_21EL",
    "outputId": "6eddc216-a45f-4fa1-a503-97992b0629e5"
   },
   "outputs": [
    {
     "data": {
      "text/plain": [
       "[('e', 50), ('d', 40), ('c', 30), ('b', 20), ('a', 10)]"
      ]
     },
     "execution_count": 16,
     "metadata": {},
     "output_type": "execute_result"
    }
   ],
   "source": [
    "sorted(dic1.items(), key= lambda x : x[0] ,reverse=True)"
   ]
  },
  {
   "cell_type": "code",
   "execution_count": 17,
   "metadata": {
    "colab": {
     "base_uri": "https://localhost:8080/"
    },
    "id": "STqEgTK-3fYL",
    "outputId": "f331747a-8eaa-445b-92ab-8d24fe277b46"
   },
   "outputs": [
    {
     "data": {
      "text/plain": [
       "[{'name': 'leeky', 'score': 95},\n",
       " {'name': 'Alice', 'score': 100},\n",
       " {'name': 'Bob', 'score': 99},\n",
       " {'name': 'Charlie', 'score': 80}]"
      ]
     },
     "execution_count": 17,
     "metadata": {},
     "output_type": "execute_result"
    }
   ],
   "source": [
    "# 리스트안에 딕셔너리가 요소로 있으면\n",
    "students = [\n",
    "    {'name':'leeky','score':95},\n",
    "    {'name':'Alice','score':100},\n",
    "    {'name':'Bob','score':99},\n",
    "    {'name':'Charlie','score':80}\n",
    "]\n",
    "students"
   ]
  },
  {
   "cell_type": "code",
   "execution_count": 18,
   "metadata": {
    "colab": {
     "base_uri": "https://localhost:8080/"
    },
    "id": "C-zYAT7R4Ldb",
    "outputId": "0b05c3fd-b07f-464d-8085-a239b6d43a9d"
   },
   "outputs": [
    {
     "data": {
      "text/plain": [
       "[{'name': 'Charlie', 'score': 80},\n",
       " {'name': 'leeky', 'score': 95},\n",
       " {'name': 'Bob', 'score': 99},\n",
       " {'name': 'Alice', 'score': 100}]"
      ]
     },
     "execution_count": 18,
     "metadata": {},
     "output_type": "execute_result"
    }
   ],
   "source": [
    "sorted(students, key=lambda x: x['score'])"
   ]
  },
  {
   "cell_type": "code",
   "execution_count": 19,
   "metadata": {
    "id": "i1QWw59D44Fq"
   },
   "outputs": [],
   "source": [
    "students.sort(key=lambda x: x['name'])"
   ]
  },
  {
   "cell_type": "code",
   "execution_count": 20,
   "metadata": {
    "colab": {
     "base_uri": "https://localhost:8080/"
    },
    "id": "5PyrtFpa5iDB",
    "outputId": "ee4a8496-7b92-479f-cbd4-9734f4ac861b"
   },
   "outputs": [
    {
     "data": {
      "text/plain": [
       "[{'name': 'Alice', 'score': 100},\n",
       " {'name': 'Bob', 'score': 99},\n",
       " {'name': 'Charlie', 'score': 80},\n",
       " {'name': 'leeky', 'score': 95}]"
      ]
     },
     "execution_count": 20,
     "metadata": {},
     "output_type": "execute_result"
    }
   ],
   "source": [
    "students"
   ]
  },
  {
   "cell_type": "code",
   "execution_count": 21,
   "metadata": {
    "colab": {
     "base_uri": "https://localhost:8080/",
     "height": 35
    },
    "id": "feau3mlV5kLi",
    "outputId": "9c50e9f7-0632-4800-972c-10e0fa32f130"
   },
   "outputs": [
    {
     "data": {
      "text/plain": [
       "'Alex'"
      ]
     },
     "execution_count": 21,
     "metadata": {},
     "output_type": "execute_result"
    }
   ],
   "source": [
    "# 모든 문자열의 첫 글자는 대문자로 변경한다. --> 람다 함수\n",
    "name = 'alex'\n",
    "# Alex\n",
    "name[0].upper() + name[1:]"
   ]
  },
  {
   "cell_type": "code",
   "execution_count": 22,
   "metadata": {
    "colab": {
     "base_uri": "https://localhost:8080/",
     "height": 35
    },
    "id": "_ga6UFno6G_7",
    "outputId": "0a536d79-b8ed-43f4-b7f9-4860036018bb"
   },
   "outputs": [
    {
     "data": {
      "text/plain": [
       "'Adsfeafdsafads'"
      ]
     },
     "execution_count": 22,
     "metadata": {},
     "output_type": "execute_result"
    }
   ],
   "source": [
    "capitalize_first_letter = lambda x : x[0].upper()+x[1:]\n",
    "capitalize_first_letter(\"adsfeafdsafads\")"
   ]
  },
  {
   "cell_type": "markdown",
   "metadata": {
    "id": "azNiUrrx9xyL"
   },
   "source": [
    "간단한 고객 관리 프로그램\n",
    "  - 고객 정보 추가\n",
    "  - 고객 정보 검색\n",
    "  - 메뉴 출력"
   ]
  },
  {
   "cell_type": "code",
   "execution_count": 23,
   "metadata": {
    "id": "sq5eJhlb6WwS"
   },
   "outputs": [],
   "source": [
    "# 필요한 기술요소(기능)\n",
    "# 사용자 입력\n",
    "customer_list = []"
   ]
  },
  {
   "cell_type": "code",
   "execution_count": 24,
   "metadata": {
    "id": "0L3wTU_p-6ca"
   },
   "outputs": [],
   "source": [
    "def print_menu():\n",
    "  print(\"\\n================ 고객 관리 프로그램 =================\")\n",
    "  print(\"1. 고객 정보 추가\")\n",
    "  print(\"2. 고객 정보 검색\")\n",
    "  print(\"3. 종료\")"
   ]
  },
  {
   "cell_type": "code",
   "execution_count": 25,
   "metadata": {
    "id": "d5xcY0l--6k4"
   },
   "outputs": [],
   "source": [
    "def add_customer():\n",
    "  name = input('이름 : ')\n",
    "  phone = input('전화번호 : ')\n",
    "  email = input('이메일 : ')\n",
    "  customer = {\n",
    "      '이름' : name,\n",
    "      '전화번호' : phone,\n",
    "      '이메일' : email\n",
    "  }\n",
    "  customer_list.append(customer)\n",
    "  print(\"고객정보 생성 완료!\")"
   ]
  },
  {
   "cell_type": "code",
   "execution_count": 26,
   "metadata": {
    "id": "ktwL-z4S_JFx"
   },
   "outputs": [],
   "source": [
    "def search_customer():\n",
    "  find = []\n",
    "  name = input('고객 이름 입력 : ')\n",
    "  for cust in customer_list:\n",
    "    if cust['이름'] == name:\n",
    "      find.append(cust)\n",
    "  if find:\n",
    "    for cust in find:\n",
    "      print(f'이름 : {cust[\"이름\"]}')\n",
    "      print(f'전화번호 : {cust[\"전화번호\"]}')\n",
    "      print(f'이메일 : {cust[\"이메일\"]}')\n",
    "  else:\n",
    "    print(\"고객 정보를 찾을수 없습니다.\")"
   ]
  },
  {
   "cell_type": "code",
   "execution_count": 27,
   "metadata": {
    "id": "pl8EsF5N-UWb"
   },
   "outputs": [],
   "source": [
    "def main():\n",
    "  while True:\n",
    "    print_menu()\n",
    "    choice = input(\"메뉴를 선택해 주세요(1,2,3) : \")\n",
    "    if choice == '1':\n",
    "      add_customer()\n",
    "    elif choice == '2':\n",
    "      search_customer()\n",
    "    elif choice == '3':\n",
    "      print(\"프로그램을 종료합니다.\")\n",
    "      break\n",
    "    else:\n",
    "      print('잘못된 입력입니다. 1,2,3 중에 하나를 선택하세요')"
   ]
  },
  {
   "cell_type": "code",
   "execution_count": 28,
   "metadata": {
    "id": "NZaB99pi-WGS"
   },
   "outputs": [
    {
     "name": "stdout",
     "output_type": "stream",
     "text": [
      "\n",
      "================ 고객 관리 프로그램 =================\n",
      "1. 고객 정보 추가\n",
      "2. 고객 정보 검색\n",
      "3. 종료\n",
      "메뉴를 선택해 주세요(1,2,3) : 2\n",
      "고객 이름 입력 : 1\n",
      "고객 정보를 찾을수 없습니다.\n",
      "\n",
      "================ 고객 관리 프로그램 =================\n",
      "1. 고객 정보 추가\n",
      "2. 고객 정보 검색\n",
      "3. 종료\n",
      "메뉴를 선택해 주세요(1,2,3) : 3\n",
      "프로그램을 종료합니다.\n"
     ]
    }
   ],
   "source": [
    "# 프로그램 실행\n",
    "main()"
   ]
  },
  {
   "cell_type": "code",
   "execution_count": 29,
   "metadata": {
    "id": "7GEjbMvXD6l3"
   },
   "outputs": [],
   "source": [
    "# 구구단 출력을 함수로 표현\n",
    "def dan(x_dan):\n",
    "  for i in range(1,10):\n",
    "    print(f'{x_dan} x {i} = {x_dan*i}')"
   ]
  },
  {
   "cell_type": "code",
   "execution_count": 30,
   "metadata": {
    "id": "YswFxtQnF-uH"
   },
   "outputs": [
    {
     "name": "stdout",
     "output_type": "stream",
     "text": [
      "2 x 1 = 2\n",
      "2 x 2 = 4\n",
      "2 x 3 = 6\n",
      "2 x 4 = 8\n",
      "2 x 5 = 10\n",
      "2 x 6 = 12\n",
      "2 x 7 = 14\n",
      "2 x 8 = 16\n",
      "2 x 9 = 18\n",
      "\n",
      "3 x 1 = 3\n",
      "3 x 2 = 6\n",
      "3 x 3 = 9\n",
      "3 x 4 = 12\n",
      "3 x 5 = 15\n",
      "3 x 6 = 18\n",
      "3 x 7 = 21\n",
      "3 x 8 = 24\n",
      "3 x 9 = 27\n",
      "\n",
      "4 x 1 = 4\n",
      "4 x 2 = 8\n",
      "4 x 3 = 12\n",
      "4 x 4 = 16\n",
      "4 x 5 = 20\n",
      "4 x 6 = 24\n",
      "4 x 7 = 28\n",
      "4 x 8 = 32\n",
      "4 x 9 = 36\n",
      "\n",
      "5 x 1 = 5\n",
      "5 x 2 = 10\n",
      "5 x 3 = 15\n",
      "5 x 4 = 20\n",
      "5 x 5 = 25\n",
      "5 x 6 = 30\n",
      "5 x 7 = 35\n",
      "5 x 8 = 40\n",
      "5 x 9 = 45\n",
      "\n",
      "6 x 1 = 6\n",
      "6 x 2 = 12\n",
      "6 x 3 = 18\n",
      "6 x 4 = 24\n",
      "6 x 5 = 30\n",
      "6 x 6 = 36\n",
      "6 x 7 = 42\n",
      "6 x 8 = 48\n",
      "6 x 9 = 54\n",
      "\n",
      "7 x 1 = 7\n",
      "7 x 2 = 14\n",
      "7 x 3 = 21\n",
      "7 x 4 = 28\n",
      "7 x 5 = 35\n",
      "7 x 6 = 42\n",
      "7 x 7 = 49\n",
      "7 x 8 = 56\n",
      "7 x 9 = 63\n",
      "\n",
      "8 x 1 = 8\n",
      "8 x 2 = 16\n",
      "8 x 3 = 24\n",
      "8 x 4 = 32\n",
      "8 x 5 = 40\n",
      "8 x 6 = 48\n",
      "8 x 7 = 56\n",
      "8 x 8 = 64\n",
      "8 x 9 = 72\n",
      "\n",
      "9 x 1 = 9\n",
      "9 x 2 = 18\n",
      "9 x 3 = 27\n",
      "9 x 4 = 36\n",
      "9 x 5 = 45\n",
      "9 x 6 = 54\n",
      "9 x 7 = 63\n",
      "9 x 8 = 72\n",
      "9 x 9 = 81\n",
      "\n"
     ]
    }
   ],
   "source": [
    "# 방금만든 함수를 고치지말고 이용해서 전체 구구단 출력\n",
    "# 단 2단과 3단 이렇게 단과 단사이는 한줄 띄고\n",
    "for i in range(2,10):\n",
    "  dan(i)\n",
    "  print()"
   ]
  },
  {
   "cell_type": "code",
   "execution_count": 31,
   "metadata": {
    "id": "jR8ti8jbMjV1"
   },
   "outputs": [],
   "source": [
    "# 변수, 데이터를 저장하기 위한 방법, 조건문, 순환문 ,함수"
   ]
  },
  {
   "cell_type": "code",
   "execution_count": 32,
   "metadata": {
    "colab": {
     "base_uri": "https://localhost:8080/"
    },
    "id": "ESnvK3mJOVa-",
    "outputId": "fd451cc4-3682-4c9d-fc59-d49fdacf039c"
   },
   "outputs": [
    {
     "name": "stdout",
     "output_type": "stream",
     "text": [
      "listdata, [10, 9, 8, 1, 2, 3]\n",
      "reverse, True\n",
      "sort, True\n"
     ]
    }
   ],
   "source": [
    "# 함수에 사용되는  파라메터 종류\n",
    "# 기본 파라메터  def func(a, b)\n",
    "# 디폴트 파라메터  def func(a,b=0,c=0)\n",
    "#  - 주의사항 뒤에서부터 기록한다.\n",
    "\n",
    "# 가변 파라메터 def func(*args) : args 함수내부에서 리스트로 취급한다\n",
    "\n",
    "# 키워드 파라메터  def func(a,b=0,c=0)  func(1,c=10)\n",
    "\n",
    "def getEvenData(listdata,sort=False,reverse=False):\n",
    "  listdata = list(filter(lambda x: x%2==0, listdata))\n",
    "  if sort:\n",
    "    listdata.sort(reverse = reverse)\n",
    "  return listdata\n",
    "\n",
    "temp = [10,9,8,1,2,3]\n",
    "getEvenData(listdata = temp, reverse=True,sort=True)\n",
    "\n",
    "# 가변 키워드 파라메터  def func(**kargs)  : dictionary로 취급\n",
    "\n",
    "def dynamic_keyword(**kargs):  #packing\n",
    "  for key,value in kargs.items():\n",
    "    print(f'{key}, {value}')\n",
    "\n",
    "dynamic_keyword(listdata = temp, reverse=True,sort=True)"
   ]
  },
  {
   "cell_type": "code",
   "execution_count": 33,
   "metadata": {
    "id": "oFzxwdP9RMEu"
   },
   "outputs": [],
   "source": [
    "def func_unpack(a,b,c):\n",
    "  print(a,b,c)\n",
    "\n",
    "def func_pack(*args):\n",
    "  for i in args:\n",
    "    print(i)"
   ]
  },
  {
   "cell_type": "code",
   "execution_count": 34,
   "metadata": {
    "colab": {
     "base_uri": "https://localhost:8080/"
    },
    "id": "8NU_TXrhTMXb",
    "outputId": "8de4e57e-bd97-4c11-98a7-1c492ec11226"
   },
   "outputs": [
    {
     "name": "stdout",
     "output_type": "stream",
     "text": [
      "10 100 1000\n"
     ]
    }
   ],
   "source": [
    "func_unpack( *[10 , 100 , 1000] )"
   ]
  },
  {
   "cell_type": "code",
   "execution_count": 35,
   "metadata": {
    "colab": {
     "base_uri": "https://localhost:8080/"
    },
    "id": "8PmeC3p0URON",
    "outputId": "06e979b4-4b00-4f28-e819-fc835b4519b6"
   },
   "outputs": [
    {
     "name": "stdout",
     "output_type": "stream",
     "text": [
      "1000 10 100\n"
     ]
    }
   ],
   "source": [
    "func_unpack( **{'b':10,'a':1000,'c':100 }  )"
   ]
  },
  {
   "cell_type": "code",
   "execution_count": 36,
   "metadata": {
    "colab": {
     "base_uri": "https://localhost:8080/"
    },
    "id": "Lu3SPo1yT0Cr",
    "outputId": "25df7b3e-e71b-49aa-9bc5-14b623fa6b0a"
   },
   "outputs": [
    {
     "name": "stdout",
     "output_type": "stream",
     "text": [
      "1\n",
      "2\n",
      "3\n",
      "4\n",
      "5\n",
      "6\n"
     ]
    }
   ],
   "source": [
    "func_pack(1,2,3,4,5,6)"
   ]
  },
  {
   "cell_type": "code",
   "execution_count": 37,
   "metadata": {
    "id": "UDVhfK3lUF3z"
   },
   "outputs": [],
   "source": [
    "from sklearn.linear_model import LogisticRegression"
   ]
  },
  {
   "cell_type": "code",
   "execution_count": 38,
   "metadata": {
    "colab": {
     "base_uri": "https://localhost:8080/",
     "height": 74
    },
    "id": "JS35ZO4qVIBb",
    "outputId": "236a4e7d-d0e9-43a5-b9f9-d1e250ef3ad6"
   },
   "outputs": [
    {
     "data": {
      "text/plain": [
       "LogisticRegression(C=1)"
      ]
     },
     "execution_count": 38,
     "metadata": {},
     "output_type": "execute_result"
    }
   ],
   "source": [
    "params = {\n",
    "    'dual':  False, 'tol': 0.0001, 'C':  1, 'fit_intercept': True, 'intercept_scaling': 1\n",
    "}\n",
    "\n",
    "LogisticRegression(**params)"
   ]
  },
  {
   "cell_type": "code",
   "execution_count": null,
   "metadata": {
    "id": "hiLwOB_gVoxL"
   },
   "outputs": [],
   "source": []
  }
 ],
 "metadata": {
  "colab": {
   "provenance": []
  },
  "kernelspec": {
   "display_name": "Python 3",
   "language": "python",
   "name": "python3"
  },
  "language_info": {
   "codemirror_mode": {
    "name": "ipython",
    "version": 3
   },
   "file_extension": ".py",
   "mimetype": "text/x-python",
   "name": "python",
   "nbconvert_exporter": "python",
   "pygments_lexer": "ipython3",
   "version": "3.8.5"
  }
 },
 "nbformat": 4,
 "nbformat_minor": 1
}
